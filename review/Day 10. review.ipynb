{
 "cells": [
  {
   "cell_type": "code",
   "execution_count": 1,
   "metadata": {},
   "outputs": [],
   "source": [
    "# Decorator : 특정한 function, method를 꾸며주는 것\n",
    "# function의 앞, 뒤로 해야 할 일이나 로깅, 벤치마킹 등 다양한 용도로 쓰일 수 있음\n",
    "# 어떻게 가능한지?\n",
    "# First-class function이기 때문(파이썬이 함수를 일급시민으로 취급하는 것)\n",
    "# 함수를 다른 함수의 인자로 전달하거나, 결과값으로 return 가능\n",
    "# 함수를 변수에 할당하거나 데이터 영역에 저장 가능"
   ]
  },
  {
   "cell_type": "code",
   "execution_count": 2,
   "metadata": {},
   "outputs": [],
   "source": [
    " def make_difference(operator):\n",
    "        if operator == '+':\n",
    "            return lambda x,y:x+y\n",
    "        elif operator == '-':\n",
    "            return lambda x,y:x-y"
   ]
  },
  {
   "cell_type": "code",
   "execution_count": 9,
   "metadata": {},
   "outputs": [
    {
     "data": {
      "text/plain": [
       "<function __main__.make_difference.<locals>.<lambda>(x, y)>"
      ]
     },
     "execution_count": 9,
     "metadata": {},
     "output_type": "execute_result"
    }
   ],
   "source": [
    "plus = make_difference('+')   # 함수를 변수에 할당 가능, 람다는 원래 heap에 저장되는데 전역 변수에 할당이 되어 데이터 영역에 저장\n",
    "plus"
   ]
  },
  {
   "cell_type": "code",
   "execution_count": 6,
   "metadata": {},
   "outputs": [
    {
     "data": {
      "text/plain": [
       "function"
      ]
     },
     "execution_count": 6,
     "metadata": {},
     "output_type": "execute_result"
    }
   ],
   "source": [
    "type(plus)"
   ]
  },
  {
   "cell_type": "code",
   "execution_count": 8,
   "metadata": {},
   "outputs": [
    {
     "data": {
      "text/plain": [
       "3"
      ]
     },
     "execution_count": 8,
     "metadata": {},
     "output_type": "execute_result"
    }
   ],
   "source": [
    "plus(1,2)"
   ]
  },
  {
   "cell_type": "code",
   "execution_count": 11,
   "metadata": {},
   "outputs": [
    {
     "name": "stdout",
     "output_type": "stream",
     "text": [
      "<function print_hello at 0x7f2e20551550> <function print_hello at 0x7f2e20551550>\n"
     ]
    }
   ],
   "source": [
    "# 함수를 변수에 할당하면 그 변수도 함수가 되어 일급시민으로 취급됨\n",
    "def print_hello(msg):\n",
    "    print(msg)\n",
    "    \n",
    "copied = print_hello\n",
    "print(copied, print_hello)    # call by object reference, 할당되어있는 주소값이 같음"
   ]
  },
  {
   "cell_type": "code",
   "execution_count": 10,
   "metadata": {},
   "outputs": [],
   "source": [
    "# Closure: First-class function을 지원하는 언어의 네임을 바인딩(변수에 값을 저장)할 때 사용\n",
    "# : 함수와 함께 함수 자신의 주변 환경을 저장한 레코드를 클로저라고 부름\n",
    "def outer():\n",
    "    text_a = 'John'\n",
    "    def inner():\n",
    "        b = 'Doe'\n",
    "        print(\"My name is {} {}.\".format(text_a,b))\n",
    "    return inner    # 함수 객체만 전달, inner()는 함수를 수행하는 의미로 값이 날라감"
   ]
  },
  {
   "cell_type": "code",
   "execution_count": 11,
   "metadata": {},
   "outputs": [
    {
     "data": {
      "text/plain": [
       "<function __main__.outer.<locals>.inner()>"
      ]
     },
     "execution_count": 11,
     "metadata": {},
     "output_type": "execute_result"
    }
   ],
   "source": [
    "outer()  # inner()를 호출했기 때문에"
   ]
  },
  {
   "cell_type": "code",
   "execution_count": 15,
   "metadata": {},
   "outputs": [
    {
     "data": {
      "text/plain": [
       "<function __main__.outer.<locals>.inner()>"
      ]
     },
     "execution_count": 15,
     "metadata": {},
     "output_type": "execute_result"
    }
   ],
   "source": [
    "func = outer()   # inner객체가 전달되서 func에 inner()이 있음\n",
    "func             # First-class function으로 func도 함수가 됨"
   ]
  },
  {
   "cell_type": "code",
   "execution_count": 16,
   "metadata": {},
   "outputs": [
    {
     "data": {
      "text/plain": [
       "['__repr__',\n",
       " '__call__',\n",
       " '__get__',\n",
       " '__new__',\n",
       " '__closure__',\n",
       " '__doc__',\n",
       " '__globals__',\n",
       " '__module__',\n",
       " '__code__',\n",
       " '__defaults__',\n",
       " '__kwdefaults__',\n",
       " '__annotations__',\n",
       " '__dict__',\n",
       " '__name__',\n",
       " '__qualname__',\n",
       " '__hash__',\n",
       " '__str__',\n",
       " '__getattribute__',\n",
       " '__setattr__',\n",
       " '__delattr__',\n",
       " '__lt__',\n",
       " '__le__',\n",
       " '__eq__',\n",
       " '__ne__',\n",
       " '__gt__',\n",
       " '__ge__',\n",
       " '__init__',\n",
       " '__reduce_ex__',\n",
       " '__reduce__',\n",
       " '__subclasshook__',\n",
       " '__init_subclass__',\n",
       " '__format__',\n",
       " '__sizeof__',\n",
       " '__dir__',\n",
       " '__class__']"
      ]
     },
     "execution_count": 16,
     "metadata": {},
     "output_type": "execute_result"
    }
   ],
   "source": [
    "func.__dir__()  # inner가 수행되기 위한 메소드들을 확인하고, 레코드를 조회하기 위해 closure에 접근해야 함"
   ]
  },
  {
   "cell_type": "code",
   "execution_count": 19,
   "metadata": {},
   "outputs": [
    {
     "data": {
      "text/plain": [
       "(<cell at 0x7f35b85281c0: str object at 0x7f35b851ebf0>,)"
      ]
     },
     "execution_count": 19,
     "metadata": {},
     "output_type": "execute_result"
    }
   ],
   "source": [
    "func.__closure__  # 튜플 형태이고, 0번째 값이 있음"
   ]
  },
  {
   "cell_type": "code",
   "execution_count": 24,
   "metadata": {},
   "outputs": [
    {
     "data": {
      "text/plain": [
       "'John'"
      ]
     },
     "execution_count": 24,
     "metadata": {},
     "output_type": "execute_result"
    }
   ],
   "source": [
    "func.__closure__[0].cell_contents # 값을 조회해 보니, 'John'이 저장되어 있음. \n",
    "                                  # 왜 값을 저장해 두었는지? inner에서 text_a를 참조하니까 inner가 실행될 때 기억하고 있어야 함\n",
    "                                  # closure라는 기능이 없었다면 함수가 실행되지 못했을 것\n",
    "                                  # closure가 함수와 주변부를 레코드로 저장해 두었기 때문에 inner가 수행할 떄 그 레코드에서 값을 가져다 사용함"
   ]
  },
  {
   "cell_type": "code",
   "execution_count": 12,
   "metadata": {},
   "outputs": [],
   "source": [
    "# decorator: 어떤 함수 위에 적어줌, 구조는 inner function을 만들고 inner function을 리턴해야 함\n",
    "# inner == 객체 소환, inner() == inner 수행\n",
    "def rapper(func):                  # 함수 객체 만들고\n",
    "    def wrapper():                 # inner function 만들고\n",
    "        print('너와나의 연결고리..')   #                        ----- 순서 1.\n",
    "        func()                     # 메인function 수행        ----- 순서 2.\n",
    "    return wrapper                 # inner function 리턴하고\n",
    "\n",
    "@rapper #실제로는 wraapper이 실행됨    # 데코레이터의 역할: rapper()을 기준으로 앞에 할 일, 뒤에 할 일을 정의하고 싶을 때 사용\n",
    "def dok2():                        # main function\n",
    "    print('이건 우리 안의 소리')"
   ]
  },
  {
   "cell_type": "code",
   "execution_count": 13,
   "metadata": {},
   "outputs": [
    {
     "name": "stdout",
     "output_type": "stream",
     "text": [
      "너와나의 연결고리..\n",
      "이건 우리 안의 소리\n"
     ]
    }
   ],
   "source": [
    "dok2()"
   ]
  },
  {
   "cell_type": "code",
   "execution_count": 170,
   "metadata": {},
   "outputs": [],
   "source": [
    "def rapper(func):                  # 함수 객체 만들고\n",
    "    def wrapper():                 # inner function 만들고\n",
    "        print('너와나의 연결고리..')\n",
    "        func()                     # 메인function 수행\n",
    "    return wrapper                 # inner function 리턴하고\n",
    "\n",
    "#@rapper                           # 데코레이터의 역할: rapper()을 기준으로 앞에 할 일, 뒤에 할 일을 정의하고 싶을 때 사용\n",
    "def dok2():                        # main function\n",
    "    print('이건 우리 안의 소리')"
   ]
  },
  {
   "cell_type": "code",
   "execution_count": 171,
   "metadata": {},
   "outputs": [
    {
     "name": "stdout",
     "output_type": "stream",
     "text": [
      "너와나의 연결고리..\n",
      "이건 우리 안의 소리\n"
     ]
    }
   ],
   "source": [
    "rapper(dok2)()  # 데코레이터 없이 호출하는 방법"
   ]
  },
  {
   "cell_type": "code",
   "execution_count": 110,
   "metadata": {},
   "outputs": [],
   "source": [
    "def fibo_rec(num):\n",
    "    if num < 2:\n",
    "        return num\n",
    "    else:\n",
    "        return fibo_rec(num-2) + fibo_rec(num-1)"
   ]
  },
  {
   "cell_type": "code",
   "execution_count": 111,
   "metadata": {},
   "outputs": [
    {
     "data": {
      "text/plain": [
       "2"
      ]
     },
     "execution_count": 111,
     "metadata": {},
     "output_type": "execute_result"
    }
   ],
   "source": [
    "fibo_rec(3)   # 계산 속도 오래걸림"
   ]
  },
  {
   "cell_type": "code",
   "execution_count": 116,
   "metadata": {},
   "outputs": [],
   "source": [
    "# 피보나치를 재귀함수로 구현하면 조회해야 하는 값이 반복되서 시간이 오래 걸리기 떄문에 데코레이터를 활용하여 값을 한번만 조회하게 구현\n",
    "def memoize(func):\n",
    "    memo = {}     # closure라 레코드가 저장됨\n",
    "    def wrapper(seq):\n",
    "        print('seq는 {}'.format(seq))\n",
    "        if seq not in memo:            \n",
    "            memo[seq] = func(seq)\n",
    "            print('{}: '.format(seq))\n",
    "            print(memo)\n",
    "        return memo[seq]     \n",
    "    return wrapper\n",
    "\n",
    "@memoize\n",
    "def fib_memo(num):\n",
    "    if num<2:\n",
    "        return num\n",
    "    else:\n",
    "        return fib_memo(num-1) + fib_memo(num-2)"
   ]
  },
  {
   "cell_type": "code",
   "execution_count": 117,
   "metadata": {},
   "outputs": [
    {
     "name": "stdout",
     "output_type": "stream",
     "text": [
      "seq는 3\n",
      "seq는 2\n",
      "seq는 1\n",
      "1: \n",
      "{1: 1}\n",
      "seq는 0\n",
      "0: \n",
      "{1: 1, 0: 0}\n",
      "2: \n",
      "{1: 1, 0: 0, 2: 1}\n",
      "seq는 1\n",
      "3: \n",
      "{1: 1, 0: 0, 2: 1, 3: 2}\n"
     ]
    },
    {
     "data": {
      "text/plain": [
       "2"
      ]
     },
     "execution_count": 117,
     "metadata": {},
     "output_type": "execute_result"
    }
   ],
   "source": [
    "fib_memo(3)"
   ]
  },
  {
   "cell_type": "code",
   "execution_count": null,
   "metadata": {},
   "outputs": [],
   "source": [
    "# practice : 1호차 입니다. ~ 5호차 입니다. 반복문 X"
   ]
  },
  {
   "cell_type": "code",
   "execution_count": 145,
   "metadata": {},
   "outputs": [],
   "source": [
    "# 반복되는 코드가 많아 데코레이터 사용 목적이 없어짐\n",
    "def train_1(func):\n",
    "    def wrapper():\n",
    "        print('1호차 입니다.')\n",
    "        func()\n",
    "    return wrapper\n",
    "\n",
    "def train_2(func):\n",
    "    def wrapper():\n",
    "        print('2호차 입니다.')\n",
    "        func()\n",
    "    return wrapper\n",
    "\n",
    "def train_3(func):\n",
    "    def wrapper():\n",
    "        print('3호차 입니다.')\n",
    "        func()\n",
    "    return wrapper\n",
    "\n",
    "def train_4(func):\n",
    "    def wrapper():\n",
    "        print('4호차 입니다.')\n",
    "        func()\n",
    "    return wrapper\n",
    "\n",
    "\n",
    "@train_1\n",
    "@train_2\n",
    "@train_3\n",
    "@train_4\n",
    "def print_train():\n",
    "    print('5호차 입니다.')"
   ]
  },
  {
   "cell_type": "code",
   "execution_count": 146,
   "metadata": {},
   "outputs": [
    {
     "name": "stdout",
     "output_type": "stream",
     "text": [
      "1호차 입니다.\n",
      "2호차 입니다.\n",
      "3호차 입니다.\n",
      "4호차 입니다.\n",
      "5호차 입니다.\n"
     ]
    }
   ],
   "source": [
    "print_train()"
   ]
  },
  {
   "cell_type": "code",
   "execution_count": 154,
   "metadata": {},
   "outputs": [],
   "source": [
    "from  time import time \n",
    "\n",
    "def time_checker(func):\n",
    "    def wrapper(seq):\n",
    "        start_at = time()\n",
    "        result = func(seq)\n",
    "        end_at = time()\n",
    "        print('연산 시간: {}sec'.format(end_at-start_at))\n",
    "        return result\n",
    "    return wrapper\n",
    "              \n",
    "              \n",
    "@time_checker\n",
    "def fibo_rec(num):\n",
    "    if num < 2:\n",
    "        return num\n",
    "    else:\n",
    "        return fibo_rec(num-1) + fibo_rec(num-2)\n",
    "              "
   ]
  },
  {
   "cell_type": "code",
   "execution_count": 155,
   "metadata": {},
   "outputs": [
    {
     "name": "stdout",
     "output_type": "stream",
     "text": [
      "연산 시간: 4.76837158203125e-07sec\n",
      "연산 시간: 4.76837158203125e-07sec\n",
      "연산 시간: 0.00010848045349121094sec\n",
      "연산 시간: 7.152557373046875e-07sec\n",
      "연산 시간: 0.0002684593200683594sec\n",
      "연산 시간: 2.384185791015625e-07sec\n",
      "연산 시간: 4.76837158203125e-07sec\n",
      "연산 시간: 4.363059997558594e-05sec\n",
      "연산 시간: 0.00035381317138671875sec\n",
      "연산 시간: 2.384185791015625e-07sec\n",
      "연산 시간: 4.76837158203125e-07sec\n",
      "연산 시간: 4.1484832763671875e-05sec\n",
      "연산 시간: 9.5367431640625e-07sec\n",
      "연산 시간: 0.0005893707275390625sec\n",
      "연산 시간: 0.0009946823120117188sec\n",
      "연산 시간: 2.384185791015625e-07sec\n",
      "연산 시간: 4.76837158203125e-07sec\n",
      "연산 시간: 4.482269287109375e-05sec\n",
      "연산 시간: 2.384185791015625e-07sec\n",
      "연산 시간: 8.559226989746094e-05sec\n",
      "연산 시간: 4.76837158203125e-07sec\n",
      "연산 시간: 2.384185791015625e-07sec\n",
      "연산 시간: 4.076957702636719e-05sec\n",
      "연산 시간: 0.00016736984252929688sec\n",
      "연산 시간: 0.0012030601501464844sec\n",
      "연산 시간: 2.384185791015625e-07sec\n",
      "연산 시간: 2.384185791015625e-07sec\n",
      "연산 시간: 4.00543212890625e-05sec\n",
      "연산 시간: 4.76837158203125e-07sec\n",
      "연산 시간: 0.0003998279571533203sec\n",
      "연산 시간: 2.384185791015625e-07sec\n",
      "연산 시간: 4.76837158203125e-07sec\n",
      "연산 시간: 4.1484832763671875e-05sec\n",
      "연산 시간: 0.0004856586456298828sec\n",
      "연산 시간: 2.384185791015625e-07sec\n",
      "연산 시간: 7.152557373046875e-07sec\n",
      "연산 시간: 6.842613220214844e-05sec\n",
      "연산 시간: 2.384185791015625e-07sec\n",
      "연산 시간: 0.00011706352233886719sec\n",
      "연산 시간: 0.0006515979766845703sec\n",
      "연산 시간: 0.0018935203552246094sec\n",
      "연산 시간: 2.384185791015625e-07sec\n",
      "연산 시간: 2.384185791015625e-07sec\n",
      "연산 시간: 4.00543212890625e-05sec\n",
      "연산 시간: 2.384185791015625e-07sec\n",
      "연산 시간: 7.987022399902344e-05sec\n",
      "연산 시간: 2.384185791015625e-07sec\n",
      "연산 시간: 2.384185791015625e-07sec\n",
      "연산 시간: 3.933906555175781e-05sec\n",
      "연산 시간: 0.00015783309936523438sec\n",
      "연산 시간: 2.384185791015625e-07sec\n",
      "연산 시간: 2.384185791015625e-07sec\n",
      "연산 시간: 3.981590270996094e-05sec\n",
      "연산 시간: 4.76837158203125e-07sec\n",
      "연산 시간: 7.891654968261719e-05sec\n",
      "연산 시간: 0.0002751350402832031sec\n",
      "연산 시간: 2.384185791015625e-07sec\n",
      "연산 시간: 0.0sec\n",
      "연산 시간: 3.790855407714844e-05sec\n",
      "연산 시간: 2.384185791015625e-07sec\n",
      "연산 시간: 7.82012939453125e-05sec\n",
      "연산 시간: 2.384185791015625e-07sec\n",
      "연산 시간: 2.384185791015625e-07sec\n",
      "연산 시간: 3.910064697265625e-05sec\n",
      "연산 시간: 0.00015616416931152344sec\n",
      "연산 시간: 0.00046896934509277344sec\n",
      "연산 시간: 0.0024008750915527344sec\n",
      "연산 시간: 2.384185791015625e-07sec\n",
      "연산 시간: 2.384185791015625e-07sec\n",
      "연산 시간: 7.319450378417969e-05sec\n",
      "연산 시간: 2.384185791015625e-07sec\n",
      "연산 시간: 0.00011348724365234375sec\n",
      "연산 시간: 2.384185791015625e-07sec\n",
      "연산 시간: 2.384185791015625e-07sec\n",
      "연산 시간: 6.4849853515625e-05sec\n",
      "연산 시간: 0.00023818016052246094sec\n",
      "연산 시간: 2.384185791015625e-07sec\n",
      "연산 시간: 2.384185791015625e-07sec\n",
      "연산 시간: 3.886222839355469e-05sec\n",
      "연산 시간: 2.384185791015625e-07sec\n",
      "연산 시간: 7.677078247070312e-05sec\n",
      "연산 시간: 0.0003528594970703125sec\n",
      "연산 시간: 2.384185791015625e-07sec\n",
      "연산 시간: 2.384185791015625e-07sec\n",
      "연산 시간: 3.790855407714844e-05sec\n",
      "연산 시간: 0.0sec\n",
      "연산 시간: 7.295608520507812e-05sec\n",
      "연산 시간: 2.384185791015625e-07sec\n",
      "연산 시간: 2.384185791015625e-07sec\n",
      "연산 시간: 3.814697265625e-05sec\n",
      "연산 시간: 0.0001480579376220703sec\n",
      "연산 시간: 0.0005366802215576172sec\n",
      "연산 시간: 0.0sec\n",
      "연산 시간: 2.384185791015625e-07sec\n",
      "연산 시간: 3.600120544433594e-05sec\n",
      "연산 시간: 0.0sec\n",
      "연산 시간: 7.176399230957031e-05sec\n",
      "연산 시간: 2.384185791015625e-07sec\n",
      "연산 시간: 2.384185791015625e-07sec\n",
      "연산 시간: 3.814697265625e-05sec\n",
      "연산 시간: 0.00014710426330566406sec\n",
      "연산 시간: 0.0sec\n",
      "연산 시간: 2.384185791015625e-07sec\n",
      "연산 시간: 3.647804260253906e-05sec\n",
      "연산 시간: 0.0sec\n",
      "연산 시간: 7.2479248046875e-05sec\n",
      "연산 시간: 0.0002560615539550781sec\n",
      "연산 시간: 0.0008287429809570312sec\n",
      "연산 시간: 0.0032668113708496094sec\n",
      "연산 시간: 2.384185791015625e-07sec\n",
      "연산 시간: 2.384185791015625e-07sec\n",
      "연산 시간: 3.790855407714844e-05sec\n",
      "연산 시간: 2.384185791015625e-07sec\n",
      "연산 시간: 7.534027099609375e-05sec\n",
      "연산 시간: 0.0sec\n",
      "연산 시간: 2.384185791015625e-07sec\n",
      "연산 시간: 3.695487976074219e-05sec\n",
      "연산 시간: 0.00014972686767578125sec\n",
      "연산 시간: 2.384185791015625e-07sec\n",
      "연산 시간: 2.384185791015625e-07sec\n",
      "연산 시간: 3.790855407714844e-05sec\n",
      "연산 시간: 0.0sec\n",
      "연산 시간: 7.319450378417969e-05sec\n",
      "연산 시간: 0.0002589225769042969sec\n",
      "연산 시간: 2.384185791015625e-07sec\n",
      "연산 시간: 2.384185791015625e-07sec\n",
      "연산 시간: 3.814697265625e-05sec\n",
      "연산 시간: 2.384185791015625e-07sec\n",
      "연산 시간: 7.534027099609375e-05sec\n",
      "연산 시간: 2.384185791015625e-07sec\n",
      "연산 시간: 2.384185791015625e-07sec\n",
      "연산 시간: 3.8623809814453125e-05sec\n",
      "연산 시간: 0.0001513957977294922sec\n",
      "연산 시간: 0.0004456043243408203sec\n",
      "연산 시간: 2.384185791015625e-07sec\n",
      "연산 시간: 2.384185791015625e-07sec\n",
      "연산 시간: 3.8623809814453125e-05sec\n",
      "연산 시간: 2.384185791015625e-07sec\n",
      "연산 시간: 7.581710815429688e-05sec\n",
      "연산 시간: 2.384185791015625e-07sec\n",
      "연산 시간: 2.384185791015625e-07sec\n",
      "연산 시간: 3.838539123535156e-05sec\n",
      "연산 시간: 0.00015115737915039062sec\n",
      "연산 시간: 2.384185791015625e-07sec\n",
      "연산 시간: 2.384185791015625e-07sec\n",
      "연산 시간: 0.00010776519775390625sec\n",
      "연산 시간: 2.384185791015625e-07sec\n",
      "연산 시간: 0.00014662742614746094sec\n",
      "연산 시간: 0.00033402442932128906sec\n",
      "연산 시간: 0.0008158683776855469sec\n",
      "연산 시간: 2.384185791015625e-07sec\n",
      "연산 시간: 2.384185791015625e-07sec\n",
      "연산 시간: 3.743171691894531e-05sec\n",
      "연산 시간: 2.384185791015625e-07sec\n",
      "연산 시간: 7.534027099609375e-05sec\n",
      "연산 시간: 2.384185791015625e-07sec\n",
      "연산 시간: 2.384185791015625e-07sec\n",
      "연산 시간: 3.8623809814453125e-05sec\n",
      "연산 시간: 0.00015115737915039062sec\n",
      "연산 시간: 2.384185791015625e-07sec\n",
      "연산 시간: 2.384185791015625e-07sec\n",
      "연산 시간: 3.838539123535156e-05sec\n",
      "연산 시간: 2.384185791015625e-07sec\n",
      "연산 시간: 7.62939453125e-05sec\n",
      "연산 시간: 0.00026488304138183594sec\n",
      "연산 시간: 2.384185791015625e-07sec\n",
      "연산 시간: 2.384185791015625e-07sec\n",
      "연산 시간: 5.745887756347656e-05sec\n",
      "연산 시간: 2.384185791015625e-07sec\n",
      "연산 시간: 9.560585021972656e-05sec\n",
      "연산 시간: 2.384185791015625e-07sec\n",
      "연산 시간: 2.384185791015625e-07sec\n",
      "연산 시간: 3.743171691894531e-05sec\n",
      "연산 시간: 0.0001704692840576172sec\n",
      "연산 시간: 0.0004711151123046875sec\n",
      "연산 시간: 0.0013244152069091797sec\n",
      "연산 시간: 0.004629611968994141sec\n"
     ]
    },
    {
     "data": {
      "text/plain": [
       "55"
      ]
     },
     "execution_count": 155,
     "metadata": {},
     "output_type": "execute_result"
    }
   ],
   "source": [
    "fibo_rec(10)"
   ]
  },
  {
   "cell_type": "code",
   "execution_count": 159,
   "metadata": {},
   "outputs": [],
   "source": [
    "from  time import time \n",
    "\n",
    "def time_checker(func):\n",
    "    def wrapper(seq):\n",
    "        start_at = time()\n",
    "        result = func(seq)\n",
    "        end_at = time()\n",
    "        print('연산 시간: {}sec'.format(end_at-start_at))\n",
    "        return result\n",
    "    return wrapper\n",
    "              \n",
    "              \n",
    "#@time_checker\n",
    "def fibo_rec(num):\n",
    "    if num < 2:\n",
    "        return num\n",
    "    else:\n",
    "        return fibo_rec(num-1) + fibo_rec(num-2)"
   ]
  },
  {
   "cell_type": "code",
   "execution_count": 160,
   "metadata": {},
   "outputs": [
    {
     "name": "stdout",
     "output_type": "stream",
     "text": [
      "연산 시간: 6.413459777832031e-05sec\n"
     ]
    },
    {
     "data": {
      "text/plain": [
       "55"
      ]
     },
     "execution_count": 160,
     "metadata": {},
     "output_type": "execute_result"
    }
   ],
   "source": [
    "time_checker(fibo_rec)(10)"
   ]
  }
 ],
 "metadata": {
  "kernelspec": {
   "display_name": "Python 3",
   "language": "python",
   "name": "python3"
  },
  "language_info": {
   "codemirror_mode": {
    "name": "ipython",
    "version": 3
   },
   "file_extension": ".py",
   "mimetype": "text/x-python",
   "name": "python",
   "nbconvert_exporter": "python",
   "pygments_lexer": "ipython3",
   "version": "3.8.5"
  }
 },
 "nbformat": 4,
 "nbformat_minor": 4
}

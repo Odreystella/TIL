{
 "cells": [
  {
   "cell_type": "code",
   "execution_count": 5,
   "metadata": {},
   "outputs": [
    {
     "name": "stdout",
     "output_type": "stream",
     "text": [
      "요일을 입력하세요(월 - 금): 가\n",
      "type the day you want to know\n"
     ]
    }
   ],
   "source": [
    "weekday = ('월', '화', \"수\", \"목\",'금')\n",
    "weekends = ('토', '일')\n",
    "user_day = input(\"요일을 입력하세요(월 - 금): \" )\n",
    "\n",
    "if user_day in weekday:\n",
    "    print(\"It is weekday sadly..\")\n",
    "elif user_day in weekends:\n",
    "    print(\"It is weekens!!! yeah!\")\n",
    "else:\n",
    "    print(\"type the day you want to know\")\n"
   ]
  },
  {
   "cell_type": "code",
   "execution_count": 7,
   "metadata": {},
   "outputs": [
    {
     "name": "stdout",
     "output_type": "stream",
     "text": [
      "요일을 입력하세요(월 - 금): 토\n"
     ]
    },
    {
     "data": {
      "text/plain": [
       "'주말입니다.'"
      ]
     },
     "execution_count": 7,
     "metadata": {},
     "output_type": "execute_result"
    }
   ],
   "source": [
    "weekday = ('월', '화', \"수\", \"목\",'금')\n",
    "weekends = ('토', '일')\n",
    "user_day = input(\"요일을 입력하세요(월 - 금): \" )\n",
    "\n",
    "'평일입니다..' if user_day in weekday else \\\n",
    "'주말입니다.' if user_day in weekends else \\\n",
    "\"요일을 입력하세요\""
   ]
  },
  {
   "cell_type": "code",
   "execution_count": 7,
   "metadata": {},
   "outputs": [
    {
     "name": "stdout",
     "output_type": "stream",
     "text": [
      "요일을 입력하세요(월~금)가\n",
      "요일을 입력하세요.\n"
     ]
    }
   ],
   "source": [
    "day = ('월', '화', '수', '목', '금', '토', '일')\n",
    "user_day = input(\"요일을 입력하세요(월~금)\")\n",
    "\n",
    "if user_day in day[:4+1]:\n",
    "    print(\"평일입니다.\")\n",
    "elif user_day in day[5:]:\n",
    "    print(\"주말입니다.\")\n",
    "else:\n",
    "    print(\"요일을 입력하세요.\")\n"
   ]
  },
  {
   "cell_type": "code",
   "execution_count": 9,
   "metadata": {},
   "outputs": [
    {
     "name": "stdout",
     "output_type": "stream",
     "text": [
      "Enter any left number: 15\n",
      "Enter any right number: 4\n",
      "left_num: 15 right_num: 4 <expected result> : 60\n",
      "left_num: 7 right_num: 8\n",
      "left_num: 3 right_num: 16\n",
      "left_num: 1 right_num: 32\n",
      "left_num: 0 right_num: 64\n",
      "final result is: 0\n"
     ]
    }
   ],
   "source": [
    "##에티오피안 곱셈\n",
    "\n",
    "left_num = int(input(\"Enter any left number: \"))\n",
    "right_num = int(input(\"Enter any right number: \"))\n",
    "multiple_result = left_num * right_num\n",
    "print(\"left_num:\", left_num, \"right_num:\", right_num, \"<expected result> :\", multiple_result)\n",
    "final_result = []\n",
    "\n",
    "while left_num >= 1: \n",
    "    if left_num % 2 == 0:\n",
    "        final_result.append(right_num)\n",
    "    left_num //= 2\n",
    "    right_num *= 2\n",
    "    print(\"left_num:\", left_num, \"right_num:\", right_num)\n",
    "print(\"final result is:\", sum(final_result))\n",
    "       "
   ]
  },
  {
   "cell_type": "code",
   "execution_count": 47,
   "metadata": {},
   "outputs": [
    {
     "name": "stdout",
     "output_type": "stream",
     "text": [
      "Enter two numbers with space: 14 5\n",
      "<expected value> :  70\n",
      "left_num,   right_num,   etc\n",
      "     14,       5,       pass\n",
      "      7,      10,       keep\n",
      "      3,      20,       keep\n",
      "      1,      40,       keep\n",
      "final result is 70\n"
     ]
    }
   ],
   "source": [
    "#에티오피안 곱셈 ver2\n",
    "\n",
    "user_input = input(\"Enter two numbers with space: \")\n",
    "user_input_list = user_input.split(\" \")\n",
    "left_num = int(user_input_list[0])\n",
    "right_num = int(user_input_list[1])\n",
    "print(\"<expected value> : \", left_num * right_num)\n",
    "print(\"left_num,   right_num,   etc\")\n",
    "final_result = []\n",
    "\n",
    "while left_num >= 1:\n",
    "    if left_num % 2 == 1:\n",
    "        final_result.append(right_num)  \n",
    "        print(\"{:>7}, {:>7},       keep\".format(left_num, right_num))\n",
    "    else:\n",
    "        print(\"{:>7}, {:>7},       pass\".format(left_num, right_num))\n",
    "    left_num //= 2\n",
    "    right_num *= 2\n",
    "print(\"final result is {}\".format(sum(final_result)))\n"
   ]
  },
  {
   "cell_type": "code",
   "execution_count": 9,
   "metadata": {},
   "outputs": [
    {
     "name": "stdout",
     "output_type": "stream",
     "text": [
      "요일을 입력하세요: 일요일\n",
      "주말입니다.\n"
     ]
    }
   ],
   "source": [
    "weekday = ['월', '화', '수', '목', '금', '토', '일']\n",
    "user_input = input(\"요일을 입력하세요: \")\n",
    "\n",
    "if user_input[0] in weekday[:4+1]:\n",
    "    print(\"평일입니다.\")\n",
    "elif user_input[0] in weekday[5:]:\n",
    "    print(\"주말입니다.\")\n",
    "else: \n",
    "    print(\"요일을 입력하세요.\")\n",
    "\n"
   ]
  },
  {
   "cell_type": "code",
   "execution_count": null,
   "metadata": {},
   "outputs": [],
   "source": []
  }
 ],
 "metadata": {
  "kernelspec": {
   "display_name": "Python 3",
   "language": "python",
   "name": "python3"
  },
  "language_info": {
   "codemirror_mode": {
    "name": "ipython",
    "version": 3
   },
   "file_extension": ".py",
   "mimetype": "text/x-python",
   "name": "python",
   "nbconvert_exporter": "python",
   "pygments_lexer": "ipython3",
   "version": "3.8.5"
  }
 },
 "nbformat": 4,
 "nbformat_minor": 4
}

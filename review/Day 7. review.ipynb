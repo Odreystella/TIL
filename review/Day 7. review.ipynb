{
 "cells": [
  {
   "cell_type": "code",
   "execution_count": 1,
   "metadata": {},
   "outputs": [],
   "source": [
    "numbers = [i for i in range(1,10+1)]\n",
    "chars = list(set('abcdefghij'))"
   ]
  },
  {
   "cell_type": "code",
   "execution_count": 2,
   "metadata": {},
   "outputs": [
    {
     "name": "stdout",
     "output_type": "stream",
     "text": [
      "1 i\n",
      "2 c\n",
      "3 a\n",
      "4 h\n",
      "5 g\n",
      "6 f\n",
      "7 e\n",
      "8 j\n",
      "9 d\n",
      "10 b\n"
     ]
    }
   ],
   "source": [
    "for i,c in zip(numbers, chars):\n",
    "    print(i,c)"
   ]
  },
  {
   "cell_type": "code",
   "execution_count": 4,
   "metadata": {},
   "outputs": [
    {
     "data": {
      "text/plain": [
       "[(1, 'i'),\n",
       " (2, 'c'),\n",
       " (3, 'a'),\n",
       " (4, 'h'),\n",
       " (5, 'g'),\n",
       " (6, 'f'),\n",
       " (7, 'e'),\n",
       " (8, 'j'),\n",
       " (9, 'd'),\n",
       " (10, 'b')]"
      ]
     },
     "execution_count": 4,
     "metadata": {},
     "output_type": "execute_result"
    }
   ],
   "source": [
    "list(zip(numbers, chars))"
   ]
  },
  {
   "cell_type": "code",
   "execution_count": 11,
   "metadata": {},
   "outputs": [
    {
     "data": {
      "text/plain": [
       "[['CustomerID',\n",
       "  'CustomerName',\n",
       "  'ContactName',\n",
       "  'Address',\n",
       "  'City',\n",
       "  'PostalCode',\n",
       "  'Country'],\n",
       " ['1',\n",
       "  'Alfreds Futterkiste',\n",
       "  'Maria Anders',\n",
       "  'Obere Str. 57',\n",
       "  'Berlin',\n",
       "  '12209',\n",
       "  'Germany']]"
      ]
     },
     "execution_count": 11,
     "metadata": {},
     "output_type": "execute_result"
    }
   ],
   "source": [
    "# customers.csv -> customers.json\n",
    "\"\"\"\n",
    "{'users':[\n",
    "            {},\n",
    "            {},\n",
    "            {},\n",
    "            {},\n",
    "            {},\n",
    "            {},\n",
    "            {}\n",
    "         ]}\n",
    "\"\"\"\n",
    "import csv\n",
    "import json\n",
    "\n",
    "\n",
    "with open('./customers.csv', 'r', encoding='utf-8') as f:\n",
    "    csved = csv.reader(f)\n",
    "    customers_list = [row for row in csved]\n",
    "customers_list[:2]"
   ]
  },
  {
   "cell_type": "code",
   "execution_count": 17,
   "metadata": {},
   "outputs": [],
   "source": [
    "import csv\n",
    "import json\n",
    "\n",
    "\n",
    "with open('./customers.csv', 'r', encoding='utf-8') as f:\n",
    "    csved = csv.reader(f)\n",
    "    customers_list = [row for row in csved]\n",
    "\n",
    "data = {'users':[]}\n",
    "for row in customers_list[1:]:\n",
    "    user_dict = {}\n",
    "    for index, key in enumerate(customers_list[0]):\n",
    "        user_dict[key]=row[index]\n",
    "    data['users'].append(user_dict)"
   ]
  },
  {
   "cell_type": "code",
   "execution_count": 18,
   "metadata": {},
   "outputs": [],
   "source": [
    "with open('./customers.json','w',encoding='utf-8') as g:\n",
    "    json.dump(data, g)"
   ]
  },
  {
   "cell_type": "code",
   "execution_count": 22,
   "metadata": {},
   "outputs": [
    {
     "name": "stdout",
     "output_type": "stream",
     "text": [
      "{'CustomerID': '1', 'CustomerName': 'Alfreds Futterkiste', 'ContactName': 'Maria Anders', 'Address': 'Obere Str. 57', 'City': 'Berlin', 'PostalCode': '12209', 'Country': 'Germany'}\n",
      "{'CustomerID': '2', 'CustomerName': 'Ana Trujillo Emparedados y helados', 'ContactName': 'Ana Trujillo', 'Address': 'Avda. de la Constitución 2222', 'City': 'México D.F.', 'PostalCode': '05021', 'Country': 'Mexico'}\n",
      "{'CustomerID': '3', 'CustomerName': 'Antonio Moreno Taquería', 'ContactName': 'Antonio Moreno', 'Address': 'Mataderos 2312', 'City': 'México D.F.', 'PostalCode': '05023', 'Country': 'Mexico'}\n",
      "{'CustomerID': '4', 'CustomerName': 'Around the Horn', 'ContactName': 'Thomas Hardy', 'Address': '120 Hanover Sq.', 'City': 'London', 'PostalCode': 'WA1 1DP', 'Country': 'UK'}\n",
      "{'CustomerID': '5', 'CustomerName': 'Berglunds snabbköp', 'ContactName': 'Christina Berglund', 'Address': 'Berguvsvägen 8', 'City': 'Luleå', 'PostalCode': 'S-958 22', 'Country': 'Sweden'}\n",
      "{'CustomerID': '6', 'CustomerName': 'Blauer See Delikatessen', 'ContactName': 'Hanna Moos', 'Address': 'Forsterstr. 57', 'City': 'Mannheim', 'PostalCode': '68306', 'Country': 'Germany'}\n",
      "{'CustomerID': '7', 'CustomerName': 'Blondel père et fils', 'ContactName': 'Frédérique Citeaux', 'Address': '24  place Kléber', 'City': 'Strasbourg', 'PostalCode': '67000', 'Country': 'France'}\n",
      "{'CustomerID': '8', 'CustomerName': 'Bólido Comidas preparadas', 'ContactName': 'Martín Sommer', 'Address': 'C/ Araquil  67', 'City': 'Madrid', 'PostalCode': '28023', 'Country': 'Spain'}\n",
      "{'CustomerID': '9', 'CustomerName': \"Bon app'\", 'ContactName': 'Laurence Lebihans', 'Address': '12  rue des Bouchers', 'City': 'Marseille', 'PostalCode': '13008', 'Country': 'France'}\n",
      "{'CustomerID': '10', 'CustomerName': 'Bottom-Dollar Marketse', 'ContactName': 'Elizabeth Lincoln', 'Address': '23 Tsawassen Blvd.', 'City': 'Tsawassen', 'PostalCode': 'T2F 8M4', 'Country': 'Canada'}\n",
      "{'CustomerID': '11', 'CustomerName': \"B's Beverages\", 'ContactName': 'Victoria Ashworth', 'Address': 'Fauntleroy Circus', 'City': 'London', 'PostalCode': 'EC2 5NT', 'Country': 'UK'}\n",
      "{'CustomerID': '12', 'CustomerName': 'Cactus Comidas para llevar', 'ContactName': 'Patricio Simpson', 'Address': 'Cerrito 333', 'City': 'Buenos Aires', 'PostalCode': '1010', 'Country': 'Argentina'}\n",
      "{'CustomerID': '13', 'CustomerName': 'Centro comercial Moctezuma', 'ContactName': 'Francisco Chang', 'Address': 'Sierras de Granada 9993', 'City': 'México D.F.', 'PostalCode': '05022', 'Country': 'Mexico'}\n",
      "{'CustomerID': '14', 'CustomerName': 'Chop-suey Chinese', 'ContactName': 'Yang Wang', 'Address': 'Hauptstr. 29', 'City': 'Bern', 'PostalCode': '3012', 'Country': 'Switzerland'}\n",
      "{'CustomerID': '15', 'CustomerName': 'Comércio Mineiro', 'ContactName': 'Pedro Afonso', 'Address': 'Av. dos Lusíadas  23', 'City': 'São Paulo', 'PostalCode': '05432-043', 'Country': 'Brazil'}\n",
      "{'CustomerID': '16', 'CustomerName': 'Consolidated Holdings', 'ContactName': 'Elizabeth Brown', 'Address': 'Berkeley Gardens 12 Brewery ', 'City': 'London', 'PostalCode': 'WX1 6LT', 'Country': 'UK'}\n",
      "{'CustomerID': '17', 'CustomerName': 'Drachenblut Delikatessend', 'ContactName': 'Sven Ottlieb', 'Address': 'Walserweg 21', 'City': 'Aachen', 'PostalCode': '52066', 'Country': 'Germany'}\n",
      "{'CustomerID': '18', 'CustomerName': 'Du monde entier', 'ContactName': 'Janine Labrune', 'Address': '67  rue des Cinquante Otages', 'City': 'Nantes', 'PostalCode': '44000', 'Country': 'France'}\n",
      "{'CustomerID': '19', 'CustomerName': 'Eastern Connection', 'ContactName': 'Ann Devon', 'Address': '35 King George', 'City': 'London', 'PostalCode': 'WX3 6FW', 'Country': 'UK'}\n",
      "{'CustomerID': '20', 'CustomerName': 'Ernst Handel', 'ContactName': 'Roland Mendel', 'Address': 'Kirchgasse 6', 'City': 'Graz', 'PostalCode': '8010', 'Country': 'Austria'}\n",
      "{'CustomerID': '21', 'CustomerName': 'Familia Arquibaldo', 'ContactName': 'Aria Cruz', 'Address': 'Rua Orós  92', 'City': 'São Paulo', 'PostalCode': '05442-030', 'Country': 'Brazil'}\n",
      "{'CustomerID': '22', 'CustomerName': 'FISSA Fabrica Inter. Salchichas S.A.', 'ContactName': 'Diego Roel', 'Address': 'C/ Moralzarzal  86', 'City': 'Madrid', 'PostalCode': '28034', 'Country': 'Spain'}\n",
      "{'CustomerID': '23', 'CustomerName': 'Folies gourmandes', 'ContactName': 'Martine Rancé', 'Address': '184  chaussée de Tournai', 'City': 'Lille', 'PostalCode': '59000', 'Country': 'France'}\n",
      "{'CustomerID': '24', 'CustomerName': 'Folk och fä HB', 'ContactName': 'Maria Larsson', 'Address': 'Åkergatan 24', 'City': 'Bräcke', 'PostalCode': 'S-844 67', 'Country': 'Sweden'}\n",
      "{'CustomerID': '25', 'CustomerName': 'Frankenversand', 'ContactName': 'Peter Franken', 'Address': 'Berliner Platz 43', 'City': 'München', 'PostalCode': '80805', 'Country': 'Germany'}\n",
      "{'CustomerID': '26', 'CustomerName': 'France restauration', 'ContactName': 'Carine Schmitt', 'Address': '54  rue Royale', 'City': 'Nantes', 'PostalCode': '44000', 'Country': 'France'}\n",
      "{'CustomerID': '27', 'CustomerName': 'Franchi S.p.A.', 'ContactName': 'Paolo Accorti', 'Address': 'Via Monte Bianco 34', 'City': 'Torino', 'PostalCode': '10100', 'Country': 'Italy'}\n",
      "{'CustomerID': '28', 'CustomerName': 'Furia Bacalhau e Frutos do Mar', 'ContactName': 'Lino Rodriguez ', 'Address': 'Jardim das rosas n. 32', 'City': 'Lisboa', 'PostalCode': '1675', 'Country': 'Portugal'}\n",
      "{'CustomerID': '29', 'CustomerName': 'Galería del gastrónomo', 'ContactName': 'Eduardo Saavedra', 'Address': 'Rambla de Cataluña  23', 'City': 'Barcelona', 'PostalCode': '08022', 'Country': 'Spain'}\n",
      "{'CustomerID': '30', 'CustomerName': 'Godos Cocina Típica', 'ContactName': 'José Pedro Freyre', 'Address': 'C/ Romero  33', 'City': 'Sevilla', 'PostalCode': '41101', 'Country': 'Spain'}\n",
      "{'CustomerID': '31', 'CustomerName': 'Gourmet Lanchonetes', 'ContactName': 'André Fonseca', 'Address': 'Av. Brasil  442', 'City': 'Campinas', 'PostalCode': '04876-786', 'Country': 'Brazil'}\n",
      "{'CustomerID': '32', 'CustomerName': 'Great Lakes Food Market', 'ContactName': 'Howard Snyder', 'Address': '2732 Baker Blvd.', 'City': 'Eugene', 'PostalCode': '97403', 'Country': 'USA'}\n",
      "{'CustomerID': '33', 'CustomerName': 'GROSELLA-Restaurante', 'ContactName': 'Manuel Pereira', 'Address': '5ª Ave. Los Palos Grandes', 'City': 'Caracas', 'PostalCode': '1081', 'Country': 'Venezuela'}\n",
      "{'CustomerID': '34', 'CustomerName': 'Hanari Carnes', 'ContactName': 'Mario Pontes', 'Address': 'Rua do Paço  67', 'City': 'Rio de Janeiro', 'PostalCode': '05454-876', 'Country': 'Brazil'}\n",
      "{'CustomerID': '35', 'CustomerName': 'HILARIÓN-Abastos', 'ContactName': 'Carlos Hernández', 'Address': 'Carrera 22 con Ave. Carlos Soublette #8-35', 'City': 'San Cristóbal', 'PostalCode': '5022', 'Country': 'Venezuela'}\n",
      "{'CustomerID': '36', 'CustomerName': 'Hungry Coyote Import Store', 'ContactName': 'Yoshi Latimer', 'Address': 'City Center Plaza 516 Main St.', 'City': 'Elgin', 'PostalCode': '97827', 'Country': 'USA'}\n",
      "{'CustomerID': '37', 'CustomerName': 'Hungry Owl All-Night Grocers', 'ContactName': 'Patricia McKenna', 'Address': '8 Johnstown Road', 'City': 'Cork', 'PostalCode': '', 'Country': 'Ireland'}\n",
      "{'CustomerID': '38', 'CustomerName': 'Island Trading', 'ContactName': 'Helen Bennett', 'Address': 'Garden House Crowther Way', 'City': 'Cowes', 'PostalCode': 'PO31 7PJ', 'Country': 'UK'}\n",
      "{'CustomerID': '39', 'CustomerName': 'Königlich Essen', 'ContactName': 'Philip Cramer', 'Address': 'Maubelstr. 90', 'City': 'Brandenburg', 'PostalCode': '14776', 'Country': 'Germany'}\n",
      "{'CustomerID': '40', 'CustomerName': \"La corne d'abondance\", 'ContactName': 'Daniel Tonini', 'Address': \"67  avenue de l'Europe\", 'City': 'Versailles', 'PostalCode': '78000', 'Country': 'France'}\n",
      "{'CustomerID': '41', 'CustomerName': \"La maison d'Asie\", 'ContactName': 'Annette Roulet', 'Address': '1 rue Alsace-Lorraine', 'City': 'Toulouse', 'PostalCode': '31000', 'Country': 'France'}\n",
      "{'CustomerID': '42', 'CustomerName': 'Laughing Bacchus Wine Cellars', 'ContactName': 'Yoshi Tannamuri', 'Address': '1900 Oak St.', 'City': 'Vancouver', 'PostalCode': 'V3F 2K1', 'Country': 'Canada'}\n",
      "{'CustomerID': '43', 'CustomerName': 'Lazy K Kountry Store', 'ContactName': 'John Steel', 'Address': '12 Orchestra Terrace', 'City': 'Walla Walla', 'PostalCode': '99362', 'Country': 'USA'}\n",
      "{'CustomerID': '44', 'CustomerName': 'Lehmanns Marktstand', 'ContactName': 'Renate Messner', 'Address': 'Magazinweg 7', 'City': 'Frankfurt a.M. ', 'PostalCode': '60528', 'Country': 'Germany'}\n",
      "{'CustomerID': '45', 'CustomerName': \"Let's Stop N Shop\", 'ContactName': 'Jaime Yorres', 'Address': '87 Polk St. Suite 5', 'City': 'San Francisco', 'PostalCode': '94117', 'Country': 'USA'}\n",
      "{'CustomerID': '46', 'CustomerName': 'LILA-Supermercado', 'ContactName': 'Carlos González', 'Address': 'Carrera 52 con Ave. Bolívar #65-98 Llano Largo', 'City': 'Barquisimeto', 'PostalCode': '3508', 'Country': 'Venezuela'}\n",
      "{'CustomerID': '47', 'CustomerName': 'LINO-Delicateses', 'ContactName': 'Felipe Izquierdo', 'Address': 'Ave. 5 de Mayo Porlamar', 'City': 'I. de Margarita', 'PostalCode': '4980', 'Country': 'Venezuela'}\n",
      "{'CustomerID': '48', 'CustomerName': 'Lonesome Pine Restaurant', 'ContactName': 'Fran Wilson', 'Address': '89 Chiaroscuro Rd.', 'City': 'Portland', 'PostalCode': '97219', 'Country': 'USA'}\n",
      "{'CustomerID': '49', 'CustomerName': 'Magazzini Alimentari Riuniti', 'ContactName': 'Giovanni Rovelli', 'Address': 'Via Ludovico il Moro 22', 'City': 'Bergamo', 'PostalCode': '24100', 'Country': 'Italy'}\n",
      "{'CustomerID': '50', 'CustomerName': 'Maison Dewey', 'ContactName': 'Catherine Dewey', 'Address': 'Rue Joseph-Bens 532', 'City': 'Bruxelles', 'PostalCode': 'B-1180', 'Country': 'Belgium'}\n",
      "{'CustomerID': '51', 'CustomerName': 'Mère Paillarde', 'ContactName': 'Jean Fresnière', 'Address': '43 rue St. Laurent', 'City': 'Montréal', 'PostalCode': 'H1J 1C3', 'Country': 'Canada'}\n",
      "{'CustomerID': '52', 'CustomerName': 'Morgenstern Gesundkost', 'ContactName': 'Alexander Feuer', 'Address': 'Heerstr. 22', 'City': 'Leipzig', 'PostalCode': '04179', 'Country': 'Germany'}\n",
      "{'CustomerID': '53', 'CustomerName': 'North/South', 'ContactName': 'Simon Crowther', 'Address': 'South House 300 Queensbridge', 'City': 'London', 'PostalCode': 'SW7 1RZ', 'Country': 'UK'}\n",
      "{'CustomerID': '54', 'CustomerName': 'Océano Atlántico Ltda.', 'ContactName': 'Yvonne Moncada', 'Address': 'Ing. Gustavo Moncada 8585 Piso 20-A', 'City': 'Buenos Aires', 'PostalCode': '1010', 'Country': 'Argentina'}\n",
      "{'CustomerID': '55', 'CustomerName': 'Old World Delicatessen', 'ContactName': 'Rene Phillips', 'Address': '2743 Bering St.', 'City': 'Anchorage', 'PostalCode': '99508', 'Country': 'USA'}\n",
      "{'CustomerID': '56', 'CustomerName': 'Ottilies Käseladen', 'ContactName': 'Henriette Pfalzheim', 'Address': 'Mehrheimerstr. 369', 'City': 'Köln', 'PostalCode': '50739', 'Country': 'Germany'}\n",
      "{'CustomerID': '57', 'CustomerName': 'Paris spécialités', 'ContactName': 'Marie Bertrand', 'Address': '265  boulevard Charonne', 'City': 'Paris', 'PostalCode': '75012', 'Country': 'France'}\n",
      "{'CustomerID': '58', 'CustomerName': 'Pericles Comidas clásicas', 'ContactName': 'Guillermo Fernández', 'Address': 'Calle Dr. Jorge Cash 321', 'City': 'México D.F.', 'PostalCode': '05033', 'Country': 'Mexico'}\n",
      "{'CustomerID': '59', 'CustomerName': 'Piccolo und mehr', 'ContactName': 'Georg Pipps', 'Address': 'Geislweg 14', 'City': 'Salzburg', 'PostalCode': '5020', 'Country': 'Austria'}\n",
      "{'CustomerID': '60', 'CustomerName': 'Princesa Isabel Vinhoss', 'ContactName': 'Isabel de Castro', 'Address': 'Estrada da saúde n. 58', 'City': 'Lisboa', 'PostalCode': '1756', 'Country': 'Portugal'}\n",
      "{'CustomerID': '61', 'CustomerName': 'Que Delícia', 'ContactName': 'Bernardo Batista', 'Address': 'Rua da Panificadora  12', 'City': 'Rio de Janeiro', 'PostalCode': '02389-673', 'Country': 'Brazil'}\n",
      "{'CustomerID': '62', 'CustomerName': 'Queen Cozinha', 'ContactName': 'Lúcia Carvalho', 'Address': 'Alameda dos Canàrios  891', 'City': 'São Paulo', 'PostalCode': '05487-020', 'Country': 'Brazil'}\n",
      "{'CustomerID': '63', 'CustomerName': 'QUICK-Stop', 'ContactName': 'Horst Kloss', 'Address': 'Taucherstraße 10', 'City': 'Cunewalde', 'PostalCode': '01307', 'Country': 'Germany'}\n",
      "{'CustomerID': '64', 'CustomerName': 'Rancho grande', 'ContactName': 'Sergio Gutiérrez', 'Address': 'Av. del Libertador 900', 'City': 'Buenos Aires', 'PostalCode': '1010', 'Country': 'Argentina'}\n",
      "{'CustomerID': '65', 'CustomerName': 'Rattlesnake Canyon Grocery', 'ContactName': 'Paula Wilson', 'Address': '2817 Milton Dr.', 'City': 'Albuquerque', 'PostalCode': '87110', 'Country': 'USA'}\n",
      "{'CustomerID': '66', 'CustomerName': 'Reggiani Caseifici', 'ContactName': 'Maurizio Moroni', 'Address': 'Strada Provinciale 124', 'City': 'Reggio Emilia', 'PostalCode': '42100', 'Country': 'Italy'}\n",
      "{'CustomerID': '67', 'CustomerName': 'Ricardo Adocicados', 'ContactName': 'Janete Limeira', 'Address': 'Av. Copacabana  267', 'City': 'Rio de Janeiro', 'PostalCode': '02389-890', 'Country': 'Brazil'}\n",
      "{'CustomerID': '68', 'CustomerName': 'Richter Supermarkt', 'ContactName': 'Michael Holz', 'Address': 'Grenzacherweg 237', 'City': 'Genève', 'PostalCode': '1203', 'Country': 'Switzerland'}\n",
      "{'CustomerID': '69', 'CustomerName': 'Romero y tomillo', 'ContactName': 'Alejandra Camino', 'Address': 'Gran Vía  1', 'City': 'Madrid', 'PostalCode': '28001', 'Country': 'Spain'}\n",
      "{'CustomerID': '70', 'CustomerName': 'Santé Gourmet', 'ContactName': 'Jonas Bergulfsen', 'Address': 'Erling Skakkes gate 78', 'City': 'Stavern', 'PostalCode': '4110', 'Country': 'Norway'}\n",
      "{'CustomerID': '71', 'CustomerName': 'Save-a-lot Markets', 'ContactName': 'Jose Pavarotti', 'Address': '187 Suffolk Ln.', 'City': 'Boise', 'PostalCode': '83720', 'Country': 'USA'}\n",
      "{'CustomerID': '72', 'CustomerName': 'Seven Seas Imports', 'ContactName': 'Hari Kumar', 'Address': '90 Wadhurst Rd.', 'City': 'London', 'PostalCode': 'OX15 4NB', 'Country': 'UK'}\n",
      "{'CustomerID': '73', 'CustomerName': 'Simons bistro', 'ContactName': 'Jytte Petersen', 'Address': 'Vinbæltet 34', 'City': 'København', 'PostalCode': '1734', 'Country': 'Denmark'}\n",
      "{'CustomerID': '74', 'CustomerName': 'Spécialités du monde', 'ContactName': 'Dominique Perrier', 'Address': '25  rue Lauriston', 'City': 'Paris', 'PostalCode': '75016', 'Country': 'France'}\n",
      "{'CustomerID': '75', 'CustomerName': 'Split Rail Beer & Ale', 'ContactName': 'Art Braunschweiger', 'Address': 'P.O. Box 555', 'City': 'Lander', 'PostalCode': '82520', 'Country': 'USA'}\n",
      "{'CustomerID': '76', 'CustomerName': 'Suprêmes délices', 'ContactName': 'Pascale Cartrain', 'Address': 'Boulevard Tirou  255', 'City': 'Charleroi', 'PostalCode': 'B-6000', 'Country': 'Belgium'}\n",
      "{'CustomerID': '77', 'CustomerName': 'The Big Cheese', 'ContactName': 'Liz Nixon', 'Address': '89 Jefferson Way Suite 2', 'City': 'Portland', 'PostalCode': '97201', 'Country': 'USA'}\n",
      "{'CustomerID': '78', 'CustomerName': 'The Cracker Box', 'ContactName': 'Liu Wong', 'Address': '55 Grizzly Peak Rd.', 'City': 'Butte', 'PostalCode': '59801', 'Country': 'USA'}\n",
      "{'CustomerID': '79', 'CustomerName': 'Toms Spezialitäten', 'ContactName': 'Karin Josephs', 'Address': 'Luisenstr. 48', 'City': 'Münster', 'PostalCode': '44087', 'Country': 'Germany'}\n",
      "{'CustomerID': '80', 'CustomerName': 'Tortuga Restaurante', 'ContactName': 'Miguel Angel Paolino', 'Address': 'Avda. Azteca 123', 'City': 'México D.F.', 'PostalCode': '05033', 'Country': 'Mexico'}\n",
      "{'CustomerID': '81', 'CustomerName': 'Tradição Hipermercados', 'ContactName': 'Anabela Domingues', 'Address': 'Av. Inês de Castro  414', 'City': 'São Paulo', 'PostalCode': '05634-030', 'Country': 'Brazil'}\n",
      "{'CustomerID': '82', 'CustomerName': \"Trail's Head Gourmet Provisioners\", 'ContactName': 'Helvetius Nagy', 'Address': '722 DaVinci Blvd.', 'City': 'Kirkland', 'PostalCode': '98034', 'Country': 'USA'}\n",
      "{'CustomerID': '83', 'CustomerName': 'Vaffeljernet', 'ContactName': 'Palle Ibsen', 'Address': 'Smagsløget 45', 'City': 'Århus', 'PostalCode': '8200', 'Country': 'Denmark'}\n",
      "{'CustomerID': '84', 'CustomerName': 'Victuailles en stock', 'ContactName': 'Mary Saveley', 'Address': '2  rue du Commerce', 'City': 'Lyon', 'PostalCode': '69004', 'Country': 'France'}\n",
      "{'CustomerID': '85', 'CustomerName': 'Vins et alcools Chevalier', 'ContactName': 'Paul Henriot', 'Address': \"59 rue de l'Abbaye\", 'City': 'Reims', 'PostalCode': '51100', 'Country': 'France'}\n",
      "{'CustomerID': '86', 'CustomerName': 'Die Wandernde Kuh', 'ContactName': 'Rita Müller', 'Address': 'Adenauerallee 900', 'City': 'Stuttgart', 'PostalCode': '70563', 'Country': 'Germany'}\n",
      "{'CustomerID': '87', 'CustomerName': 'Wartian Herkku', 'ContactName': 'Pirkko Koskitalo', 'Address': 'Torikatu 38', 'City': 'Oulu', 'PostalCode': '90110', 'Country': 'Finland'}\n",
      "{'CustomerID': '88', 'CustomerName': 'Wellington Importadora', 'ContactName': 'Paula Parente', 'Address': 'Rua do Mercado  12', 'City': 'Resende', 'PostalCode': '08737-363', 'Country': 'Brazil'}\n",
      "{'CustomerID': '89', 'CustomerName': 'White Clover Markets', 'ContactName': 'Karl Jablonski', 'Address': '305 - 14th Ave. S. Suite 3B', 'City': 'Seattle', 'PostalCode': '98128', 'Country': 'USA'}\n",
      "{'CustomerID': '90', 'CustomerName': 'Wilman Kala', 'ContactName': 'Matti Karttunen', 'Address': 'Keskuskatu 45', 'City': 'Helsinki', 'PostalCode': '21240', 'Country': 'Finland'}\n",
      "{'CustomerID': '91', 'CustomerName': 'Wolski', 'ContactName': 'Zbyszek', 'Address': 'ul. Filtrowa 68', 'City': 'Walla', 'PostalCode': '01-012', 'Country': 'Poland'}\n"
     ]
    }
   ],
   "source": [
    "with open('./customers.json','r', encoding='utf-8') as g:\n",
    "    des_data = json.load(g)\n",
    "    for row in des_data['users']:\n",
    "        print(row)"
   ]
  },
  {
   "cell_type": "code",
   "execution_count": 1,
   "metadata": {},
   "outputs": [],
   "source": [
    "# Error Exception\n",
    "\n",
    "try:\n",
    "    pass\n",
    "except:\n",
    "    pass"
   ]
  },
  {
   "cell_type": "code",
   "execution_count": 2,
   "metadata": {},
   "outputs": [
    {
     "name": "stdout",
     "output_type": "stream",
     "text": [
      "You could divide by anything, not zero\n"
     ]
    }
   ],
   "source": [
    "try:\n",
    "    result = 3/0\n",
    "except: \n",
    "    print('You could divide by anything, not zero')\n"
   ]
  },
  {
   "cell_type": "code",
   "execution_count": 4,
   "metadata": {},
   "outputs": [
    {
     "name": "stdout",
     "output_type": "stream",
     "text": [
      "Guess the number: 3\n"
     ]
    }
   ],
   "source": [
    "try:\n",
    "    guess = int(input('Guess the number: '))\n",
    "except:\n",
    "    pass"
   ]
  },
  {
   "cell_type": "code",
   "execution_count": 6,
   "metadata": {},
   "outputs": [
    {
     "name": "stdout",
     "output_type": "stream",
     "text": [
      "Guess the number: 안녕\n",
      "Plz, do not bother programmer.\n",
      "Guess the number: 안ㄴ여하세요\n"
     ]
    },
    {
     "ename": "ValueError",
     "evalue": "invalid literal for int() with base 10: '안ㄴ여하세요'",
     "output_type": "error",
     "traceback": [
      "\u001b[0;31m---------------------------------------------------------------------------\u001b[0m",
      "\u001b[0;31mValueError\u001b[0m                                Traceback (most recent call last)",
      "\u001b[0;32m<ipython-input-6-5575b0b95659>\u001b[0m in \u001b[0;36m<module>\u001b[0;34m\u001b[0m\n\u001b[1;32m      1\u001b[0m \u001b[0;32mtry\u001b[0m\u001b[0;34m:\u001b[0m\u001b[0;34m\u001b[0m\u001b[0;34m\u001b[0m\u001b[0m\n\u001b[0;32m----> 2\u001b[0;31m     \u001b[0mguess\u001b[0m \u001b[0;34m=\u001b[0m \u001b[0mint\u001b[0m\u001b[0;34m(\u001b[0m\u001b[0minput\u001b[0m\u001b[0;34m(\u001b[0m\u001b[0;34m'Guess the number: '\u001b[0m\u001b[0;34m)\u001b[0m\u001b[0;34m)\u001b[0m\u001b[0;34m\u001b[0m\u001b[0;34m\u001b[0m\u001b[0m\n\u001b[0m\u001b[1;32m      3\u001b[0m \u001b[0;32mexcept\u001b[0m\u001b[0;34m:\u001b[0m\u001b[0;34m\u001b[0m\u001b[0;34m\u001b[0m\u001b[0m\n",
      "\u001b[0;31mValueError\u001b[0m: invalid literal for int() with base 10: '안녕'",
      "\nDuring handling of the above exception, another exception occurred:\n",
      "\u001b[0;31mValueError\u001b[0m                                Traceback (most recent call last)",
      "\u001b[0;32m<ipython-input-6-5575b0b95659>\u001b[0m in \u001b[0;36m<module>\u001b[0;34m\u001b[0m\n\u001b[1;32m      3\u001b[0m \u001b[0;32mexcept\u001b[0m\u001b[0;34m:\u001b[0m\u001b[0;34m\u001b[0m\u001b[0;34m\u001b[0m\u001b[0m\n\u001b[1;32m      4\u001b[0m     \u001b[0mprint\u001b[0m\u001b[0;34m(\u001b[0m\u001b[0;34m'Plz, do not bother programmer.'\u001b[0m\u001b[0;34m)\u001b[0m\u001b[0;34m\u001b[0m\u001b[0;34m\u001b[0m\u001b[0m\n\u001b[0;32m----> 5\u001b[0;31m     \u001b[0mguess\u001b[0m \u001b[0;34m=\u001b[0m \u001b[0mint\u001b[0m\u001b[0;34m(\u001b[0m\u001b[0minput\u001b[0m\u001b[0;34m(\u001b[0m\u001b[0;34m'Guess the number: '\u001b[0m\u001b[0;34m)\u001b[0m\u001b[0;34m)\u001b[0m\u001b[0;34m\u001b[0m\u001b[0;34m\u001b[0m\u001b[0m\n\u001b[0m\u001b[1;32m      6\u001b[0m \u001b[0;34m\u001b[0m\u001b[0m\n",
      "\u001b[0;31mValueError\u001b[0m: invalid literal for int() with base 10: '안ㄴ여하세요'"
     ]
    }
   ],
   "source": [
    "try:\n",
    "    guess = int(input('Guess the number: '))\n",
    "except:\n",
    "    print('Plz, do not bother programmer.')\n",
    "    guess = int(input('Guess the number: '))\n",
    "    "
   ]
  },
  {
   "cell_type": "code",
   "execution_count": 8,
   "metadata": {},
   "outputs": [
    {
     "name": "stdout",
     "output_type": "stream",
     "text": [
      "Guess the number: 안녕\n",
      "Plz, don't bother programmer.\n",
      "Guess the number: 안녕\n",
      "Plz, don't bother programmer.\n",
      "Guess the number: 안녕\n",
      "Plz, don't bother programmer.\n",
      "Guess the number: ㄴㅇㄻㄴ\n",
      "Plz, don't bother programmer.\n",
      "Guess the number: 5\n"
     ]
    }
   ],
   "source": [
    "def get_num_from_user():\n",
    "    try:\n",
    "        guess = int(input('Guess the number: '))\n",
    "    except:\n",
    "        print(\"Plz, don't bother programmer.\")\n",
    "        return get_num_from_user()\n",
    "    \n",
    "get_num_from_user()"
   ]
  },
  {
   "cell_type": "code",
   "execution_count": 9,
   "metadata": {},
   "outputs": [
    {
     "name": "stdout",
     "output_type": "stream",
     "text": [
      "Guess the number: jiisdf\n",
      "Plz, don't bother programmer.\n",
      "Guess the number: try\n",
      "Plz, don't bother programmer.\n",
      "Guess the number: again\n",
      "Plz, don't bother programmer.\n",
      "Guess the number: 1\n"
     ]
    },
    {
     "data": {
      "text/plain": [
       "1"
      ]
     },
     "execution_count": 9,
     "metadata": {},
     "output_type": "execute_result"
    }
   ],
   "source": [
    "def get_num_from_user():\n",
    "    try:\n",
    "        guess = int(input('Guess the number: '))\n",
    "        return guess\n",
    "    except ValueError:\n",
    "        print(\"Plz, don't bother programmer.\")\n",
    "        return get_num_from_user()\n",
    "    \n",
    "get_num_from_user()"
   ]
  },
  {
   "cell_type": "code",
   "execution_count": 10,
   "metadata": {},
   "outputs": [
    {
     "name": "stdout",
     "output_type": "stream",
     "text": [
      "Guess the number: ji\n",
      "Enter number again.\n",
      "Guess the number: ji\n",
      "Enter number again.\n",
      "Guess the number: sdf\n",
      "Enter number again.\n",
      "Guess the number: f=open('blahblah.csv','r'\n",
      "Enter number again.\n",
      "Guess the number: 1\n"
     ]
    },
    {
     "data": {
      "text/plain": [
       "1"
      ]
     },
     "execution_count": 10,
     "metadata": {},
     "output_type": "execute_result"
    }
   ],
   "source": [
    "def get_num_from_user():\n",
    "    try:\n",
    "        guess = int(input('Guess the number: '))\n",
    "        return guess\n",
    "    except ValueError:\n",
    "        print(\"Enter number again.\")\n",
    "        return get_num_from_user()\n",
    "    except NameError:\n",
    "        print(\"There are internal problem err_code:123.\")\n",
    "    \n",
    "    except FileNotFoundError:\n",
    "        print(\"I can not found File named: blahblah.csv\")\n",
    "    else:\n",
    "        print('plz, do not bother Programmer')\n",
    "    \n",
    "get_num_from_user()"
   ]
  },
  {
   "cell_type": "code",
   "execution_count": 11,
   "metadata": {},
   "outputs": [
    {
     "ename": "FileNotFoundError",
     "evalue": "[Errno 2] No such file or directory: 'blahblah.csv'",
     "output_type": "error",
     "traceback": [
      "\u001b[0;31m---------------------------------------------------------------------------\u001b[0m",
      "\u001b[0;31mFileNotFoundError\u001b[0m                         Traceback (most recent call last)",
      "\u001b[0;32m<ipython-input-11-82b85fac2b16>\u001b[0m in \u001b[0;36m<module>\u001b[0;34m\u001b[0m\n\u001b[0;32m----> 1\u001b[0;31m \u001b[0mf\u001b[0m \u001b[0;34m=\u001b[0m \u001b[0mopen\u001b[0m\u001b[0;34m(\u001b[0m\u001b[0;34m'blahblah.csv'\u001b[0m\u001b[0;34m,\u001b[0m \u001b[0;34m'r'\u001b[0m\u001b[0;34m)\u001b[0m\u001b[0;34m\u001b[0m\u001b[0;34m\u001b[0m\u001b[0m\n\u001b[0m",
      "\u001b[0;31mFileNotFoundError\u001b[0m: [Errno 2] No such file or directory: 'blahblah.csv'"
     ]
    }
   ],
   "source": [
    "f = open('blahblah.csv', 'r')"
   ]
  },
  {
   "cell_type": "code",
   "execution_count": 14,
   "metadata": {},
   "outputs": [
    {
     "name": "stdout",
     "output_type": "stream",
     "text": [
      "Guess the number: open('blahblah.csv', 'r')\n",
      "Enter number again.\n"
     ]
    },
    {
     "ename": "NameError",
     "evalue": "name 'get_num_form_user' is not defined",
     "output_type": "error",
     "traceback": [
      "\u001b[0;31m---------------------------------------------------------------------------\u001b[0m",
      "\u001b[0;31mNameError\u001b[0m                                 Traceback (most recent call last)",
      "\u001b[0;32m<ipython-input-14-29e3cf8bc086>\u001b[0m in \u001b[0;36m<module>\u001b[0;34m\u001b[0m\n\u001b[1;32m     18\u001b[0m         \u001b[0;32mreturn\u001b[0m \u001b[0mget_num_form_user\u001b[0m\u001b[0;34m(\u001b[0m\u001b[0;34m)\u001b[0m\u001b[0;34m\u001b[0m\u001b[0;34m\u001b[0m\u001b[0m\n\u001b[1;32m     19\u001b[0m \u001b[0;34m\u001b[0m\u001b[0m\n\u001b[0;32m---> 20\u001b[0;31m \u001b[0mget_num_from_user\u001b[0m\u001b[0;34m(\u001b[0m\u001b[0;34m)\u001b[0m\u001b[0;34m\u001b[0m\u001b[0;34m\u001b[0m\u001b[0m\n\u001b[0m",
      "\u001b[0;32m<ipython-input-14-29e3cf8bc086>\u001b[0m in \u001b[0;36mget_num_from_user\u001b[0;34m()\u001b[0m\n\u001b[1;32m     16\u001b[0m     \u001b[0;32mfinally\u001b[0m\u001b[0;34m:\u001b[0m\u001b[0;34m\u001b[0m\u001b[0;34m\u001b[0m\u001b[0m\n\u001b[1;32m     17\u001b[0m         \u001b[0mprint\u001b[0m\u001b[0;34m(\u001b[0m\u001b[0mmsg\u001b[0m\u001b[0;34m)\u001b[0m\u001b[0;34m\u001b[0m\u001b[0;34m\u001b[0m\u001b[0m\n\u001b[0;32m---> 18\u001b[0;31m         \u001b[0;32mreturn\u001b[0m \u001b[0mget_num_form_user\u001b[0m\u001b[0;34m(\u001b[0m\u001b[0;34m)\u001b[0m\u001b[0;34m\u001b[0m\u001b[0;34m\u001b[0m\u001b[0m\n\u001b[0m\u001b[1;32m     19\u001b[0m \u001b[0;34m\u001b[0m\u001b[0m\n\u001b[1;32m     20\u001b[0m \u001b[0mget_num_from_user\u001b[0m\u001b[0;34m(\u001b[0m\u001b[0;34m)\u001b[0m\u001b[0;34m\u001b[0m\u001b[0;34m\u001b[0m\u001b[0m\n",
      "\u001b[0;31mNameError\u001b[0m: name 'get_num_form_user' is not defined"
     ]
    }
   ],
   "source": [
    "def get_num_from_user():\n",
    "    try:\n",
    "        guess = int(input('Guess the number: '))\n",
    "        msg = ''\n",
    "        return guess\n",
    "    except ValueError:\n",
    "        msg = \"Enter number again.\"\n",
    "       \n",
    "    except NameError:\n",
    "        msg = \"There are internal problem err_code:123.\"\n",
    "    \n",
    "    except FileNotFoundError:\n",
    "        msg = \"I can not found File named: blahblah.csv\"\n",
    "    else:\n",
    "        msg = 'plz, do not bother Programmer'\n",
    "    finally:\n",
    "        print(msg)\n",
    "        return get_num_form_user()\n",
    "    \n",
    "get_num_from_user()"
   ]
  },
  {
   "cell_type": "code",
   "execution_count": 1,
   "metadata": {},
   "outputs": [],
   "source": [
    "# Regular Expression"
   ]
  },
  {
   "cell_type": "code",
   "execution_count": 6,
   "metadata": {},
   "outputs": [
    {
     "name": "stdout",
     "output_type": "stream",
     "text": [
      "<re.Match object; span=(0, 3), match='pen'>\n",
      "None\n"
     ]
    }
   ],
   "source": [
    "import re\n",
    "a = 'penpineapple'\n",
    "b = 'applepen'\n",
    "\n",
    "m = re.match(r'^pen', a)     # ^(caret): 정의한 문자열 패턴으로 시작\n",
    "n = re.match(r'.+^pen$', b)\n",
    "print(m,n,sep='\\n')"
   ]
  },
  {
   "cell_type": "code",
   "execution_count": 7,
   "metadata": {},
   "outputs": [
    {
     "data": {
      "text/plain": [
       "'pen'"
      ]
     },
     "execution_count": 7,
     "metadata": {},
     "output_type": "execute_result"
    }
   ],
   "source": [
    "m.group()      # 매치된 문자열을 돌려준다."
   ]
  },
  {
   "cell_type": "code",
   "execution_count": 8,
   "metadata": {},
   "outputs": [
    {
     "data": {
      "text/plain": [
       "0"
      ]
     },
     "execution_count": 8,
     "metadata": {},
     "output_type": "execute_result"
    }
   ],
   "source": [
    "m.start()      # 매치된 문자열의 시작 위치를 돌려준다."
   ]
  },
  {
   "cell_type": "code",
   "execution_count": 10,
   "metadata": {},
   "outputs": [
    {
     "data": {
      "text/plain": [
       "3"
      ]
     },
     "execution_count": 10,
     "metadata": {},
     "output_type": "execute_result"
    }
   ],
   "source": [
    "m.end()        # 매치된 문자열의 끝 위치를 돌려준다."
   ]
  },
  {
   "cell_type": "code",
   "execution_count": 12,
   "metadata": {},
   "outputs": [
    {
     "data": {
      "text/plain": [
       "(0, 3)"
      ]
     },
     "execution_count": 12,
     "metadata": {},
     "output_type": "execute_result"
    }
   ],
   "source": [
    "m.span()       # 매치된 문자열의(시작, 끝)에 해당하는 튜플을 돌려준다."
   ]
  },
  {
   "cell_type": "code",
   "execution_count": 13,
   "metadata": {},
   "outputs": [
    {
     "data": {
      "text/plain": [
       "'pen'"
      ]
     },
     "execution_count": 13,
     "metadata": {},
     "output_type": "execute_result"
    }
   ],
   "source": [
    "# m.group()\n",
    "a[m.start():m.end()]"
   ]
  },
  {
   "cell_type": "code",
   "execution_count": 17,
   "metadata": {},
   "outputs": [
    {
     "ename": "SyntaxError",
     "evalue": "invalid syntax (<ipython-input-17-dfbe78b7e6a1>, line 1)",
     "output_type": "error",
     "traceback": [
      "\u001b[0;36m  File \u001b[0;32m\"<ipython-input-17-dfbe78b7e6a1>\"\u001b[0;36m, line \u001b[0;32m1\u001b[0m\n\u001b[0;31m    ale aple apple appple apppple appppple\u001b[0m\n\u001b[0m        ^\u001b[0m\n\u001b[0;31mSyntaxError\u001b[0m\u001b[0;31m:\u001b[0m invalid syntax\n"
     ]
    }
   ],
   "source": [
    "ale aple apple appple apppple appppple\n",
    "r'app*le'      # p가 0번 이상 반복됨\n",
    "\n",
    "aple apple appple apppple appppple"
   ]
  },
  {
   "cell_type": "code",
   "execution_count": 19,
   "metadata": {},
   "outputs": [
    {
     "ename": "SyntaxError",
     "evalue": "illegal target for annotation (<ipython-input-19-ff71daca390f>, line 4)",
     "output_type": "error",
     "traceback": [
      "\u001b[0;36m  File \u001b[0;32m\"<ipython-input-19-ff71daca390f>\"\u001b[0;36m, line \u001b[0;32m4\u001b[0m\n\u001b[0;31m    r'.*' : ''\u001b[0m\n\u001b[0m    ^\u001b[0m\n\u001b[0;31mSyntaxError\u001b[0m\u001b[0;31m:\u001b[0m illegal target for annotation\n"
     ]
    }
   ],
   "source": [
    "import re \n",
    "\n",
    "\n",
    "r'.*' : ''    # \\n을 제외한 모든문자(.)가 0번 이상 반복됨 ''와 같음"
   ]
  },
  {
   "cell_type": "code",
   "execution_count": 23,
   "metadata": {},
   "outputs": [
    {
     "name": "stdout",
     "output_type": "stream",
     "text": [
      "<re.Match object; span=(0, 0), match=''>\n"
     ]
    }
   ],
   "source": [
    "p = re.match(r'.*', '')  # \\n을 제외한 모든문자(.) 한번 이상 반복됨 ''와 같지 않음\n",
    "print(p)"
   ]
  },
  {
   "cell_type": "code",
   "execution_count": 16,
   "metadata": {},
   "outputs": [
    {
     "name": "stdout",
     "output_type": "stream",
     "text": [
      "None\n"
     ]
    }
   ],
   "source": [
    "o = re.match(r'.+', '')  # \\n을 제외한 모든문자(.) 한번 이상 반복됨 ''와 같지 않음\n",
    "print(o)"
   ]
  },
  {
   "cell_type": "code",
   "execution_count": 19,
   "metadata": {},
   "outputs": [],
   "source": [
    "a = 'penpineapple'\n",
    "b = 'applepen'\n",
    "c = 'pen'\n",
    "m = re.match(r'^.*(pen)$', c)   # \\n을 제외한 모든문자(.)가 0번 이상 반복되는 것으로 시작하고 pen으로 끝나는 문자열\n",
    "                                # $(dollar sign): 정의한 문자열 패턴으로 끝남"
   ]
  },
  {
   "cell_type": "code",
   "execution_count": 20,
   "metadata": {},
   "outputs": [
    {
     "data": {
      "text/plain": [
       "<re.Match object; span=(0, 3), match='pen'>"
      ]
     },
     "execution_count": 20,
     "metadata": {},
     "output_type": "execute_result"
    }
   ],
   "source": [
    "m"
   ]
  },
  {
   "cell_type": "code",
   "execution_count": 22,
   "metadata": {},
   "outputs": [
    {
     "data": {
      "text/plain": [
       "<re.Match object; span=(0, 8), match='applepen'>"
      ]
     },
     "execution_count": 22,
     "metadata": {},
     "output_type": "execute_result"
    }
   ],
   "source": [
    "n = re.match(r'^.*(pen)$', b)\n",
    "n"
   ]
  },
  {
   "cell_type": "code",
   "execution_count": 32,
   "metadata": {},
   "outputs": [
    {
     "ename": "SyntaxError",
     "evalue": "invalid syntax (<ipython-input-32-301eb4fa6cba>, line 1)",
     "output_type": "error",
     "traceback": [
      "\u001b[0;36m  File \u001b[0;32m\"<ipython-input-32-301eb4fa6cba>\"\u001b[0;36m, line \u001b[0;32m1\u001b[0m\n\u001b[0;31m    ale aple apple appple apppple appppple appppppple\u001b[0m\n\u001b[0m        ^\u001b[0m\n\u001b[0;31mSyntaxError\u001b[0m\u001b[0;31m:\u001b[0m invalid syntax\n"
     ]
    }
   ],
   "source": [
    "ale aple apple appple apppple appppple appppppple\n",
    "r'ap{1,3}le'   # p{1,3} : p가 1~3회 반복 \n",
    "aple apple appple"
   ]
  },
  {
   "cell_type": "code",
   "execution_count": 34,
   "metadata": {},
   "outputs": [
    {
     "data": {
      "text/plain": [
       "['ale',\n",
       " 'aple',\n",
       " 'apple',\n",
       " 'appple',\n",
       " 'apppple',\n",
       " 'appppple',\n",
       " 'apppppple',\n",
       " 'appppppple',\n",
       " 'apppppppple',\n",
       " 'appppppppple']"
      ]
     },
     "execution_count": 34,
     "metadata": {},
     "output_type": "execute_result"
    }
   ],
   "source": [
    "apples = ['a' + 'p'*i + 'le' for i in range(10)]\n",
    "apples"
   ]
  },
  {
   "cell_type": "code",
   "execution_count": 44,
   "metadata": {},
   "outputs": [
    {
     "name": "stdout",
     "output_type": "stream",
     "text": [
      "ale None\n",
      "aple None\n",
      "apple <re.Match object; span=(0, 5), match='apple'>\n",
      "appple None\n",
      "apppple None\n",
      "appppple None\n",
      "apppppple None\n",
      "appppppple None\n",
      "apppppppple None\n",
      "appppppppple None\n"
     ]
    }
   ],
   "source": [
    "for item in apples:\n",
    "    m = re.match(r'^ap{2}le$',item)  # a로 시작하고 le로 끝나는 문자열에서 p가 2번 반복되는 문자열\n",
    "                 # 정규표현식, match할 대상\n",
    "    print(item, m)\n",
    "# p{3} : ppp p를 3번 반복\n",
    "# p{1,3} : p, pp, ppp p를 1~3번 반복"
   ]
  },
  {
   "cell_type": "code",
   "execution_count": null,
   "metadata": {},
   "outputs": [],
   "source": [
    "ba(na){2} == banana\n",
    "ba(na){0,2} == ba, bana, banana"
   ]
  },
  {
   "cell_type": "code",
   "execution_count": 40,
   "metadata": {},
   "outputs": [
    {
     "data": {
      "text/plain": [
       "'[A-Za-z0-9\\\\-\\\\_\\\\.\\\\+]{4,32}@gmail\\\\.com'"
      ]
     },
     "execution_count": 40,
     "metadata": {},
     "output_type": "execute_result"
    }
   ],
   "source": [
    "r'[A-Za-z0-9\\-\\_\\.\\+]{4,32}@gmail\\.com' # alphabet, number, -,_,.,+ 가 4~32개 있음\n",
    "# [] : 문자클래스를 의미\n",
    "# 대괄호 사이에 나열한 문자 중 하나의 값과 일치하니?\n",
    "\n",
    "# [A-Za-z] == 대문자 소문자 알파벳 모두\n",
    "# [가-힣] == 한글 모두\n",
    "# [a-g0-5] == a,b,c,d,e,f,g와 0,1,2,3,4,5 중 하나의 문자\n",
    "# [^] == 대괄호 안에서의 caret은 부정을 의미\n",
    "# ps. r'^pen$' == 여기서의 caret는 시작을 의미\n",
    "# [^0-9] == 숫자가 아닌 문자 == \\D\n",
    "# ps. [0-9] == \\d\n",
    "# [^A-Za-z] == 알파벳이 아닌 모든 문자 \n"
   ]
  },
  {
   "cell_type": "code",
   "execution_count": 41,
   "metadata": {},
   "outputs": [
    {
     "ename": "NameError",
     "evalue": "name 'fastest' is not defined",
     "output_type": "error",
     "traceback": [
      "\u001b[0;31m---------------------------------------------------------------------------\u001b[0m",
      "\u001b[0;31mNameError\u001b[0m                                 Traceback (most recent call last)",
      "\u001b[0;32m<ipython-input-41-5de8bee6f130>\u001b[0m in \u001b[0;36m<module>\u001b[0;34m\u001b[0m\n\u001b[0;32m----> 1\u001b[0;31m \u001b[0mfastest\u001b[0m\u001b[0;34m\u001b[0m\u001b[0;34m\u001b[0m\u001b[0m\n\u001b[0m\u001b[1;32m      2\u001b[0m \u001b[0mapplecampus\u001b[0m\u001b[0;34m\u001b[0m\u001b[0;34m\u001b[0m\u001b[0m\n\u001b[1;32m      3\u001b[0m \u001b[0;34mr'.*(fast|campus).*'\u001b[0m\u001b[0;34m\u001b[0m\u001b[0;34m\u001b[0m\u001b[0m\n",
      "\u001b[0;31mNameError\u001b[0m: name 'fastest' is not defined"
     ]
    }
   ],
   "source": [
    "fastest\n",
    "applecampus\n",
    "r'.*(fast|campus).*'  # (): 소괄호 안의 문자열의 그룹을 의미\n",
    "# (apple)+ == penpineappleapplepen, (apple)가 한번 이상 반복되어야 함\n",
    "# |: |의 좌우 중 하나의 값과 일치하는 경우를 의미\n",
    "# (apple|apqle) == apple 또는 apqle\n",
    "# ap[p|q]le == apple 또는 apqle\n"
   ]
  },
  {
   "cell_type": "code",
   "execution_count": 42,
   "metadata": {},
   "outputs": [],
   "source": [
    "# .(dot): \\n을 제외한 모든 문자를 의미\n",
    "# a.ple == acple, abple, aaple,.."
   ]
  },
  {
   "cell_type": "code",
   "execution_count": 43,
   "metadata": {},
   "outputs": [],
   "source": [
    "# ?(question mark): 앞 문자가 있거나 없거나를 의미\n",
    "# appl?e == apple, appe"
   ]
  },
  {
   "cell_type": "code",
   "execution_count": 46,
   "metadata": {},
   "outputs": [
    {
     "data": {
      "text/plain": [
       "'[A-Za-z0-9\\\\-]+'"
      ]
     },
     "execution_count": 46,
     "metadata": {},
     "output_type": "execute_result"
    }
   ],
   "source": [
    "r'[A-Za-z0-9\\-\\_\\.\\+]{4,32}@gmail\\.com'\n",
    "r'(naver|gmail|daum|nate|live|hotmail|korea|yahoo|lycos)'\n",
    "r'[A-Za-z0-9\\-]+'\n",
    "\n",
    "# \\(backslach): 정규표현식을 만들 때 메타문자가 아닌 그 문자 그대로 사용하기 위해\n",
    "# https://"
   ]
  },
  {
   "cell_type": "code",
   "execution_count": 48,
   "metadata": {},
   "outputs": [
    {
     "name": "stdout",
     "output_type": "stream",
     "text": [
      "ale None\n",
      "aple None\n",
      "apple <re.Match object; span=(0, 5), match='apple'>\n",
      "appple None\n",
      "apppple None\n",
      "appppple None\n",
      "apppppple None\n",
      "appppppple None\n",
      "apppppppple None\n",
      "appppppppple None\n"
     ]
    }
   ],
   "source": [
    "# Do complile first!!!\n",
    "apples = ['a'+'p'*i +'le' for i in range(10)]\n",
    "apple_finder = re.compile(r'^ap{2}le$')\n",
    "\n",
    "# r'^ap{2}le$' 이 정규표현식이 item 매치되는게 있니?\n",
    "\n",
    "for item in apples:\n",
    "    m = apple_finder.match(item)\n",
    "  # m = re.match(r'^ap{2}le$',item) 과 같은 표현\n",
    "    print(item, m)\n",
    "                "
   ]
  },
  {
   "cell_type": "code",
   "execution_count": 49,
   "metadata": {},
   "outputs": [],
   "source": [
    "## Hackerrank 문제 풀이 \n",
    "# 1. re.findall vs. re.finditer\n",
    "# 2. Regex Substitution  ---No\n",
    "# 3. Parsing Email addresses\n",
    "# 4. Phone number"
   ]
  },
  {
   "cell_type": "code",
   "execution_count": 53,
   "metadata": {},
   "outputs": [
    {
     "data": {
      "text/plain": [
       "['h',\n",
       " 't',\n",
       " 't',\n",
       " 'p',\n",
       " 'w',\n",
       " 'w',\n",
       " 'w',\n",
       " 'h',\n",
       " 'a',\n",
       " 'c',\n",
       " 'k',\n",
       " 'e',\n",
       " 'r',\n",
       " 'r',\n",
       " 'a',\n",
       " 'n',\n",
       " 'k',\n",
       " 'c',\n",
       " 'o',\n",
       " 'm']"
      ]
     },
     "execution_count": 53,
     "metadata": {},
     "output_type": "execute_result"
    }
   ],
   "source": [
    "import re\n",
    "\n",
    "re.findall(r'\\w','http://www.hackerrank.com/')\n",
    "  #findall(): 정규식과 매치되는 모든 문자열을 리스트로 돌려준다.\n",
    "            #\\w == [A-Za-z0-9] 문자+숫자와 매치\n",
    "            #\\W == [^A-za-z0-9] 문자+숫자가 아닌 문자와 매치"
   ]
  },
  {
   "cell_type": "code",
   "execution_count": 54,
   "metadata": {},
   "outputs": [
    {
     "data": {
      "text/plain": [
       "[':', '/', '/', '.', '.', '/']"
      ]
     },
     "execution_count": 54,
     "metadata": {},
     "output_type": "execute_result"
    }
   ],
   "source": [
    "re.findall(r'\\W','http://www.hackerrank.com/')"
   ]
  },
  {
   "cell_type": "code",
   "execution_count": 55,
   "metadata": {},
   "outputs": [
    {
     "data": {
      "text/plain": [
       "<callable_iterator at 0x7f6711f9eb50>"
      ]
     },
     "execution_count": 55,
     "metadata": {},
     "output_type": "execute_result"
    }
   ],
   "source": [
    "import re\n",
    "\n",
    "\n",
    "re.finditer(r'\\w','http://www.hackerrank.com/')\n",
    " # finditer(): 정규식과 매치되는 모든 문자열을 반복 가능한 객체로 돌려준다."
   ]
  },
  {
   "cell_type": "code",
   "execution_count": 59,
   "metadata": {},
   "outputs": [
    {
     "data": {
      "text/plain": [
       "['h',\n",
       " 't',\n",
       " 't',\n",
       " 'p',\n",
       " 'w',\n",
       " 'w',\n",
       " 'w',\n",
       " 'h',\n",
       " 'a',\n",
       " 'c',\n",
       " 'k',\n",
       " 'e',\n",
       " 'r',\n",
       " 'r',\n",
       " 'a',\n",
       " 'n',\n",
       " 'k',\n",
       " 'c',\n",
       " 'o',\n",
       " 'm']"
      ]
     },
     "execution_count": 59,
     "metadata": {},
     "output_type": "execute_result"
    }
   ],
   "source": [
    "list(map(lambda x: x.group(),re.finditer(r'\\w','http://www.hackerrank.com/')))"
   ]
  },
  {
   "cell_type": "code",
   "execution_count": 65,
   "metadata": {},
   "outputs": [],
   "source": [
    "# (?=) : 전방탐색 \n",
    "# re.findall(r'.+(?=:)', 'http://www.abc.com')  : 앞에 있는 애들 출력\n",
    "# 결과값 : ['http']\n",
    "# (?<=) : 후방탐색\n",
    "# re.findall(r'(?<=\\$)[0-9.]+', '1: $600.4')    $ 뒤에 있는 애들 출력\n",
    "# 결과값 : ['600.4']\n",
    "# re.I: 대소문자 관계 없이 매치"
   ]
  },
  {
   "cell_type": "code",
   "execution_count": 71,
   "metadata": {},
   "outputs": [
    {
     "data": {
      "text/plain": [
       "['http']"
      ]
     },
     "execution_count": 71,
     "metadata": {},
     "output_type": "execute_result"
    }
   ],
   "source": [
    "re.findall(r'.+(?=:)', 'http://www.abc.com')"
   ]
  },
  {
   "cell_type": "code",
   "execution_count": 73,
   "metadata": {},
   "outputs": [
    {
     "data": {
      "text/plain": [
       "['600.4']"
      ]
     },
     "execution_count": 73,
     "metadata": {},
     "output_type": "execute_result"
    }
   ],
   "source": [
    "re.findall(r'(?<=\\$)[0-9.]+', '1: $600.4')"
   ]
  },
  {
   "cell_type": "code",
   "execution_count": 2,
   "metadata": {},
   "outputs": [
    {
     "name": "stdout",
     "output_type": "stream",
     "text": [
      "ee\n",
      "Ioo\n",
      "Oeo\n",
      "eeeee\n"
     ]
    }
   ],
   "source": [
    "import re\n",
    "\n",
    "\n",
    "i = 'rabcdeefgyYhFjkIoomnpOeorteeeeet'\n",
    "c = '[qwrtypsdfghjklzxcvbnm]'\n",
    "# r'(?<=' + c + ')([aeiou]{2,})'+ c\n",
    "a = re.findall(r'(?<=' + c + ')([aeiou]{2,})'+c, i, re.I)\n",
    "print('\\n'.join(a))"
   ]
  },
  {
   "cell_type": "code",
   "execution_count": 15,
   "metadata": {},
   "outputs": [
    {
     "name": "stdout",
     "output_type": "stream",
     "text": [
      "ee\n",
      "Ioo\n",
      "Oeo\n",
      "eeeee\n"
     ]
    }
   ],
   "source": [
    "import re\n",
    "\n",
    "i = 'rabcdeefgyYhFjkIoomnpOeorteeeeet'\n",
    "aeiou_finder = re.compile(r'(?<=[qwrtypsdfghjklzxcvbnm])[aeiou]{2,}(?=[qwrtypsdfghjklzxcvbnm])', re.I)\n",
    "result = aeiou_finder.findall(i)\n",
    "if result != []:\n",
    "    for row in result:\n",
    "        print(row)\n"
   ]
  },
  {
   "cell_type": "code",
   "execution_count": 2,
   "metadata": {},
   "outputs": [
    {
     "name": "stdout",
     "output_type": "stream",
     "text": [
      "DOSHI <DOSHI@hackerrank.com>\n",
      "DOSHI DOSHI@hackerrank.com\n"
     ]
    }
   ],
   "source": [
    "#input() = DOSHI <DOSHI@hackerrank.com>\n",
    "import email.utils, re\n",
    "\n",
    "u_name, u_mail = email.utils.parseaddr(input())\n",
    "#e_mail_filter = re.fullmatch(r'[a-z]+(\\w|\\-|\\_|\\.)+\\@[a-z]+\\.[a-z]{1,3}',u_mail,re.I)\n",
    "print(u_name, u_mail)"
   ]
  },
  {
   "cell_type": "code",
   "execution_count": 150,
   "metadata": {},
   "outputs": [
    {
     "name": "stdout",
     "output_type": "stream",
     "text": [
      "7897845685\n",
      "YES\n",
      "4567894563\n",
      "NO\n"
     ]
    }
   ],
   "source": [
    "import re\n",
    "\n",
    "\n",
    "\n",
    "phonenum_pattern = re.compile(r'[7-9][0-9]{9}')\n",
    "\n",
    "for _ in range(2):\n",
    "    phonenum_string = input()\n",
    "\n",
    "    result = phonenum_pattern.fullmatch(phonenum_string)\n",
    "    if result:\n",
    "        print('YES')\n",
    "    else:\n",
    "        print('NO')"
   ]
  },
  {
   "cell_type": "code",
   "execution_count": 151,
   "metadata": {},
   "outputs": [],
   "source": [
    "# Lambda\n",
    "\n",
    "def get_next_interger(i):\n",
    "    return i+1"
   ]
  },
  {
   "cell_type": "code",
   "execution_count": 153,
   "metadata": {},
   "outputs": [
    {
     "data": {
      "text/plain": [
       "2"
      ]
     },
     "execution_count": 153,
     "metadata": {},
     "output_type": "execute_result"
    }
   ],
   "source": [
    "get_next_interger(1)"
   ]
  },
  {
   "cell_type": "code",
   "execution_count": 154,
   "metadata": {},
   "outputs": [
    {
     "data": {
      "text/plain": [
       "<function __main__.<lambda>(i)>"
      ]
     },
     "execution_count": 154,
     "metadata": {},
     "output_type": "execute_result"
    }
   ],
   "source": [
    "lambda i:i+1"
   ]
  },
  {
   "cell_type": "code",
   "execution_count": 155,
   "metadata": {},
   "outputs": [
    {
     "data": {
      "text/plain": [
       "2"
      ]
     },
     "execution_count": 155,
     "metadata": {},
     "output_type": "execute_result"
    }
   ],
   "source": [
    "(lambda i:i+1)(1)"
   ]
  },
  {
   "cell_type": "code",
   "execution_count": 156,
   "metadata": {},
   "outputs": [
    {
     "data": {
      "text/plain": [
       "12"
      ]
     },
     "execution_count": 156,
     "metadata": {},
     "output_type": "execute_result"
    }
   ],
   "source": [
    "(lambda i,j:i+j+1)(1,10)"
   ]
  },
  {
   "cell_type": "code",
   "execution_count": 157,
   "metadata": {},
   "outputs": [
    {
     "data": {
      "text/plain": [
       "[1, 2, 3, 4, 5, 6, 7, 8, 9, 10]"
      ]
     },
     "execution_count": 157,
     "metadata": {},
     "output_type": "execute_result"
    }
   ],
   "source": [
    "numbers = [i for i in range(1,10+1)]\n",
    "numbers"
   ]
  },
  {
   "cell_type": "code",
   "execution_count": 159,
   "metadata": {},
   "outputs": [
    {
     "data": {
      "text/plain": [
       "[2, 3, 4, 5, 6, 7, 8, 9, 10, 11]"
      ]
     },
     "execution_count": 159,
     "metadata": {},
     "output_type": "execute_result"
    }
   ],
   "source": [
    "numbers_plus = [i+1 for i in numbers]\n",
    "numbers_plus"
   ]
  },
  {
   "cell_type": "code",
   "execution_count": 160,
   "metadata": {},
   "outputs": [],
   "source": [
    "def int_plus_one(a):\n",
    "    return a + 1"
   ]
  },
  {
   "cell_type": "code",
   "execution_count": 163,
   "metadata": {},
   "outputs": [
    {
     "data": {
      "text/plain": [
       "[2, 3, 4, 5, 6, 7, 8, 9, 10, 11]"
      ]
     },
     "execution_count": 163,
     "metadata": {},
     "output_type": "execute_result"
    }
   ],
   "source": [
    "list(map(int_plus_one, numbers))\n",
    "          #함수,      일하는 대상"
   ]
  },
  {
   "cell_type": "code",
   "execution_count": 164,
   "metadata": {},
   "outputs": [
    {
     "data": {
      "text/plain": [
       "[2, 3, 4, 5, 6, 7, 8, 9, 10, 11]"
      ]
     },
     "execution_count": 164,
     "metadata": {},
     "output_type": "execute_result"
    }
   ],
   "source": [
    "list(map(lambda i:i+1, numbers))"
   ]
  },
  {
   "cell_type": "code",
   "execution_count": 165,
   "metadata": {},
   "outputs": [],
   "source": [
    "step = map(lambda i:i+1, numbers)"
   ]
  },
  {
   "cell_type": "code",
   "execution_count": 167,
   "metadata": {},
   "outputs": [
    {
     "data": {
      "text/plain": [
       "3"
      ]
     },
     "execution_count": 167,
     "metadata": {},
     "output_type": "execute_result"
    }
   ],
   "source": [
    "next(step)"
   ]
  },
  {
   "cell_type": "code",
   "execution_count": 168,
   "metadata": {},
   "outputs": [
    {
     "data": {
      "text/plain": [
       "[4, 5, 6, 7, 8, 9, 10, 11]"
      ]
     },
     "execution_count": 168,
     "metadata": {},
     "output_type": "execute_result"
    }
   ],
   "source": [
    "list(step)"
   ]
  },
  {
   "cell_type": "code",
   "execution_count": 169,
   "metadata": {},
   "outputs": [],
   "source": [
    "numbers = [i for i in range(1,10+1)]\n",
    "def get_squared(num_list):\n",
    "    result=[]\n",
    "    for i in num_list:\n",
    "        result.append(i**2)\n",
    "    return result\n",
    "        "
   ]
  },
  {
   "cell_type": "code",
   "execution_count": 170,
   "metadata": {},
   "outputs": [
    {
     "data": {
      "text/plain": [
       "[1, 4, 9, 16, 25, 36, 49, 64, 81, 100]"
      ]
     },
     "execution_count": 170,
     "metadata": {},
     "output_type": "execute_result"
    }
   ],
   "source": [
    "get_squared(numbers)"
   ]
  },
  {
   "cell_type": "code",
   "execution_count": 171,
   "metadata": {},
   "outputs": [
    {
     "data": {
      "text/plain": [
       "[1, 4, 9, 16, 25, 36, 49, 64, 81, 100]"
      ]
     },
     "execution_count": 171,
     "metadata": {},
     "output_type": "execute_result"
    }
   ],
   "source": [
    "def do_square(num):\n",
    "    return num **2\n",
    "list(map(do_square, numbers))"
   ]
  },
  {
   "cell_type": "code",
   "execution_count": 172,
   "metadata": {},
   "outputs": [
    {
     "data": {
      "text/plain": [
       "[1, 4, 9, 16, 25, 36, 49, 64, 81, 100]"
      ]
     },
     "execution_count": 172,
     "metadata": {},
     "output_type": "execute_result"
    }
   ],
   "source": [
    "list(map(lambda i:i**2, numbers))"
   ]
  },
  {
   "cell_type": "code",
   "execution_count": null,
   "metadata": {},
   "outputs": [],
   "source": []
  }
 ],
 "metadata": {
  "kernelspec": {
   "display_name": "Python 3",
   "language": "python",
   "name": "python3"
  },
  "language_info": {
   "codemirror_mode": {
    "name": "ipython",
    "version": 3
   },
   "file_extension": ".py",
   "mimetype": "text/x-python",
   "name": "python",
   "nbconvert_exporter": "python",
   "pygments_lexer": "ipython3",
   "version": "3.8.5"
  }
 },
 "nbformat": 4,
 "nbformat_minor": 4
}

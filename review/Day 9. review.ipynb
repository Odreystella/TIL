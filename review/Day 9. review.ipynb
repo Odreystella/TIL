{
 "cells": [
  {
   "cell_type": "code",
   "execution_count": 1,
   "metadata": {},
   "outputs": [],
   "source": [
    "# 파이썬에서 mutable한(변하는) 객체일 때 조심해야 함 "
   ]
  },
  {
   "cell_type": "code",
   "execution_count": 4,
   "metadata": {},
   "outputs": [
    {
     "data": {
      "text/plain": [
       "['strawberry']"
      ]
     },
     "execution_count": 4,
     "metadata": {},
     "output_type": "execute_result"
    }
   ],
   "source": [
    "fruits = ['strawberry']\n",
    "a = fruits\n",
    "a"
   ]
  },
  {
   "cell_type": "code",
   "execution_count": 7,
   "metadata": {},
   "outputs": [],
   "source": [
    "b = fruits\n",
    "b.append('banana')"
   ]
  },
  {
   "cell_type": "code",
   "execution_count": 8,
   "metadata": {},
   "outputs": [
    {
     "data": {
      "text/plain": [
       "['strawberry', 'banana']"
      ]
     },
     "execution_count": 8,
     "metadata": {},
     "output_type": "execute_result"
    }
   ],
   "source": [
    "b"
   ]
  },
  {
   "cell_type": "code",
   "execution_count": 9,
   "metadata": {},
   "outputs": [
    {
     "data": {
      "text/plain": [
       "['strawberry', 'banana']"
      ]
     },
     "execution_count": 9,
     "metadata": {},
     "output_type": "execute_result"
    }
   ],
   "source": [
    "a # mutable 객체를 넘겼기 때문에 a도 값이 바뀜, call by object reference"
   ]
  },
  {
   "cell_type": "code",
   "execution_count": 10,
   "metadata": {},
   "outputs": [],
   "source": [
    "# 함수의 인자 전달 방식\n",
    "# 파이썬은 모든 것이 객체임. 따라서 passed by assignment(어떤 값을 전달하느냐에 따라 달라짐)\n",
    "# mutable한 객체는 object reference를 참조(call, 호출)하는 방식임\n",
    "# 불변 타입(int, str)객체를 넘기면 call by value\n",
    "# : 변수를 복사한 값을 전달하는 방식이기 때문에 함수 내에서 인자를 조작하여도 원본 변수는 변하지 않음 \n",
    "# 가변 타입(list, dict)객체를 넘기면 call by reference \n",
    "# : 인자로 받은 변수의 주소 값을 전달하는 방식이기 떄문에 함수 내에서 인자를 조작하면 원본 변수의 주소값으로 타고 들어가 해당 값 자체를 바꿈"
   ]
  },
  {
   "cell_type": "code",
   "execution_count": 2,
   "metadata": {},
   "outputs": [
    {
     "data": {
      "text/plain": [
       "['strawberry']"
      ]
     },
     "execution_count": 2,
     "metadata": {},
     "output_type": "execute_result"
    }
   ],
   "source": [
    "# 특정한 함수 안에서만 이 객체가 값을 유지하려면 어떻게? type casting 해서 할당해야 함\n",
    "fruits = ['strawberry']\n",
    "a = list(fruits)  # a가 fruits객체를 원래 fruits가 갖고 있던 id값 외에 새로 만든 id값으로 참조하게 만듦\n",
    "a"
   ]
  },
  {
   "cell_type": "code",
   "execution_count": 3,
   "metadata": {},
   "outputs": [
    {
     "data": {
      "text/plain": [
       "['strawberry', 'banana']"
      ]
     },
     "execution_count": 3,
     "metadata": {},
     "output_type": "execute_result"
    }
   ],
   "source": [
    "b = fruits\n",
    "b.append('banana')\n",
    "b"
   ]
  },
  {
   "cell_type": "code",
   "execution_count": 4,
   "metadata": {},
   "outputs": [
    {
     "data": {
      "text/plain": [
       "['strawberry']"
      ]
     },
     "execution_count": 4,
     "metadata": {},
     "output_type": "execute_result"
    }
   ],
   "source": [
    "a \n",
    "# fruits 객체를 list화 하여 새로운 객체를 만들었고, 새로운 객체를 참조했기 때문에 값에 변화가 없음"
   ]
  },
  {
   "cell_type": "code",
   "execution_count": 16,
   "metadata": {},
   "outputs": [],
   "source": [
    "# Class variable에 mutable한 inventory를 선언하면?\n",
    "\n",
    "class Hero():\n",
    "    health = 100                         # class variable\n",
    "    inventory = []\n",
    "    \n",
    "    \n",
    "    def __init__(self, name, weapon):    # 생성자\n",
    "        self.name = name                 # instance variable\n",
    "        self.weapon = weapon\n",
    "        \n",
    "    def attack(self):\n",
    "        print('attack with {}'.format(self.weapon))\n",
    "    def save_item(self, item):\n",
    "        self.inventory.append(item)"
   ]
  },
  {
   "cell_type": "code",
   "execution_count": 7,
   "metadata": {},
   "outputs": [],
   "source": [
    "IronMan = Hero('iron man', 'suit')"
   ]
  },
  {
   "cell_type": "code",
   "execution_count": 8,
   "metadata": {},
   "outputs": [],
   "source": [
    "Hulk = Hero('hulk', 'fist')"
   ]
  },
  {
   "cell_type": "code",
   "execution_count": 9,
   "metadata": {},
   "outputs": [],
   "source": [
    "IronMan.save_item('$10,000')"
   ]
  },
  {
   "cell_type": "code",
   "execution_count": 11,
   "metadata": {},
   "outputs": [
    {
     "data": {
      "text/plain": [
       "['$10,000']"
      ]
     },
     "execution_count": 11,
     "metadata": {},
     "output_type": "execute_result"
    }
   ],
   "source": [
    "IronMan.inventory"
   ]
  },
  {
   "cell_type": "code",
   "execution_count": 13,
   "metadata": {},
   "outputs": [],
   "source": [
    "Hulk.save_item('book')"
   ]
  },
  {
   "cell_type": "code",
   "execution_count": 15,
   "metadata": {},
   "outputs": [
    {
     "data": {
      "text/plain": [
       "['$10,000', 'book']"
      ]
     },
     "execution_count": 15,
     "metadata": {},
     "output_type": "execute_result"
    }
   ],
   "source": [
    "Hulk.inventory"
   ]
  },
  {
   "cell_type": "code",
   "execution_count": 28,
   "metadata": {},
   "outputs": [],
   "source": [
    "# instance variable로서 inventory가 존재하게 하면 문제 해결!\n",
    "\n",
    "class Hero():\n",
    "    health = 100                              # class variable\n",
    "    \n",
    "    def __init__(self, name, weapon):         # 생성자\n",
    "        self.name = name                      # instance variable\n",
    "        self.weapon = weapon\n",
    "        self.inventory = []                   # mutable한 객체\n",
    "           \n",
    "    def attack(self):\n",
    "        print('attack with {}'.format(self.weapon))\n",
    "    def save_item(self, item):\n",
    "        self.inventory.append(item)"
   ]
  },
  {
   "cell_type": "code",
   "execution_count": 29,
   "metadata": {},
   "outputs": [],
   "source": [
    "IronMan = Hero('iron man', 'suit')"
   ]
  },
  {
   "cell_type": "code",
   "execution_count": 30,
   "metadata": {},
   "outputs": [],
   "source": [
    "Hulk = Hero('hulk', 'fist')"
   ]
  },
  {
   "cell_type": "code",
   "execution_count": 31,
   "metadata": {},
   "outputs": [],
   "source": [
    "IronMan.save_item('10,000')"
   ]
  },
  {
   "cell_type": "code",
   "execution_count": 32,
   "metadata": {},
   "outputs": [],
   "source": [
    "Hulk.save_item('book')"
   ]
  },
  {
   "cell_type": "code",
   "execution_count": 33,
   "metadata": {},
   "outputs": [
    {
     "data": {
      "text/plain": [
       "['book']"
      ]
     },
     "execution_count": 33,
     "metadata": {},
     "output_type": "execute_result"
    }
   ],
   "source": [
    "Hulk.inventory"
   ]
  },
  {
   "cell_type": "code",
   "execution_count": 34,
   "metadata": {},
   "outputs": [
    {
     "data": {
      "text/plain": [
       "['10,000']"
      ]
     },
     "execution_count": 34,
     "metadata": {},
     "output_type": "execute_result"
    }
   ],
   "source": [
    "IronMan.inventory"
   ]
  },
  {
   "cell_type": "code",
   "execution_count": 47,
   "metadata": {},
   "outputs": [],
   "source": [
    "# 소멸자, 위치는 생성자 다음에 \n",
    "\n",
    "class Hero():\n",
    "    health = 100                        # class variable\n",
    "    \n",
    "    def __init__(self, name, weapon):   # 생성자\n",
    "        self.name = name                # instance variable\n",
    "        self.weapon = weapon\n",
    "        self.inventory = []             # mutable한 객체\n",
    "    \n",
    "    def __del__(self):                  # 소멸자가 호출되면 해당 객체는 사라지게 됨\n",
    "        print('I love you 3000.')\n",
    "           \n",
    "    def attack(self):\n",
    "        print('attack with {}'.format(self.weapon))\n",
    "    def save_item(self, item):\n",
    "        self.inventory.append(item)"
   ]
  },
  {
   "cell_type": "code",
   "execution_count": 37,
   "metadata": {},
   "outputs": [],
   "source": [
    "IronMan = Hero('iron man', 'suit')"
   ]
  },
  {
   "cell_type": "code",
   "execution_count": 38,
   "metadata": {},
   "outputs": [
    {
     "data": {
      "text/plain": [
       "'iron man'"
      ]
     },
     "execution_count": 38,
     "metadata": {},
     "output_type": "execute_result"
    }
   ],
   "source": [
    "IronMan.name"
   ]
  },
  {
   "cell_type": "code",
   "execution_count": 39,
   "metadata": {},
   "outputs": [
    {
     "name": "stderr",
     "output_type": "stream",
     "text": [
      "Exception ignored in: <function Hero.__del__ at 0x7f563c661ee0>\n",
      "Traceback (most recent call last):\n",
      "  File \"<ipython-input-39-9ed21d30a8eb>\", line 1, in <module>\n",
      "TypeError: __del__() takes 0 positional arguments but 1 was given\n"
     ]
    }
   ],
   "source": [
    "del IronMan"
   ]
  },
  {
   "cell_type": "code",
   "execution_count": 40,
   "metadata": {},
   "outputs": [
    {
     "ename": "NameError",
     "evalue": "name 'IronMan' is not defined",
     "output_type": "error",
     "traceback": [
      "\u001b[0;31m---------------------------------------------------------------------------\u001b[0m",
      "\u001b[0;31mNameError\u001b[0m                                 Traceback (most recent call last)",
      "\u001b[0;32m<ipython-input-40-7203de31d417>\u001b[0m in \u001b[0;36m<module>\u001b[0;34m\u001b[0m\n\u001b[0;32m----> 1\u001b[0;31m \u001b[0mIronMan\u001b[0m\u001b[0;34m.\u001b[0m\u001b[0m__del__\u001b[0m\u001b[0;34m(\u001b[0m\u001b[0;34m)\u001b[0m\u001b[0;34m\u001b[0m\u001b[0;34m\u001b[0m\u001b[0m\n\u001b[0m",
      "\u001b[0;31mNameError\u001b[0m: name 'IronMan' is not defined"
     ]
    }
   ],
   "source": [
    "IronMan.__del__()"
   ]
  },
  {
   "cell_type": "code",
   "execution_count": 53,
   "metadata": {},
   "outputs": [],
   "source": [
    "IronMan = Hero('iron man', 'suit')"
   ]
  },
  {
   "cell_type": "code",
   "execution_count": 54,
   "metadata": {},
   "outputs": [
    {
     "data": {
      "text/plain": [
       "'iron man'"
      ]
     },
     "execution_count": 54,
     "metadata": {},
     "output_type": "execute_result"
    }
   ],
   "source": [
    "IronMan.name"
   ]
  },
  {
   "cell_type": "code",
   "execution_count": 55,
   "metadata": {},
   "outputs": [
    {
     "name": "stdout",
     "output_type": "stream",
     "text": [
      "I love you 3000.\n"
     ]
    }
   ],
   "source": [
    "IronMan.__del__()"
   ]
  },
  {
   "cell_type": "code",
   "execution_count": 56,
   "metadata": {},
   "outputs": [
    {
     "data": {
      "text/plain": [
       "<__main__.Hero at 0x7f563c746be0>"
      ]
     },
     "execution_count": 56,
     "metadata": {},
     "output_type": "execute_result"
    }
   ],
   "source": [
    "IronMan"
   ]
  },
  {
   "cell_type": "code",
   "execution_count": 57,
   "metadata": {},
   "outputs": [],
   "source": [
    "# 한 메소드를 여러번 호출하는 방법\n",
    "\n",
    "class Hero():\n",
    "    health = 100                              # class variable\n",
    "    \n",
    "    def __init__(self, name, weapon):         # 생성자\n",
    "        self.name = name                      # instance variable\n",
    "        self.weapon = weapon\n",
    "        self.inventory = []                   # mutable한 객체\n",
    "    \n",
    "    def __del__(self):                        # 소멸자가 호출되면 해당 객체는 사라지게 됨\n",
    "        print('I love you 3000.')\n",
    "           \n",
    "    def attack(self):\n",
    "        print('attack with {}'.format(self.weapon))\n",
    "    def save_item(self, item):\n",
    "        self.inventory.append(item)\n",
    "    def save_item_multiple(self, item, num):\n",
    "        for _ in range(num):\n",
    "            self.save_item(item)              # self : 인스턴스가 생성될 때 가지고 있던 변수와 메소드를 담고 있음\n",
    "                                              # self인자를 이용해서 변수뿐만 아니라 메소드도 불러낼 수 있음 "
   ]
  },
  {
   "cell_type": "code",
   "execution_count": 58,
   "metadata": {},
   "outputs": [],
   "source": [
    "IronMan = Hero('iron man', 'suit')"
   ]
  },
  {
   "cell_type": "code",
   "execution_count": 59,
   "metadata": {},
   "outputs": [
    {
     "data": {
      "text/plain": [
       "[]"
      ]
     },
     "execution_count": 59,
     "metadata": {},
     "output_type": "execute_result"
    }
   ],
   "source": [
    "IronMan.inventory"
   ]
  },
  {
   "cell_type": "code",
   "execution_count": 60,
   "metadata": {},
   "outputs": [],
   "source": [
    "IronMan.save_item_multiple('10,000', 10)"
   ]
  },
  {
   "cell_type": "code",
   "execution_count": 61,
   "metadata": {},
   "outputs": [
    {
     "data": {
      "text/plain": [
       "['10,000',\n",
       " '10,000',\n",
       " '10,000',\n",
       " '10,000',\n",
       " '10,000',\n",
       " '10,000',\n",
       " '10,000',\n",
       " '10,000',\n",
       " '10,000',\n",
       " '10,000']"
      ]
     },
     "execution_count": 61,
     "metadata": {},
     "output_type": "execute_result"
    }
   ],
   "source": [
    "IronMan.inventory"
   ]
  },
  {
   "cell_type": "code",
   "execution_count": 67,
   "metadata": {},
   "outputs": [],
   "source": [
    "class Hero():\n",
    "    health = 100                         # class variable\n",
    "    \n",
    "    def __init__(self, name, weapon):    # 생성자\n",
    "        self.name = name                 # instance variable\n",
    "        self.weapon = weapon\n",
    "        self.inventory = []              # mutable한 객체\n",
    "    \n",
    "    #def __del__(self):                  # 소멸자가 호출되면 해당 객체는 사라지게 됨\n",
    "    #    print('I love you 3000.')\n",
    "           \n",
    "    def attack(self):\n",
    "        print('attack with {}'.format(self.weapon))\n",
    "    def save_item(self, item):\n",
    "        self.inventory.append(item)\n",
    "    def save_item_multiple(self, item, num):\n",
    "        for _ in range(num):\n",
    "            self.save_item(item)         # self : 인스턴스가 생성될 때 가지고 있던 변수와 메소드를 담고 있음\n",
    "                                         # self인자를 이용해서 변수뿐만 아니라 메소드도 불러낼 수 있음 \n",
    "    def save_items(self, *items):\n",
    "        for item in items:\n",
    "            self.save_item(item)\n",
    "            print('{} has saved to inventory'.format(item))"
   ]
  },
  {
   "cell_type": "code",
   "execution_count": 68,
   "metadata": {},
   "outputs": [],
   "source": [
    "IronMan = Hero('iron man', 'suit')"
   ]
  },
  {
   "cell_type": "code",
   "execution_count": 69,
   "metadata": {},
   "outputs": [
    {
     "data": {
      "text/plain": [
       "[]"
      ]
     },
     "execution_count": 69,
     "metadata": {},
     "output_type": "execute_result"
    }
   ],
   "source": [
    "IronMan.inventory"
   ]
  },
  {
   "cell_type": "code",
   "execution_count": 71,
   "metadata": {},
   "outputs": [
    {
     "name": "stdout",
     "output_type": "stream",
     "text": [
      "10,000 has saved to inventory\n",
      "2btc has saved to inventory\n",
      "3eth has saved to inventory\n",
      "10000 xrp has saved to inventory\n"
     ]
    }
   ],
   "source": [
    "IronMan.save_items('10,000', '2btc', '3eth', '10000 xrp')"
   ]
  },
  {
   "cell_type": "code",
   "execution_count": 72,
   "metadata": {},
   "outputs": [
    {
     "data": {
      "text/plain": [
       "['10,000', '2btc', '3eth', '10000 xrp']"
      ]
     },
     "execution_count": 72,
     "metadata": {},
     "output_type": "execute_result"
    }
   ],
   "source": [
    "IronMan.inventory"
   ]
  },
  {
   "cell_type": "code",
   "execution_count": 73,
   "metadata": {},
   "outputs": [
    {
     "data": {
      "text/plain": [
       "['__class__',\n",
       " '__delattr__',\n",
       " '__dict__',\n",
       " '__dir__',\n",
       " '__doc__',\n",
       " '__eq__',\n",
       " '__format__',\n",
       " '__ge__',\n",
       " '__getattribute__',\n",
       " '__gt__',\n",
       " '__hash__',\n",
       " '__init__',\n",
       " '__init_subclass__',\n",
       " '__le__',\n",
       " '__lt__',\n",
       " '__module__',\n",
       " '__ne__',\n",
       " '__new__',\n",
       " '__reduce__',\n",
       " '__reduce_ex__',\n",
       " '__repr__',\n",
       " '__setattr__',\n",
       " '__sizeof__',\n",
       " '__str__',\n",
       " '__subclasshook__',\n",
       " '__weakref__',\n",
       " 'attack',\n",
       " 'health',\n",
       " 'inventory',\n",
       " 'name',\n",
       " 'save_item',\n",
       " 'save_item_multiple',\n",
       " 'save_items',\n",
       " 'weapon']"
      ]
     },
     "execution_count": 73,
     "metadata": {},
     "output_type": "execute_result"
    }
   ],
   "source": [
    "dir(IronMan)      # dir은 객체가 가진 모든 메소드를 보여줌"
   ]
  },
  {
   "cell_type": "code",
   "execution_count": 6,
   "metadata": {},
   "outputs": [],
   "source": [
    "# 정보 은닉\n",
    "class SmartPhone:\n",
    "    def __init__(self, ap, cam):\n",
    "        # public : \n",
    "        self.ap = ap\n",
    "        self.cam = cam\n",
    "    \n",
    "    def _jail_break(self):\n",
    "        # protected: 상속받은 객체나 해당 클래스 안에서 사용 가능, 외부(사용자)에서 사용이 불가능\n",
    "        return 'jail break complete'\n",
    "    \n",
    "    def __custom_firmware(self):\n",
    "        # private: 클래스 안에서만 동작되도록 지정됨, 외부에서 사용 불가능\n",
    "        return \"You can't do this\"\n",
    "    "
   ]
  },
  {
   "cell_type": "code",
   "execution_count": 7,
   "metadata": {},
   "outputs": [],
   "source": [
    "Galaxy = SmartPhone('Exynos', '1.3M')"
   ]
  },
  {
   "cell_type": "code",
   "execution_count": 8,
   "metadata": {},
   "outputs": [
    {
     "data": {
      "text/plain": [
       "'jail break complete'"
      ]
     },
     "execution_count": 8,
     "metadata": {},
     "output_type": "execute_result"
    }
   ],
   "source": [
    "Galaxy._jail_break()  # 동작은 되나 보호되어있는 메소드임"
   ]
  },
  {
   "cell_type": "code",
   "execution_count": 10,
   "metadata": {},
   "outputs": [
    {
     "data": {
      "text/plain": [
       "['_SmartPhone__custom_firmware',\n",
       " '__class__',\n",
       " '__delattr__',\n",
       " '__dict__',\n",
       " '__dir__',\n",
       " '__doc__',\n",
       " '__eq__',\n",
       " '__format__',\n",
       " '__ge__',\n",
       " '__getattribute__',\n",
       " '__gt__',\n",
       " '__hash__',\n",
       " '__init__',\n",
       " '__init_subclass__',\n",
       " '__le__',\n",
       " '__lt__',\n",
       " '__module__',\n",
       " '__ne__',\n",
       " '__new__',\n",
       " '__reduce__',\n",
       " '__reduce_ex__',\n",
       " '__repr__',\n",
       " '__setattr__',\n",
       " '__sizeof__',\n",
       " '__str__',\n",
       " '__subclasshook__',\n",
       " '__weakref__',\n",
       " '_jail_break',\n",
       " 'ap',\n",
       " 'cam']"
      ]
     },
     "execution_count": 10,
     "metadata": {},
     "output_type": "execute_result"
    }
   ],
   "source": [
    "dir(Galaxy)"
   ]
  },
  {
   "cell_type": "code",
   "execution_count": 11,
   "metadata": {},
   "outputs": [
    {
     "ename": "AttributeError",
     "evalue": "'SmartPhone' object has no attribute '__custom_firmware'",
     "output_type": "error",
     "traceback": [
      "\u001b[0;31m---------------------------------------------------------------------------\u001b[0m",
      "\u001b[0;31mAttributeError\u001b[0m                            Traceback (most recent call last)",
      "\u001b[0;32m<ipython-input-11-deed450cd6ea>\u001b[0m in \u001b[0;36m<module>\u001b[0;34m\u001b[0m\n\u001b[0;32m----> 1\u001b[0;31m \u001b[0mGalaxy\u001b[0m\u001b[0;34m.\u001b[0m\u001b[0m__custom_firmware\u001b[0m\u001b[0;34m(\u001b[0m\u001b[0;34m)\u001b[0m\u001b[0;34m\u001b[0m\u001b[0;34m\u001b[0m\u001b[0m\n\u001b[0m",
      "\u001b[0;31mAttributeError\u001b[0m: 'SmartPhone' object has no attribute '__custom_firmware'"
     ]
    }
   ],
   "source": [
    "Galaxy.__custom_firmware()   # private라 사용 불가능"
   ]
  },
  {
   "cell_type": "code",
   "execution_count": 79,
   "metadata": {},
   "outputs": [],
   "source": [
    "# 상속(Inheritance): \n",
    "# 부모 클래스(base class)의 속성을 물려받아 새로운 인스턴스(derived class)를 생성하는 것"
   ]
  },
  {
   "cell_type": "code",
   "execution_count": 80,
   "metadata": {},
   "outputs": [],
   "source": [
    "class Fried:\n",
    "    pass\n",
    "class Seasoned(Fried):\n",
    "    pass"
   ]
  },
  {
   "cell_type": "code",
   "execution_count": 2,
   "metadata": {},
   "outputs": [],
   "source": [
    "class Fried:\n",
    "    \n",
    "    def __init__(self, mixture, chicken):\n",
    "        self.mixture = mixture\n",
    "        self.chicken = chicken\n",
    "        \n",
    "    def mix_together(self):\n",
    "        pass\n",
    "    def place_into_fryer(self):\n",
    "        print('Chicken is now fried for 15min')\n",
    "        \n",
    "class Seasoned(Fried):     # 상속을 받더라도 생성자는 필요함, 안쓸수도 있음\n",
    "    \n",
    "    def __init__(self, mixture, chicken, sauce = 'red chili'):\n",
    "        Fried.__init__(self, mixture, chicken)     # 부모클래스의 생성자를 상속받아서 쓰는 것\n",
    "        self.sauce = sauce\n",
    "        \n",
    "    def place_into_fryter(self):    # override: 부모클래스와 같은 이름의 메소드(동작)를 사용하는데 세세한 값을 다르게 주고 싶을 때, 재정의 *****\n",
    "        print('Chicken is now fried for 13min')  \n",
    "  # def place_into_fryer(self, minute):   # ps.overload: 파이썬은 없는 개념(마지막에 정의된 함수만 인정), 메소드는 같은데 파라미터를 다르게 주는 것\n",
    "  #     print('')\n",
    "    def mix_with_sauce(self):       # 상속받아서 새로운 메소드를 정의할 수 있음 *****\n",
    "        print('Seasoned Chicken is ready to serve.')        \n"
   ]
  },
  {
   "cell_type": "code",
   "execution_count": 83,
   "metadata": {},
   "outputs": [],
   "source": [
    "class SmartPhone:\n",
    "    \n",
    "    def __init__(self, ap, cam):\n",
    "        self.ap = ap\n",
    "        self.cam = cam\n",
    "    \n",
    "    def open_ai(self):\n",
    "        print(\"I don't have feature like that\")    \n",
    "    def __str__(self):   # 클래스 이름을 출력해주는 메소드\n",
    "        print('I am {}.'.format(self.__class__.__name__))"
   ]
  },
  {
   "cell_type": "code",
   "execution_count": 85,
   "metadata": {},
   "outputs": [],
   "source": [
    "SomePhone = SmartPhone('snap', '1.3M')"
   ]
  },
  {
   "cell_type": "code",
   "execution_count": 86,
   "metadata": {},
   "outputs": [
    {
     "name": "stdout",
     "output_type": "stream",
     "text": [
      "I don't have feature like that\n"
     ]
    }
   ],
   "source": [
    "SomePhone.open_ai()"
   ]
  },
  {
   "cell_type": "code",
   "execution_count": 87,
   "metadata": {},
   "outputs": [
    {
     "name": "stdout",
     "output_type": "stream",
     "text": [
      "I am SmartPhone.\n"
     ]
    }
   ],
   "source": [
    "SomePhone.__str__()"
   ]
  },
  {
   "cell_type": "code",
   "execution_count": 89,
   "metadata": {},
   "outputs": [],
   "source": [
    "class IPhone(SmartPhone):\n",
    "    \n",
    "    def __init__(self, ap, cam, fingerprint):\n",
    "        SmartPhone.__init__(self, ap, cam)\n",
    "        self.fingerprint = fingerprint\n",
    "            \n",
    "    def open_ai(self):             # override\n",
    "        print(\"Hey, siri!\")    \n",
    "    def __str__(self):             # 클래스 이름을 출력해주는 메소드\n",
    "        return super(IPhone, self).__str__()     # super: 부모클래스에 있는 어떤 특정한것을 가져오고 싶을 때 쓰는 함수\n",
    "                    # 대상,   부모클래스의 __str__()메소드를 실행시키라는 의미"
   ]
  },
  {
   "cell_type": "code",
   "execution_count": 90,
   "metadata": {},
   "outputs": [],
   "source": [
    "Iphone = IPhone('A Series', '3M', 'touch id')"
   ]
  },
  {
   "cell_type": "code",
   "execution_count": 91,
   "metadata": {},
   "outputs": [
    {
     "name": "stdout",
     "output_type": "stream",
     "text": [
      "Hey, siri!\n"
     ]
    }
   ],
   "source": [
    "Iphone.open_ai()"
   ]
  },
  {
   "cell_type": "code",
   "execution_count": 92,
   "metadata": {},
   "outputs": [
    {
     "name": "stdout",
     "output_type": "stream",
     "text": [
      "I am IPhone.\n"
     ]
    }
   ],
   "source": [
    "Iphone.__str__()"
   ]
  },
  {
   "cell_type": "code",
   "execution_count": 93,
   "metadata": {},
   "outputs": [],
   "source": [
    "class Galaxy(SmartPhone):\n",
    "    \n",
    "    def __init__(self, ap, cam, pay_module):\n",
    "        SmartPhone.__init__(self, ap, cam)\n",
    "        self.pay_module = pay_module\n",
    "            \n",
    "    def open_ai(self):             # override\n",
    "        print(\"Hi, bixby!\")    \n",
    "    def __str__(self):             # 클래스 이름을 출력해주는 메소드\n",
    "        return super(Galaxy, self).__str__()     # super: 부모클래스에 있는 어떤 특정한것을 가져오고 싶을 때 쓰는 함수\n",
    "                    # 대상,   부모클래스의 __str__()메소드를 실행시키라는 의미"
   ]
  },
  {
   "cell_type": "code",
   "execution_count": 94,
   "metadata": {},
   "outputs": [],
   "source": [
    "SamPhone = Galaxy('Exynos', '13M', 'Sam-ung Pay')"
   ]
  },
  {
   "cell_type": "code",
   "execution_count": 95,
   "metadata": {},
   "outputs": [
    {
     "name": "stdout",
     "output_type": "stream",
     "text": [
      "Hi, bixby!\n"
     ]
    }
   ],
   "source": [
    "SamPhone.open_ai()"
   ]
  },
  {
   "cell_type": "code",
   "execution_count": 96,
   "metadata": {},
   "outputs": [
    {
     "name": "stdout",
     "output_type": "stream",
     "text": [
      "I am Galaxy.\n"
     ]
    }
   ],
   "source": [
    "SamPhone.__str__()"
   ]
  },
  {
   "cell_type": "code",
   "execution_count": 1,
   "metadata": {},
   "outputs": [],
   "source": [
    "# Inheritance\n",
    "# is-A : 자식클래스가 부모클래스의 부분집합으로 표현되는 상속 (아이폰은 스마트폰이다, 갤럭시는 스마트폰이다.)\n",
    "# has-A : 부모클래스가 자식클래스를 가질 수 있다로 표현되는 상속(스마트폰은 AP를 가지고 있다, 스마트폰은 Cam을 가지고 있다.)\n",
    "# has-A에는 Composition, Aggregation, 불러올 때 차이가 있음"
   ]
  },
  {
   "cell_type": "code",
   "execution_count": 2,
   "metadata": {},
   "outputs": [],
   "source": [
    "# has-A - Composition(합성, 복속, 완전히 종속되는 느낌, 자유롭지 X)\n",
    "class AP:\n",
    "    pass\n",
    "\n",
    "class Cam:\n",
    "    pass\n",
    "\n",
    "class SmartPhone:\n",
    "    \n",
    "    def __init__(self):\n",
    "        self.ap = AP()   # 독립적으로 존재하던 클래스를 복속시킴, AP클래스의 속성을 가져다 쓸 수 있음\n",
    "        self.cam = Cam()"
   ]
  },
  {
   "cell_type": "code",
   "execution_count": 5,
   "metadata": {},
   "outputs": [],
   "source": [
    "# has-A - Aggregation(특정한 것만 가져다 쓰고 싶을 때)\n",
    "class Hammer:\n",
    "    \n",
    "    def __init__(self, name):\n",
    "        self.name = name\n",
    "        \n",
    "    def fly(self):\n",
    "        print('Now {} can fly..'.format(self.name))\n",
    "        \n",
    "class Thor:\n",
    "    def __init__(self):\n",
    "        self.weapon = None                 # 기본적으로는 무기가 없는 상태\n",
    "        \n",
    "    def recall_hammer(self, weapon):       # Hammer클래스를 호출하여 무기를 갖게 함(Aggregation)\n",
    "        self.weapon = weapon\n",
    "    def throw_hammer(self):\n",
    "        weapon = self.weapon          \n",
    "        self.weapon = None                 # 던졌을 때 무기가 없는 상태 \n",
    "        return weapon\n",
    "    def fly(self):\n",
    "        if self.weapon:                    # self.weapon에 값이 있다면\n",
    "            self.weapon.fly()              # Hammer 클래스의 fly 메소드가 실행됨\n",
    "        else:                              # self.weapon에 값이 없다면\n",
    "            print(\"you can't fly..\")\n",
    "            "
   ]
  },
  {
   "cell_type": "code",
   "execution_count": 6,
   "metadata": {},
   "outputs": [],
   "source": [
    "Thor = Thor()"
   ]
  },
  {
   "cell_type": "code",
   "execution_count": 7,
   "metadata": {},
   "outputs": [],
   "source": [
    "Molnir = Hammer('molnir')"
   ]
  },
  {
   "cell_type": "code",
   "execution_count": 8,
   "metadata": {},
   "outputs": [
    {
     "name": "stdout",
     "output_type": "stream",
     "text": [
      "you can't fly..\n"
     ]
    }
   ],
   "source": [
    "Thor.fly()"
   ]
  },
  {
   "cell_type": "code",
   "execution_count": 10,
   "metadata": {},
   "outputs": [],
   "source": [
    "Thor.recall_hammer(Molnir)   # 위에서 정의한 Molnir 객체를 Aggregation함"
   ]
  },
  {
   "cell_type": "code",
   "execution_count": 11,
   "metadata": {},
   "outputs": [
    {
     "name": "stdout",
     "output_type": "stream",
     "text": [
      "Now molnir can fly..\n"
     ]
    }
   ],
   "source": [
    "Thor.fly()     # self.weapon에 값이 있기 때문에 Hammer 클래스의 fly메소드가 실행됨"
   ]
  },
  {
   "cell_type": "code",
   "execution_count": 12,
   "metadata": {},
   "outputs": [
    {
     "data": {
      "text/plain": [
       "<__main__.Hammer at 0x7f0b637e5e80>"
      ]
     },
     "execution_count": 12,
     "metadata": {},
     "output_type": "execute_result"
    }
   ],
   "source": [
    "Thor.throw_hammer()    # self.weapon이 None 되고, weapon이 리턴됨, 어딘가에 weapon이 있다는 의미"
   ]
  },
  {
   "cell_type": "code",
   "execution_count": 13,
   "metadata": {},
   "outputs": [
    {
     "name": "stdout",
     "output_type": "stream",
     "text": [
      "you can't fly..\n"
     ]
    }
   ],
   "source": [
    "Thor.fly()     # self.weapon에 값이 없음"
   ]
  },
  {
   "cell_type": "code",
   "execution_count": 42,
   "metadata": {},
   "outputs": [],
   "source": [
    "# classmethod : 클래스 변수에 영향을 주고 싶을 때\n",
    "# staticmethod : 특정 행동을 추가하고 싶을 때, 클래스 내부에서 반복적으로 쓰이는 어떤 코드를 줄이고 싶을 때 정의해두고 instance method로 실제 수행\n",
    "# instance method: 만들어낸 인스턴스와 관련된 일을 하고 싶을 때"
   ]
  },
  {
   "cell_type": "code",
   "execution_count": 3,
   "metadata": {},
   "outputs": [],
   "source": [
    "# classmethod\n",
    "class Wallet:\n",
    "    \n",
    "    def __init__(self, account):\n",
    "        self.account = account\n",
    "        \n",
    "    balance = 0\n",
    "    name = 'Your wallet'\n",
    "    \n",
    "    @classmethod   # 클래스 변수라고 알려줘야 함\n",
    "    def set_default(cls, amount):     # self는 인스턴스 메소드일 때, cls는 클래스 메소드일 때\n",
    "        while amount < 1:         # amount가 1보다 크면 while문 종료\n",
    "            print(\"you should deposit more than 1. Try again\")\n",
    "            amount = int(input('Enter value want to deposit: '))\n",
    "            cls.balance = amount\n",
    "        print('Set default value of balance to {}'.format(cls.balance))\n",
    "    "
   ]
  },
  {
   "cell_type": "code",
   "execution_count": 4,
   "metadata": {},
   "outputs": [],
   "source": [
    "w = Wallet(0)"
   ]
  },
  {
   "cell_type": "code",
   "execution_count": 5,
   "metadata": {},
   "outputs": [
    {
     "name": "stdout",
     "output_type": "stream",
     "text": [
      "you should deposit more than 1. Try again\n",
      "Enter value want to deposit: 10\n",
      "Set default value of balance to 10\n"
     ]
    }
   ],
   "source": [
    "Wallet.set_default(0)   # Wallet 클래스의 클래스 변수에 영향을 주는 메소드"
   ]
  },
  {
   "cell_type": "code",
   "execution_count": 6,
   "metadata": {},
   "outputs": [
    {
     "data": {
      "text/plain": [
       "10"
      ]
     },
     "execution_count": 6,
     "metadata": {},
     "output_type": "execute_result"
    }
   ],
   "source": [
    "w.balance"
   ]
  },
  {
   "cell_type": "code",
   "execution_count": 7,
   "metadata": {},
   "outputs": [
    {
     "data": {
      "text/plain": [
       "10"
      ]
     },
     "execution_count": 7,
     "metadata": {},
     "output_type": "execute_result"
    }
   ],
   "source": [
    "Wallet.balance   # Wallet 클래스의 클래스 변수"
   ]
  },
  {
   "cell_type": "code",
   "execution_count": 53,
   "metadata": {},
   "outputs": [],
   "source": [
    "# instance method : 만들어낸 객체의 내부에서 일을 하고 싶을 때\n",
    "class Wallet:\n",
    "    \n",
    "    def __init__(self, account):\n",
    "        self.account = account\n",
    "        \n",
    "    balance = 0\n",
    "    name = 'Your wallet'\n",
    "    \n",
    "    @classmethod   # 클래스 변수라고 알려줘야 함\n",
    "    def set_default(cls, amount):     # self는 인스턴스 메소드일 때, cls는 클래스 메소드일 때\n",
    "        while amount < 1:         # amount가 1보다 크면 while문 종료\n",
    "            print(\"you should deposit more than 1. Try again\")\n",
    "            amount = int(input('Enter value want to deposit: '))\n",
    "        cls.balance = amount\n",
    "        print('Set default value of balance to {}'.format(cls.balance))\n",
    "    \n",
    "    # instance method\n",
    "    def deposit_account(self, amount):\n",
    "        self.account += amount\n",
    "        print('Your total account balance is {}'.format(self.account))"
   ]
  },
  {
   "cell_type": "code",
   "execution_count": 55,
   "metadata": {},
   "outputs": [],
   "source": [
    "w = Wallet(10)"
   ]
  },
  {
   "cell_type": "code",
   "execution_count": 56,
   "metadata": {},
   "outputs": [
    {
     "name": "stdout",
     "output_type": "stream",
     "text": [
      "Your total account balance is 20\n"
     ]
    }
   ],
   "source": [
    "w.deposit_account(10)"
   ]
  },
  {
   "cell_type": "code",
   "execution_count": 57,
   "metadata": {},
   "outputs": [
    {
     "data": {
      "text/plain": [
       "0"
      ]
     },
     "execution_count": 57,
     "metadata": {},
     "output_type": "execute_result"
    }
   ],
   "source": [
    "w.balance"
   ]
  },
  {
   "cell_type": "code",
   "execution_count": 59,
   "metadata": {},
   "outputs": [],
   "source": [
    "# staticmethod\n",
    "# 부모클래스 Wallet\n",
    "class Wallet:\n",
    "    \n",
    "    def __init__(self, account):\n",
    "        self.account = account   # 인스턴스 변수\n",
    "        \n",
    "    balance = 0\n",
    "    name = 'Your wallet'\n",
    "    \n",
    "    @classmethod   # 클래스 변수라고 알려줘야 함\n",
    "    def set_default(cls, amount):     # self는 인스턴스 메소드일 때, cls는 클래스 메소드일 때\n",
    "        while amount < 1:         # amount가 1보다 크면 while문 종료\n",
    "            print(\"you should deposit more than 1. Try again\")\n",
    "            amount = int(input('Enter value want to deposit: '))\n",
    "        cls.balance = amount\n",
    "        print('Set default value of balance to {}'.format(cls.balance))\n",
    "    \n",
    "    # instance method, account에 대한 입금과 인출이 가능, balance에는 변화 없음\n",
    "    def deposit_account(self, amount):\n",
    "        self.account += amount\n",
    "        print('Your total account balance is {}'.format(self.account))\n",
    "    def withdraw_account(self, amount):\n",
    "        self.account -= amount\n",
    "        print('Your total account balance is {}'.format(self.account))\n",
    "        \n",
    "    @staticmethod  #<---- outer function, @ == 데코레이터: 함수를 wrapping함, @가 없으면 instance method로서 동작\n",
    "    # 데코레이터가 있지만 cls나self가 없으면 staticmethod\n",
    "    def print_wallet_static():  #<---- inner function\n",
    "        print(Wallet.name)\n",
    "    \n",
    "    @classmethod\n",
    "    def print_class_name(cls):\n",
    "        print(cls.name)\n",
    "\n",
    "# 상속받은 클래스 MyWallet        \n",
    "class MyWallet(Wallet):\n",
    "    name = 'This is mine'"
   ]
  },
  {
   "cell_type": "code",
   "execution_count": 60,
   "metadata": {},
   "outputs": [],
   "source": [
    "w = Wallet(100)"
   ]
  },
  {
   "cell_type": "code",
   "execution_count": 61,
   "metadata": {},
   "outputs": [
    {
     "name": "stdout",
     "output_type": "stream",
     "text": [
      "Your total account balance is 8100\n"
     ]
    }
   ],
   "source": [
    "w.deposit_account(8000) \n",
    "#인스턴스 변수로 있던 self.account에 일을 하기 위해 인스턴스 메소드를 만들고, 인스턴스 변수에 값을 변화시킴"
   ]
  },
  {
   "cell_type": "code",
   "execution_count": 62,
   "metadata": {},
   "outputs": [
    {
     "ename": "TypeError",
     "evalue": "__init__() missing 1 required positional argument: 'account'",
     "output_type": "error",
     "traceback": [
      "\u001b[0;31m---------------------------------------------------------------------------\u001b[0m",
      "\u001b[0;31mTypeError\u001b[0m                                 Traceback (most recent call last)",
      "\u001b[0;32m<ipython-input-62-0056d0f36c16>\u001b[0m in \u001b[0;36m<module>\u001b[0;34m\u001b[0m\n\u001b[0;32m----> 1\u001b[0;31m \u001b[0mm\u001b[0m \u001b[0;34m=\u001b[0m \u001b[0mMyWallet\u001b[0m\u001b[0;34m(\u001b[0m\u001b[0;34m)\u001b[0m\u001b[0;34m\u001b[0m\u001b[0;34m\u001b[0m\u001b[0m\n\u001b[0m",
      "\u001b[0;31mTypeError\u001b[0m: __init__() missing 1 required positional argument: 'account'"
     ]
    }
   ],
   "source": [
    "m = MyWallet()   # 상속을 받으면 그 속성 그대로 따라감! 부모클래스 생성자를 따라가기 떄문에 초기값을 줘야함"
   ]
  },
  {
   "cell_type": "code",
   "execution_count": 63,
   "metadata": {},
   "outputs": [],
   "source": [
    "m = MyWallet(100)"
   ]
  },
  {
   "cell_type": "code",
   "execution_count": 64,
   "metadata": {},
   "outputs": [
    {
     "name": "stdout",
     "output_type": "stream",
     "text": [
      "Your wallet\n"
     ]
    }
   ],
   "source": [
    "m.print_wallet_static()   # staticmethod :그냥 어떤 행동을 정의할 때, \n",
    "                          # 클래스 내부에서 반복적으로 쓰이는 어떤 코드를 줄이고 싶을 때 정의해두고 instance method로 실제 수행"
   ]
  },
  {
   "cell_type": "code",
   "execution_count": 65,
   "metadata": {},
   "outputs": [
    {
     "name": "stdout",
     "output_type": "stream",
     "text": [
      "This is mine\n"
     ]
    }
   ],
   "source": [
    "m.print_class_name()      # classmethod, 상속받을 때 클래스 변수만 새로 지정,  클래스 내부에 어떤 일을 할 떄"
   ]
  },
  {
   "cell_type": "code",
   "execution_count": 66,
   "metadata": {},
   "outputs": [
    {
     "name": "stdout",
     "output_type": "stream",
     "text": [
      "Your wallet\n"
     ]
    }
   ],
   "source": [
    "w.print_class_name()     "
   ]
  },
  {
   "cell_type": "code",
   "execution_count": 16,
   "metadata": {},
   "outputs": [],
   "source": [
    "# @staticmethod: 행동을 정의한다.\n",
    "def print_hello():\n",
    "    print('hello')\n",
    "\n",
    "# instance method\n",
    "def repeat_something(num):\n",
    "    for _ in range(num):\n",
    "        print_hello()"
   ]
  },
  {
   "cell_type": "code",
   "execution_count": 17,
   "metadata": {},
   "outputs": [
    {
     "name": "stdout",
     "output_type": "stream",
     "text": [
      "hello\n",
      "hello\n",
      "hello\n"
     ]
    }
   ],
   "source": [
    "repeat_something(3)"
   ]
  },
  {
   "cell_type": "code",
   "execution_count": 18,
   "metadata": {},
   "outputs": [],
   "source": [
    "# 다형성(Polymorphism)\n",
    "# == override\n",
    "# class object에서 같은 이름의 method에 대해 각 객체마다 동작을 다르게 구현하는 것\n",
    "# 같은 이름 - 다른 행동, 기능, 결과"
   ]
  },
  {
   "cell_type": "code",
   "execution_count": 19,
   "metadata": {},
   "outputs": [],
   "source": [
    "# 추상화(abstract) :존재는 하는데 상속을 위해 존재하는 것\n",
    "# 공통 특성을 가진 부모클래스를 만들고 해당 클래스가 object instance를 생성할 수 없게 하는 것"
   ]
  },
  {
   "cell_type": "code",
   "execution_count": 51,
   "metadata": {},
   "outputs": [],
   "source": [
    "from abc import *\n",
    "\n",
    "\n",
    "class SmartPhone(metaclass = ABCMeta):\n",
    "    @abstractmethod   # abstract class 하나, abstractmethod 하나 이상 있어야 함\n",
    "    def get_ap(self):\n",
    "        print('AP is Application Proccessor.')\n",
    "        \n",
    "class Galaxy(SmartPhone):\n",
    "    def get_ap(self):\n",
    "        print('Exynos')\n",
    "        \n",
    "class IPhone(SmartPhone):\n",
    "    def get_ap(self):\n",
    "        print('A Series')"
   ]
  },
  {
   "cell_type": "code",
   "execution_count": 52,
   "metadata": {},
   "outputs": [
    {
     "ename": "TypeError",
     "evalue": "Can't instantiate abstract class SmartPhone with abstract methods get_ap",
     "output_type": "error",
     "traceback": [
      "\u001b[0;31m---------------------------------------------------------------------------\u001b[0m",
      "\u001b[0;31mTypeError\u001b[0m                                 Traceback (most recent call last)",
      "\u001b[0;32m<ipython-input-52-3a1cc6694ea9>\u001b[0m in \u001b[0;36m<module>\u001b[0;34m\u001b[0m\n\u001b[0;32m----> 1\u001b[0;31m \u001b[0mSP\u001b[0m \u001b[0;34m=\u001b[0m \u001b[0mSmartPhone\u001b[0m\u001b[0;34m(\u001b[0m\u001b[0;34m)\u001b[0m  \u001b[0;31m# abstract자체가 객체로 존재할 수 없음\u001b[0m\u001b[0;34m\u001b[0m\u001b[0;34m\u001b[0m\u001b[0m\n\u001b[0m",
      "\u001b[0;31mTypeError\u001b[0m: Can't instantiate abstract class SmartPhone with abstract methods get_ap"
     ]
    }
   ],
   "source": [
    "SP = SmartPhone()  # abstract자체가 객체로 존재할 수 없음"
   ]
  },
  {
   "cell_type": "code",
   "execution_count": 53,
   "metadata": {},
   "outputs": [],
   "source": [
    "SS = Galaxy()"
   ]
  },
  {
   "cell_type": "code",
   "execution_count": 54,
   "metadata": {},
   "outputs": [
    {
     "name": "stdout",
     "output_type": "stream",
     "text": [
      "Exynos\n"
     ]
    }
   ],
   "source": [
    "SS.get_ap()"
   ]
  },
  {
   "cell_type": "code",
   "execution_count": 55,
   "metadata": {},
   "outputs": [],
   "source": [
    "AP = IPhone()"
   ]
  },
  {
   "cell_type": "code",
   "execution_count": 56,
   "metadata": {},
   "outputs": [
    {
     "name": "stdout",
     "output_type": "stream",
     "text": [
      "A Series\n"
     ]
    }
   ],
   "source": [
    "AP.get_ap()"
   ]
  },
  {
   "cell_type": "code",
   "execution_count": 65,
   "metadata": {},
   "outputs": [],
   "source": [
    "# 추상화 practice\n",
    "from abc import *\n",
    "\n",
    "\n",
    "class Animals(metaclass = ABCMeta):\n",
    "    @abstractmethod    \n",
    "    def eat_something(self, food, energy):\n",
    "        self.food = food\n",
    "        self.energy = energy\n",
    "        print('{}섭취 후 에너지가 {} 상승하였습니다.'. format(self.food, self.energy))\n",
    "    \n",
    "    \n",
    "class Human(Animals):\n",
    "    def eat_something(self, food, energy):\n",
    "        self.food = food\n",
    "        self.energy = energy\n",
    "        print('{}섭취 후 에너지가 {} 상승하였습니다.'. format(self.food, self.energy))\n",
    "        \n",
    "class Cat(Animals):\n",
    "    def eat_something(self, food):\n",
    "        self.food = food\n",
    "        print('{}를 먹을 수 없습니다.'.format(self.food))\n"
   ]
  },
  {
   "cell_type": "code",
   "execution_count": 66,
   "metadata": {},
   "outputs": [
    {
     "ename": "TypeError",
     "evalue": "Can't instantiate abstract class Animals with abstract methods eat_something",
     "output_type": "error",
     "traceback": [
      "\u001b[0;31m---------------------------------------------------------------------------\u001b[0m",
      "\u001b[0;31mTypeError\u001b[0m                                 Traceback (most recent call last)",
      "\u001b[0;32m<ipython-input-66-46a6fb222768>\u001b[0m in \u001b[0;36m<module>\u001b[0;34m\u001b[0m\n\u001b[0;32m----> 1\u001b[0;31m \u001b[0mAni\u001b[0m \u001b[0;34m=\u001b[0m \u001b[0mAnimals\u001b[0m\u001b[0;34m(\u001b[0m\u001b[0;34m)\u001b[0m\u001b[0;34m\u001b[0m\u001b[0;34m\u001b[0m\u001b[0m\n\u001b[0m",
      "\u001b[0;31mTypeError\u001b[0m: Can't instantiate abstract class Animals with abstract methods eat_something"
     ]
    }
   ],
   "source": [
    "Ani = Animals()"
   ]
  },
  {
   "cell_type": "code",
   "execution_count": 67,
   "metadata": {},
   "outputs": [],
   "source": [
    "Jiyun = Human()"
   ]
  },
  {
   "cell_type": "code",
   "execution_count": 68,
   "metadata": {},
   "outputs": [
    {
     "name": "stdout",
     "output_type": "stream",
     "text": [
      "치킨섭취 후 에너지가 1000 상승하였습니다.\n"
     ]
    }
   ],
   "source": [
    "Jiyun.eat_something('치킨', 1000)"
   ]
  },
  {
   "cell_type": "code",
   "execution_count": 69,
   "metadata": {},
   "outputs": [],
   "source": [
    "Summer = Cat()"
   ]
  },
  {
   "cell_type": "code",
   "execution_count": 70,
   "metadata": {},
   "outputs": [
    {
     "name": "stdout",
     "output_type": "stream",
     "text": [
      "치킨를 먹을 수 없습니다.\n"
     ]
    }
   ],
   "source": [
    "Summer.eat_something('치킨')"
   ]
  },
  {
   "cell_type": "code",
   "execution_count": 79,
   "metadata": {},
   "outputs": [],
   "source": [
    "# Hackerrank 문제 1번(Day12.inheritance)\n",
    "\n",
    "class Person:\n",
    "    \n",
    "    def __init__(self, firstName, lastName, idNumber): # 생성자 == Constructor\n",
    "        self.firstName = firstName\n",
    "        self.lastName = lastName\n",
    "        self.idNumber = idNumber\n",
    "        \n",
    "    def printPerson(self):\n",
    "        print(\"Name:\", self.lastName + \",\", self.firstName)\n",
    "        print(\"ID:\", self.idNumber)\n",
    "        \n",
    "class Student(Person):\n",
    "    \n",
    "    def __init__(self, firstName, lastName, idNumber, scores):\n",
    "        Person.__init__(self, firstName, lastName, idNumber)\n",
    "        self.scores = scores\n",
    "        \n",
    "          \n",
    "    #def printPerson(self):\n",
    "    #    print(\"Name:\", self.lastName + \",\", self.firstName)\n",
    "    #    print(\"ID:\", self.idNumber)\n",
    "    def calculate(self):\n",
    "        average = sum(self.scores) / len(self.scores)\n",
    "        if 90<= average <= 100:\n",
    "            return 'O'\n",
    "        elif 80<= average < 90:\n",
    "            return 'E'\n",
    "        elif 70<= average < 80:\n",
    "            return 'A'\n",
    "        elif 55 <= average < 70:\n",
    "            return 'P'\n",
    "        elif 40 <= average < 55:\n",
    "            return 'D'\n",
    "        elif average < 40:\n",
    "            return 'T'\n",
    "    "
   ]
  },
  {
   "cell_type": "code",
   "execution_count": 80,
   "metadata": {},
   "outputs": [],
   "source": [
    "line = ['Heraldo', 'Memelli', 8135627]\n",
    "firstName = line[0]\n",
    "lastName = line[1]\n",
    "idNumber = line[2]\n",
    "scores = [100, 80]"
   ]
  },
  {
   "cell_type": "code",
   "execution_count": 81,
   "metadata": {},
   "outputs": [],
   "source": [
    "s = Student(firstName, lastName, idNumber, scores)"
   ]
  },
  {
   "cell_type": "code",
   "execution_count": 82,
   "metadata": {},
   "outputs": [
    {
     "name": "stdout",
     "output_type": "stream",
     "text": [
      "Name: Memelli, Heraldo\n",
      "ID: 8135627\n"
     ]
    }
   ],
   "source": [
    "s.printPerson()"
   ]
  },
  {
   "cell_type": "code",
   "execution_count": 83,
   "metadata": {},
   "outputs": [
    {
     "name": "stdout",
     "output_type": "stream",
     "text": [
      "Grade: O\n"
     ]
    }
   ],
   "source": [
    "print(\"Grade:\", s.calculate())"
   ]
  },
  {
   "cell_type": "code",
   "execution_count": 106,
   "metadata": {},
   "outputs": [],
   "source": [
    "# Hackerrank 문제 2번(Day13.Abstract Classes)\n",
    "from abc import ABCMeta, abstractmethod\n",
    "\n",
    "\n",
    "class Book(object, metaclass=ABCMeta):\n",
    "    \n",
    "    def __init__(self,title,author):\n",
    "        self.title=title\n",
    "        self.author=author   \n",
    "    @abstractmethod\n",
    "    def display(): pass\n",
    "    \n",
    "    \n",
    "class MyBook(Book):\n",
    "    \n",
    "    def __init__(self,title,author,price):\n",
    "        Book.__init__(self,title,author)\n",
    "        self.price = price\n",
    "        \n",
    "    def display(self):\n",
    "        print(\"Title:\", self.title)\n",
    "        print(\"Author:\", self.author)\n",
    "        print(\"Price:\", self.price)\n",
    "        "
   ]
  },
  {
   "cell_type": "code",
   "execution_count": 107,
   "metadata": {},
   "outputs": [
    {
     "name": "stdout",
     "output_type": "stream",
     "text": [
      "Title: The Alchemist\n",
      "Author: Paulo Coelho\n",
      "Price: 248\n"
     ]
    }
   ],
   "source": [
    "new_novel = MyBook('The Alchemist', 'Paulo Coelho', 248)\n",
    "new_novel.display()"
   ]
  },
  {
   "cell_type": "code",
   "execution_count": null,
   "metadata": {},
   "outputs": [],
   "source": [
    "# Hackerrank 문제 3번(복소수 관련)"
   ]
  }
 ],
 "metadata": {
  "kernelspec": {
   "display_name": "Python 3",
   "language": "python",
   "name": "python3"
  },
  "language_info": {
   "codemirror_mode": {
    "name": "ipython",
    "version": 3
   },
   "file_extension": ".py",
   "mimetype": "text/x-python",
   "name": "python",
   "nbconvert_exporter": "python",
   "pygments_lexer": "ipython3",
   "version": "3.8.5"
  }
 },
 "nbformat": 4,
 "nbformat_minor": 4
}

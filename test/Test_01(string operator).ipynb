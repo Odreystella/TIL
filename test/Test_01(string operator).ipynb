{
 "cells": [
  {
   "cell_type": "code",
   "execution_count": 1,
   "metadata": {},
   "outputs": [
    {
     "name": "stdout",
     "output_type": "stream",
     "text": [
      "aBc\n",
      "ABC\n",
      "AbC\n"
     ]
    }
   ],
   "source": [
    "# in1\n",
    "\n",
    "string_in_A = 'aBc'\n",
    "## 코드 시작!\n",
    "print(string_in_A)\n",
    "string_in_A_upper = string_in_A.upper()\n",
    "print(string_in_A_upper)\n",
    "string_in_A_answer = string_in_A_upper.replace('B', 'b')\n",
    "print(string_in_A_answer)"
   ]
  },
  {
   "cell_type": "code",
   "execution_count": 3,
   "metadata": {},
   "outputs": [
    {
     "name": "stdout",
     "output_type": "stream",
     "text": [
      "AbC\n",
      "abc\n",
      "aBc\n"
     ]
    }
   ],
   "source": [
    "# in2\n",
    "\n",
    "string_in_B = 'AbC'\n",
    "## 코드 시작!\n",
    "print(string_in_B)\n",
    "string_in_B_lower = string_in_B.lower()\n",
    "print(string_in_B_lower)\n",
    "string_in_B_answer = string_in_B_lower.replace('b', 'B')\n",
    "print(string_in_B_answer)\n",
    "\n",
    "#print(string_in_B[0].lower()+string_in_B[1].upper()+string_in_B[2].lower())"
   ]
  },
  {
   "cell_type": "code",
   "execution_count": 4,
   "metadata": {},
   "outputs": [
    {
     "name": "stdout",
     "output_type": "stream",
     "text": [
      "['A', 'b', 'C']\n",
      "['A', 'b', 'C', 'a', 'B', 'c']\n",
      "['a', 'B', 'c']\n"
     ]
    }
   ],
   "source": [
    "# in3\n",
    "\n",
    "string_in_C = ['A','b','C']# <- 위 문제의 입력값 할당하세요!\n",
    "# 코드 시작!\n",
    "print(string_in_C)\n",
    "string_in_C.extend(['a','B','c'])\n",
    "print(string_in_C)\n",
    "string_in_C_answer = string_in_C[3:]\n",
    "print(string_in_C_answer)"
   ]
  },
  {
   "cell_type": "code",
   "execution_count": 5,
   "metadata": {},
   "outputs": [
    {
     "name": "stdout",
     "output_type": "stream",
     "text": [
      "AbCdEf\n",
      "['A', 'b', 'C', 'd', 'E', 'f']\n",
      "['A', 'b', 'C', 'd', 'E', 'f', 'a', 'B', 'c', 'D', 'e', 'F']\n",
      "['a', 'B', 'c', 'D', 'e', 'F']\n",
      "aBcDeF\n"
     ]
    }
   ],
   "source": [
    "# in4\n",
    "\n",
    "strings_in_D = 'AbCdEf' # <- 위 입력값 할당 하세요!\n",
    "\n",
    "## 코드 시작!\n",
    "print(strings_in_D)\n",
    "strings_in_D_list = list(strings_in_D)\n",
    "print(strings_in_D_list)\n",
    "strings_in_D_list.extend(['a','B','c','D','e','F'])\n",
    "print(strings_in_D_list)\n",
    "strings_in_D_list = strings_in_D_list[6:]\n",
    "print(strings_in_D_list) \n",
    "strings_in_D_answer = \"\".join(strings_in_D_list)\n",
    "print(strings_in_D_answer)"
   ]
  },
  {
   "cell_type": "code",
   "execution_count": null,
   "metadata": {},
   "outputs": [],
   "source": []
  }
 ],
 "metadata": {
  "kernelspec": {
   "display_name": "Python 3",
   "language": "python",
   "name": "python3"
  },
  "language_info": {
   "codemirror_mode": {
    "name": "ipython",
    "version": 3
   },
   "file_extension": ".py",
   "mimetype": "text/x-python",
   "name": "python",
   "nbconvert_exporter": "python",
   "pygments_lexer": "ipython3",
   "version": "3.8.5"
  }
 },
 "nbformat": 4,
 "nbformat_minor": 4
}

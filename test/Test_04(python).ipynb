{
 "cells": [
  {
   "cell_type": "code",
   "execution_count": 3,
   "metadata": {},
   "outputs": [],
   "source": [
    "# 1. 슬라이싱을 사용해서 홀수만 출력하라.\n",
    "s_nums = [1, 2, 3, 4, 5, 6, 7, 8, 9, 10]"
   ]
  },
  {
   "cell_type": "code",
   "execution_count": 4,
   "metadata": {},
   "outputs": [
    {
     "data": {
      "text/plain": [
       "[1, 3, 5, 7, 9]"
      ]
     },
     "execution_count": 4,
     "metadata": {},
     "output_type": "execute_result"
    }
   ],
   "source": [
    "#py\n",
    "s_nums[::2]"
   ]
  },
  {
   "cell_type": "code",
   "execution_count": 6,
   "metadata": {},
   "outputs": [],
   "source": [
    "# 2. filter 을 사용해서 홀수만 출력하라.\n",
    "f_nums = [3, 5, 6, 3, 6, 7, 2, 19, 32, 66, 1, 0]"
   ]
  },
  {
   "cell_type": "code",
   "execution_count": 8,
   "metadata": {},
   "outputs": [
    {
     "data": {
      "text/plain": [
       "[3, 5, 3, 7, 19, 1]"
      ]
     },
     "execution_count": 8,
     "metadata": {},
     "output_type": "execute_result"
    }
   ],
   "source": [
    "#py\n",
    "list(filter(lambda a:a%2==1, f_nums))"
   ]
  },
  {
   "cell_type": "code",
   "execution_count": 10,
   "metadata": {},
   "outputs": [],
   "source": [
    "# 3. set을 사용해서 unique value만 출력하라.\n",
    "u_nums = [3, 5, 6, 3, 6, 7, 2, 19, 32, 66, 1, 0]"
   ]
  },
  {
   "cell_type": "code",
   "execution_count": 11,
   "metadata": {},
   "outputs": [
    {
     "data": {
      "text/plain": [
       "{0, 1, 2, 3, 5, 6, 7, 19, 32, 66}"
      ]
     },
     "execution_count": 11,
     "metadata": {},
     "output_type": "execute_result"
    }
   ],
   "source": [
    "#py\n",
    "set(u_nums)"
   ]
  },
  {
   "cell_type": "code",
   "execution_count": 26,
   "metadata": {},
   "outputs": [],
   "source": [
    "# 4. 아래와 같이 t에는 1, 2, 3, 4 데이터가 바인딩되어 있다. t가 바인딩하는 데이터 타입은 무엇인가?\n",
    "t = 1, 2, 3, 4"
   ]
  },
  {
   "cell_type": "markdown",
   "metadata": {},
   "source": [
    "## answer\n",
    "\n",
    "- t는 튜플형태의 자료형으로, 각각의 데이터들은 int형이다."
   ]
  },
  {
   "cell_type": "code",
   "execution_count": 34,
   "metadata": {},
   "outputs": [],
   "source": [
    "# 5. 다음 코드의 실행 결과를 예상하라.\n",
    "temp = (\"my\", \"name\", \"FAST\")\n",
    "a, *b, c = temp"
   ]
  },
  {
   "cell_type": "markdown",
   "metadata": {},
   "source": [
    "## answer\n",
    "\n",
    "- *b는 arbitrary arguments로서 사용자가 임의로 입력하는 만큼의 데이터를 받을 수 있다. temp안에는 3개의 문자형으로 데이터가 구성되어 있어 a,c에 한개의 데이터를 할당하고 나머지가 b에 할당된다. \n",
    "- 그러므로 예상되는 결과는 a = \"my\", b = \"name\", c = \"FAST\"이다."
   ]
  },
  {
   "cell_type": "code",
   "execution_count": 124,
   "metadata": {},
   "outputs": [],
   "source": [
    "# 6. 1 부터 99까지의 정수 중 짝수만 저장된 튜플을 생성하라."
   ]
  },
  {
   "cell_type": "code",
   "execution_count": 42,
   "metadata": {},
   "outputs": [
    {
     "name": "stdout",
     "output_type": "stream",
     "text": [
      "(2, 4, 6, 8, 10, 12, 14, 16, 18, 20, 22, 24, 26, 28, 30, 32, 34, 36, 38, 40, 42, 44, 46, 48, 50, 52, 54, 56, 58, 60, 62, 64, 66, 68, 70, 72, 74, 76, 78, 80, 82, 84, 86, 88, 90, 92, 94, 96, 98)"
     ]
    }
   ],
   "source": [
    "#py\n",
    "even_nums = [i for i in range(1,99+1) if i%2==0]\n",
    "result = tuple(even_nums)\n",
    "print(result, end='')"
   ]
  },
  {
   "cell_type": "code",
   "execution_count": 48,
   "metadata": {},
   "outputs": [
    {
     "ename": "NameError",
     "evalue": "name 'icecream' is not defined",
     "output_type": "error",
     "traceback": [
      "\u001b[0;31m---------------------------------------------------------------------------\u001b[0m",
      "\u001b[0;31mNameError\u001b[0m                                 Traceback (most recent call last)",
      "\u001b[0;32m<ipython-input-48-ea3f85c825a3>\u001b[0m in \u001b[0;36m<module>\u001b[0;34m\u001b[0m\n\u001b[1;32m      2\u001b[0m \u001b[0;34m\u001b[0m\u001b[0m\n\u001b[1;32m      3\u001b[0m \u001b[0mmy_dict\u001b[0m \u001b[0;34m=\u001b[0m \u001b[0;34m{\u001b[0m\u001b[0;34m'fastbar'\u001b[0m\u001b[0;34m:\u001b[0m \u001b[0;36m1200\u001b[0m\u001b[0;34m,\u001b[0m \u001b[0;34m'foo'\u001b[0m\u001b[0;34m:\u001b[0m \u001b[0;36m1800\u001b[0m\u001b[0;34m,\u001b[0m \u001b[0;34m'bar'\u001b[0m\u001b[0;34m:\u001b[0m \u001b[0;36m1500\u001b[0m\u001b[0;34m,\u001b[0m \u001b[0;34m'doe'\u001b[0m\u001b[0;34m:\u001b[0m \u001b[0;36m1000\u001b[0m\u001b[0;34m}\u001b[0m\u001b[0;34m\u001b[0m\u001b[0;34m\u001b[0m\u001b[0m\n\u001b[0;32m----> 4\u001b[0;31m \u001b[0micecream\u001b[0m\u001b[0;34m[\u001b[0m\u001b[0;34m'Fastbar'\u001b[0m\u001b[0;34m]\u001b[0m\u001b[0;34m\u001b[0m\u001b[0;34m\u001b[0m\u001b[0m\n\u001b[0m",
      "\u001b[0;31mNameError\u001b[0m: name 'icecream' is not defined"
     ]
    }
   ],
   "source": [
    "# 7. 다음 코드에서 에러가 발생한 원인을 설명하라.\n",
    "\n",
    "my_dict = {'fastbar': 1200, 'foo': 1800, 'bar': 1500, 'doe': 1000}\n",
    "icecream['Fastbar']"
   ]
  },
  {
   "cell_type": "markdown",
   "metadata": {},
   "source": [
    "## answer\n",
    "\n",
    "- my_dict는 key와 value로 구성되어 있는 딕셔너리 형태의 자료형이다. key값을 호출하여 value값을 출력할 수 있는데 에러가 발생한 이유는 두가지이다. \n",
    "- 첫째는 NameError로 icecream이라는 변수가 할당되어 있지 않다. 그러므로 my_dict['key']의 형태로 출력을 해야 하고,\n",
    "- 두번째는 KeyError로 key값 수정이 필요하다. 최종적으로 my_dict['fastbar']로 수정해야 원하는 값을 출력할 수 있다."
   ]
  },
  {
   "cell_type": "code",
   "execution_count": 72,
   "metadata": {},
   "outputs": [],
   "source": [
    "# 8. 아래와 같이 fruit 딕셔너리가 정의되어 있다.\n",
    "# 사용자가 입력한 값(input)이 딕셔너리 값 (value)에 포함되었다면\n",
    "# \"정답입니다\"를 아닐 경우 \"오답입니다\" 출력하라.\n",
    "\n",
    "fruit = {\"spring\" : \"딸기\", \"summer\" : \"토마토\", \"fall\" : \"사과\"}"
   ]
  },
  {
   "cell_type": "code",
   "execution_count": 84,
   "metadata": {},
   "outputs": [
    {
     "name": "stdout",
     "output_type": "stream",
     "text": [
      "How many times you want check? Enter the number range 1~50: 5\n",
      "Enter the type of fruit you like: 딸기\n",
      "정답입니다.\n",
      "Enter the type of fruit you like: 사과\n",
      "정답입니다.\n",
      "Enter the type of fruit you like: 토마토\n",
      "정답입니다.\n",
      "Enter the type of fruit you like: 바나나\n",
      "오답입니다.\n",
      "Enter the type of fruit you like: 수박\n",
      "오답입니다.\n"
     ]
    }
   ],
   "source": [
    "#py\n",
    "chance = int(input(\"How many times you want check? Enter the number range 1~50: \"))\n",
    "for i in range(chance):\n",
    "    user_input = input(\"Enter the type of fruit you like: \")\n",
    "    if user_input in fruit.values():\n",
    "        print(\"정답입니다.\")\n",
    "    else:\n",
    "        print(\"오답입니다.\")"
   ]
  },
  {
   "cell_type": "code",
   "execution_count": 41,
   "metadata": {},
   "outputs": [],
   "source": [
    "# 9. 1~10까지의 숫자에 대해 모두 더한 값을 출력하는 프로그램을 for 문을 사용하여 작성하라."
   ]
  },
  {
   "cell_type": "code",
   "execution_count": 87,
   "metadata": {},
   "outputs": [
    {
     "name": "stdout",
     "output_type": "stream",
     "text": [
      "1~10까지 모두 더한 값은 55\n"
     ]
    }
   ],
   "source": [
    "#py\n",
    "result_sum = 0\n",
    "for i in range(1,10+1):\n",
    "    result_sum += i\n",
    "print(\"1~10까지 모두 더한 값은 {}\".format(result_sum))    "
   ]
  },
  {
   "cell_type": "code",
   "execution_count": 43,
   "metadata": {},
   "outputs": [],
   "source": [
    "# 10. 1~10까지의 숫자를 모두 곱한 값을 출력하는 프로그램을 while 문을 사용하여 작성하라. "
   ]
  },
  {
   "cell_type": "code",
   "execution_count": 146,
   "metadata": {},
   "outputs": [
    {
     "name": "stdout",
     "output_type": "stream",
     "text": [
      "You can put any number range(1~50), but plz type number 10: 5\n",
      "1~10까지 모두 곱한 값은 120\n"
     ]
    }
   ],
   "source": [
    "#py\n",
    "user_num = int(input(\"You can put any number range(1~50), but plz type number 10: \"))\n",
    "result_multiple = 1\n",
    "i = 1\n",
    "while user_num >= 1:\n",
    "    result_multiple *= i\n",
    "    user_num -= 1\n",
    "    i += 1    \n",
    "print(\"1~10까지 모두 곱한 값은 {}\".format(result_multiple))\n"
   ]
  },
  {
   "cell_type": "code",
   "execution_count": 48,
   "metadata": {},
   "outputs": [],
   "source": [
    "# 11. 하나의 딕셔너리를 입력받아 딕셔너리의 key 값을 화면에 출력하는 print_keys 함수를 정의하라.\n",
    "# >>> print_keys({'a':2 , 'b':4})\n",
    "# 'a'\n",
    "# 'b'"
   ]
  },
  {
   "cell_type": "code",
   "execution_count": 44,
   "metadata": {},
   "outputs": [
    {
     "name": "stdout",
     "output_type": "stream",
     "text": [
      "'a'\n",
      "'b'\n"
     ]
    }
   ],
   "source": [
    "#py\n",
    "def print_keys(**arg):\n",
    "    for k in arg.keys():\n",
    "        print(\"'{}'\".format(k))\n",
    "        \n",
    "print_keys(a=2, b=4)"
   ]
  },
  {
   "cell_type": "code",
   "execution_count": 150,
   "metadata": {},
   "outputs": [],
   "source": [
    "# 12. 하나의 딕셔너리를 입력받아 딕셔너리의 (key, value) 값을 화면에 출력하는 print_pairs 함수를 정의하라.\n",
    "# >>> print_pairs({'a':2 , 'b':4})\n",
    "# ('a', 2)\n",
    "# ('b', 4)"
   ]
  },
  {
   "cell_type": "code",
   "execution_count": 50,
   "metadata": {},
   "outputs": [
    {
     "name": "stdout",
     "output_type": "stream",
     "text": [
      "('a', 2)\n",
      "('b', 4)\n"
     ]
    }
   ],
   "source": [
    "#py\n",
    "def print_pairs(**arg):\n",
    "    for k,v in arg.items():\n",
    "        print(\"('{}', {})\".format(k,v))\n",
    "\n",
    "print_pairs(a=2 , b=4)"
   ]
  },
  {
   "cell_type": "code",
   "execution_count": 67,
   "metadata": {},
   "outputs": [],
   "source": [
    "# 13.클래스, 객체, 인스턴스\n",
    "# 클래스, 객체, 인스턴스에 대해 설명해봅시다. "
   ]
  },
  {
   "cell_type": "markdown",
   "metadata": {},
   "source": [
    "## answer\n",
    "\n",
    "- class: 자료와 메소드로 이루어져있는 구조로 같은 기능, 행동을 하는 것들을 묶은 코드의 집합. \n",
    "  + 자료는 보통 생성자로 객체에게 필요한 값을 초기화 해주며, 생성자는 객체가 생성될 때 자동으로 호줄되는 메소드를 말한다. 형태는 아래와 같다.    \n",
    "  def __ init__(self, parameter1, parameter2):    \n",
    "         self.parameter1 = parameter1    \n",
    "         self.parameter2 = parameter2\n",
    "  + 메소드는 클래스 안에 구현된 함수이고, 자료가 수행하는 동작을 코드로 작성한다. 형태는 함수와 동일하고 내부의 자료를 사용할 때 파라미터로 self를 사용한다.  \n",
    "- object: 클래스의 타입으로 선언되었을 때 객체라고 하며 클래스와 동일한 자료와 속성(메소드)을 가진다. 예를 들어, IronMan = Hero()라고 선언할 때, IronMan을 클래스 Hero의 객체라고 부른다. 하나의 클래스로 여러 개의 객체를 만들어 낼 수 있고, 만들어낸 것을 객체끼리는 독립된 특성을 유지한다. oop의 특성인 상속을 활용하여 부모클래스와 같은 이름의 메소드를 사용하더라도 값은 다르게 줄 수 있고(override), 새로운 메소드를 정의할 수 있다. 객체를 생성할 때 첫 글자는 대문자를 사용한다.     \n",
    "- instance: 객체가 메모리에 할당되어 실제 사용되는 것을 인스턴스라고 하며, 특정 객체가 어떤 클래스의 객체인지를 관계 위주로 설명할 때 사용한다. 예를 들어, 객체(IronMan)은 Hero()클래스의 인스턴스라고 한다."
   ]
  },
  {
   "cell_type": "code",
   "execution_count": 74,
   "metadata": {},
   "outputs": [],
   "source": [
    "# 14. 아래와 같은 에러가 발생한 원인에 대해 설명하세요.\n",
    "\n",
    "class Test: \n",
    "    def print() :\n",
    "        print(\"Oh my zsh\")\n",
    "        \n",
    "error_msg = \"\"\"\n",
    ">>> myclass = Test()\n",
    ">>> myclass.print()\n",
    "TypeError Traceback (most recent call last)\n",
    "<ipython-input-233-c85c04535b22> in <module>()\n",
    "----> myclass.print()\n",
    "\n",
    "TypeError: print() takes 0 positional arguments but 1 was given\n",
    "\"\"\""
   ]
  },
  {
   "cell_type": "markdown",
   "metadata": {},
   "source": [
    "## answer\n",
    "\n",
    "- 에러구문은 print()함수는 인자가 없는데 1개가 주어져서 TypeError가 발생했다고 해석하면 된다. Test()클래스 내부에 print() 메소드를 정의할 때, 첫번째 파라미터로 관례적으로 self를 사용한다. self는 인스턴스가 생성될 때 가지고 있던 변수와 메소드를 담고 있어 객체를 선언할 때 자동으로 self에 대한 값이 객체를 호출할 때 전달된다. 그렇기 때문에 myclass 객체는 Test()클래스의 print()메소드 파라미터인 self가 전달되어, 1개의 인자가 주어졌다고 한것이다. 이를 해결하기 위해서 Test()클래스의 print메소드로 self를 넣어주면 된다."
   ]
  },
  {
   "cell_type": "code",
   "execution_count": 36,
   "metadata": {},
   "outputs": [],
   "source": [
    "# 15. Account 클래스\n",
    "## 은행에 가서 계좌를 개설하면 bank, owner, account_id, total이 설정됩니다.\n",
    "## Account 클래스를 생성한 후 생성자를 구현해보세요.\n",
    "## 생성자에서는 owner와 total만 입력 받습니다.\n",
    "## 은행이름은 FCbank으로 account_id는 3자리-3자리-5자리 형태로 랜덤하게 생성됩니다.\n",
    "\n",
    "# 16. generated_count 클래스 변수를 사용해서 Account 클래스로부터 생성된 계좌 객체의 개수를 저장하세요.\n",
    "\n",
    "## >>> print(Account.generated)\n",
    "## 0\n",
    "## >>> myAccount = Account(..생략..)\n",
    "## >>> print(Account.generated)\n",
    "## 1\n",
    "\n",
    "# 17. Account 인스턴스에 저장된 정보를 출력하는 display_info() 메서드를 추가하세요. 잔고는 세자리마다 쉼표를 출력하세요.\n",
    "\n",
    "## >>> myAccount.display_info()\n",
    "## Bank: FCbank\n",
    "## Owner: Stephen Bourne\n",
    "## Account_id: 111-111-11111\n",
    "## Total: 10,000\n"
   ]
  },
  {
   "cell_type": "code",
   "execution_count": 184,
   "metadata": {},
   "outputs": [],
   "source": [
    "#py\n",
    "import random\n",
    "\n",
    "\n",
    "class Account:\n",
    "    generated_count = 0\n",
    "    \n",
    "    def __init__(self, owner, total, bank='FCbank'):\n",
    "        self.owner = owner\n",
    "        self.total = total\n",
    "        self.bank = bank\n",
    "        self.account_id = '{}-{}-{}'.format(random.randint(100,999),random.randint(100,999),random.randint(10000,99999))\n",
    "        Account.generated_count += 1\n",
    "                \n",
    "    @classmethod\n",
    "    def generated(cls):     \n",
    "        print('Account 클래스로부터 생성된 계좌의 수는: {}개'.format(cls.generated_count))\n",
    "        \n",
    "    def display_info(self):\n",
    "        print(\"Bank:\", self.bank)\n",
    "        print(\"Owner:\", self.owner)\n",
    "        print(\"Account_id:\", self.account_id)\n",
    "        print(\"Total:{:,}\".format(self.total))\n",
    "     "
   ]
  },
  {
   "cell_type": "code",
   "execution_count": 195,
   "metadata": {},
   "outputs": [],
   "source": [
    "MyAccount = Account('Stephen Bourne', 10000000)"
   ]
  },
  {
   "cell_type": "code",
   "execution_count": 196,
   "metadata": {},
   "outputs": [
    {
     "data": {
      "text/plain": [
       "'662-881-26723'"
      ]
     },
     "execution_count": 196,
     "metadata": {},
     "output_type": "execute_result"
    }
   ],
   "source": [
    "MyAccount.account_id"
   ]
  },
  {
   "cell_type": "code",
   "execution_count": 197,
   "metadata": {},
   "outputs": [
    {
     "data": {
      "text/plain": [
       "3"
      ]
     },
     "execution_count": 197,
     "metadata": {},
     "output_type": "execute_result"
    }
   ],
   "source": [
    "Account.generated_count"
   ]
  },
  {
   "cell_type": "code",
   "execution_count": 198,
   "metadata": {},
   "outputs": [
    {
     "name": "stdout",
     "output_type": "stream",
     "text": [
      "Account 클래스로부터 생성된 계좌의 수는: 3개\n"
     ]
    }
   ],
   "source": [
    "Account.generated()"
   ]
  },
  {
   "cell_type": "code",
   "execution_count": 199,
   "metadata": {},
   "outputs": [
    {
     "name": "stdout",
     "output_type": "stream",
     "text": [
      "Bank: FCbank\n",
      "Owner: Stephen Bourne\n",
      "Account_id: 662-881-26723\n",
      "Total:10,000,000\n"
     ]
    }
   ],
   "source": [
    "MyAccount.display_info()"
   ]
  },
  {
   "cell_type": "code",
   "execution_count": null,
   "metadata": {},
   "outputs": [],
   "source": [
    "# 18. 객체 지향 프로그래밍을 했을 때 장점에 대해 설명 해주세요."
   ]
  },
  {
   "cell_type": "markdown",
   "metadata": {},
   "source": [
    "## answer\n",
    "\n",
    "- 코드의 중복을 줄이고, 직관적으로 코드를 이해할 수 있음. \n",
    "- 상속을 통해 재사용할 수 있음\n",
    "- 객체들간에 독립성이 유지됨\n",
    "- 결과적으로 유지보수에 용이함"
   ]
  },
  {
   "cell_type": "code",
   "execution_count": 14,
   "metadata": {},
   "outputs": [],
   "source": [
    "# 19. reduce를 사용하여 src의 x,\n",
    "## - 300 <= x < 700\n",
    "## - x is even\n",
    "## x의 합을 구하세요.\n",
    "\n",
    "src = [538, 539, 543, 546, 569, 593, 598, 605, 612, 615, 107, 625, 642, 140, 141, 656, 661, 665, 160, 166, 701, 194, 203, 719, 208, 721, 722, 224, 225, 233, 241, 759, 249, 764, 257, 773, 266, 779, 784, 273, 789, 793, 282, 288, 289, 802, 291, 299, 824, 825, 833, 836, 841, 330, 845, 342, 345, 859, 862, 351, 361, 889, 377, 910, 400, 405, 923, 926, 418, 420, 936, 437, 954, 443, 955, 452, 964, 457, 977, 980, 984, 477, 997, 486, 487, 1000, 488, 998, 489, 499, 509]\n"
   ]
  },
  {
   "cell_type": "code",
   "execution_count": 21,
   "metadata": {},
   "outputs": [
    {
     "data": {
      "text/plain": [
       "6928"
      ]
     },
     "execution_count": 21,
     "metadata": {},
     "output_type": "execute_result"
    }
   ],
   "source": [
    "#py\n",
    "from functools import reduce\n",
    "\n",
    "\n",
    "x_from300to700 = [i for i in src if 300<=i<700 and i %2==0]\n",
    "x_from300to700\n",
    "reduce(lambda x,y:x+y, x_from300to700)"
   ]
  },
  {
   "cell_type": "code",
   "execution_count": 142,
   "metadata": {},
   "outputs": [],
   "source": [
    "# 20. 다음 print구문이 정상 동작하도록 while안에 try, except를 구성하세요.\n",
    "# Exception, BaseException 을 사용하면 안됩니다."
   ]
  },
  {
   "cell_type": "code",
   "execution_count": 23,
   "metadata": {},
   "outputs": [
    {
     "name": "stdout",
     "output_type": "stream",
     "text": [
      "0\n",
      "1\n",
      "3\n",
      "6\n",
      "10\n",
      "15\n",
      "21\n",
      "28\n",
      "36\n",
      "45\n",
      "55\n",
      "66\n",
      "78\n",
      "91\n",
      "105\n",
      "120\n",
      "136\n",
      "153\n",
      "171\n",
      "190\n",
      "210\n",
      "231\n",
      "253\n",
      "276\n",
      "300\n",
      "325\n",
      "351\n",
      "378\n",
      "406\n",
      "435\n",
      "range_obj 더이상 값이 없습니다.\n"
     ]
    }
   ],
   "source": [
    "range_obj = iter(range(30))\n",
    "sumed = 0\n",
    "\n",
    "while (True):\n",
    "    try:\n",
    "        sumed += next(range_obj)\n",
    "        print(sumed)\n",
    "    except StopIteration:\n",
    "        print(\"range_obj 더이상 값이 없습니다.\")\n",
    "        break        "
   ]
  },
  {
   "cell_type": "code",
   "execution_count": 145,
   "metadata": {},
   "outputs": [],
   "source": [
    "# 21. 파이썬은 어떤 언어인가에 대해 간단히 설명 해주세요.(5줄 이하)"
   ]
  },
  {
   "cell_type": "markdown",
   "metadata": {},
   "source": [
    "## answer\n",
    "\n",
    "- 파이썬은 직관적이고 가독성을 최우선시 하는 언어이다.\n",
    "- {,; 같은 요소가 필요 없으나 들여쓰기를 하지 않으면 오류가 발생한다.\n",
    "- 다른 언어에 비해 문법이 쉬운 편이다.\n",
    "- 요즘 인기가 많은 언어이다."
   ]
  },
  {
   "cell_type": "code",
   "execution_count": 149,
   "metadata": {},
   "outputs": [],
   "source": [
    "# 22. Framework Vs Library, 프레임워크와 라이브러리의 차이점은 무엇일까요?"
   ]
  },
  {
   "cell_type": "markdown",
   "metadata": {},
   "source": [
    "## answer\n",
    "\n",
    "- 라이브러리는 함수와 기능의 모음으로 내장함수, 모듈 등을 의미한다.\n",
    "- 프레임워크는 라이브러리보다 더 큰 개념으로 뼈대나 기반 구조를 가지고 있다. 추상화를 제공하는 여러 클래스나 컴포넌트로 구성되어 있다."
   ]
  },
  {
   "cell_type": "code",
   "execution_count": 150,
   "metadata": {},
   "outputs": [],
   "source": [
    "# 23. 가상환경이 필요한 이유는 무엇일까요?"
   ]
  },
  {
   "cell_type": "markdown",
   "metadata": {},
   "source": [
    "## answer\n",
    "\n",
    "- 각 프로젝트에 필요한 언어, 라이브러리, 프레임워크 등의 버전을 편리하게 관리할 수 있다.\n",
    "- 예를 들어 a프로젝트에는 파이썬 2.7, 장고 1.11을 사용해야 하고, b프로젝트에는 파이썬 3.4, 장고 2.0이 필요하다면, 각 프로젝트마다 그에 맞는 버전을 설치한 가상환경을 만들어 개발하면 프로젝트를 무사히 마칠 수 있다."
   ]
  },
  {
   "cell_type": "code",
   "execution_count": 24,
   "metadata": {},
   "outputs": [],
   "source": [
    "# 24. pyenv, vitualenv, poetry의 역할을 간략하게 소개해주세요."
   ]
  },
  {
   "cell_type": "markdown",
   "metadata": {},
   "source": [
    "## answer\n",
    "\n",
    "- ``pyenv``: 언어, 라이브러리, 프레임워크 등의 버전 관리를 도와준다. \n",
    "- ``virtualenv``: 가상환경을 만들어 준다.\n",
    "- ``poetry``: 의존성 관리 툴로 패키지를 관리해준다."
   ]
  },
  {
   "cell_type": "code",
   "execution_count": 2,
   "metadata": {},
   "outputs": [],
   "source": [
    "# 25. 컴파일-언어와 인터프리터-언어의 차이를 기준으로 인터프리터 언어를 간략하게 설명해주세요."
   ]
  },
  {
   "cell_type": "markdown",
   "metadata": {},
   "source": [
    "## answer\n",
    "\n",
    "- c, c++등의 소스코드를 기계어로 컴파일해서 실행파일을 만들어 실행하는 컴파일-언어와 다르게 인터프리터 언어는 코드를 한줄씩 읽어 내려가며 실행하는 언어이다. 따라서, 실행결과를 바로 확인하면서 코딩할 수 있다. \n",
    "- 파이썬은 인터프리터-언어로서 코드를 한줄씩 읽어나가기 때문에 컴파일-언어보다 느린 단점이 있지만, 프로그램 수정이 간단하다는 장점이 있다. (컴파일-언어의 경우, 수정된다면 다시 컴파일하고 실행해야 함)\n",
    "- 또한, 동적타입을 이용하기 때문에 자료형을 따로 적지 않고, 크기 또한 신경쓰지 않는다."
   ]
  },
  {
   "cell_type": "markdown",
   "metadata": {},
   "source": [
    "### 26. Wrapper decorator\n",
    "\n",
    "- ``method``가 \"GET\"이 아닐때 ``username``을 ``black_users``에 저장하고, ``get_request_handler``의 리턴 대신, ``ValueError(\"Wrong method request!\")``를 리턴하는 ``get_request_handler``함수에 대한 wrapper함수를 완성하세요.\n",
    "- wrapper function은 ``get_request_handler``에 대한 decorator로 하여 아래 호출이 에러 없이 동작하도록 해주세요.\n",
    "- 만약, ``username``이나 ``method``가 유효하지 않은 경우 ``KeyError(\"Key not found!\")``를 반환해야 합니다.\n",
    "\n",
    "```py\n",
    "black_users = []\n",
    "\n",
    "def get_request_handler(req):\n",
    "    res = f\"{req['method']}:{req['username']}\"\n",
    "    return (res)\n",
    "\n",
    "print(get_request_handler({\"method\":\"GET\", \"username\":\"Johndoe\"}))\n",
    "print(get_request_handler({\"method\":\"POST\", \"username\":\"HackerPackman\"}))\n",
    "print(get_request_handler({\"method\":\"GET\"}))\n",
    "```"
   ]
  }
 ],
 "metadata": {
  "kernelspec": {
   "display_name": "Python 3",
   "language": "python",
   "name": "python3"
  },
  "language_info": {
   "codemirror_mode": {
    "name": "ipython",
    "version": 3
   },
   "file_extension": ".py",
   "mimetype": "text/x-python",
   "name": "python",
   "nbconvert_exporter": "python",
   "pygments_lexer": "ipython3",
   "version": "3.8.5"
  }
 },
 "nbformat": 4,
 "nbformat_minor": 5
}

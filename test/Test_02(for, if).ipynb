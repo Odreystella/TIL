{
 "cells": [
  {
   "cell_type": "code",
   "execution_count": 1,
   "metadata": {},
   "outputs": [
    {
     "name": "stdout",
     "output_type": "stream",
     "text": [
      "{'1': 1, '2': 3, '3': 1, '4': None}\n"
     ]
    }
   ],
   "source": [
    "# pseudocode(sample) \n",
    "# 1. 인덱스와 1의 갯수를 보여주는 founds라는 변수를 딕셔너리형으로 만든다. \n",
    "# 2. 인덱스를 출력하는 변수 i를 초기화한다.\n",
    "# 3. MAP_SOURCE의 각 행의 1의 갯수를 구한다.\n",
    "# 4. 만약 각 행의 1의 갯수가 0이라면 None를 출력한다.\n",
    "# 5. 각 행의 1의 갯수가 0이 아닐 경우에는 딕셔너리에 인덱스(key)에 1의 갯수(value)를 추가한다.\n",
    "# 6. 이 과정을 MAP_SOURCE의 모든 값을 순회할 때까지 반복한다.\n",
    "# 7. 마지막으로 founds값을 출력한다.\n",
    "\n",
    "\n",
    "MAP_SOURCE = [\n",
    "    [1,0,0,0],\n",
    "    [0,1,1,1],\n",
    "    [1,0,0,0],\n",
    "    [0,0,0,0] \n",
    "]\n",
    "#print(MAP_SOURCE)\n",
    "\n",
    "founds = {}\n",
    "i = 0\n",
    "for list in MAP_SOURCE:\n",
    "    i += 1\n",
    "    #print(list)\n",
    "    if list.count(1) == 0:\n",
    "        founds[str(i)] = None\n",
    "    else:\n",
    "        founds[str(i)] = list.count(1) \n",
    "print(founds)\n",
    "\n"
   ]
  },
  {
   "cell_type": "code",
   "execution_count": 2,
   "metadata": {},
   "outputs": [
    {
     "name": "stdout",
     "output_type": "stream",
     "text": [
      "{'1': 3, '2': 6, '3': 5, '4': 4, '5': 5, '6': 5, '7': 2, '8': None}\n"
     ]
    }
   ],
   "source": [
    "MAP_SOURCE = [\n",
    "    [1, 0, 0, 0, 0, 1, 1],\n",
    "    [1, 1, 0, 1, 1, 1, 1],\n",
    "    [1, 1, 0, 1, 1, 0, 1],\n",
    "    [1, 1, 0, 0, 1, 0, 1],\n",
    "    [1, 0, 0, 1, 1, 1, 1],\n",
    "    [1, 1, 0, 1, 1, 1, 0],\n",
    "    [0, 1, 0, 0, 0, 0, 1],\n",
    "    [0 for i in range(8)],\n",
    "    ]\n",
    "#print(MAP_SOURCE)\n",
    "\n",
    "# enumerate()쓰는 방법도 있음, 조건문을 작성할 때는 해당 문제의 목적을 생각!\n",
    "# MAP_SOURCE의 리스트 중에서 1의 갯수를 세는 것이 목적인 문제이기 때문에\n",
    "# if문에 row.count(1)이 오는 것이 좋음\n",
    "\n",
    "founds = {}\n",
    "i = 0\n",
    "for row in MAP_SOURCE:\n",
    "    i += 1\n",
    "    if any(row) == 0:\n",
    "        founds[str(i)] = None\n",
    "    else:\n",
    "        founds[str(i)] = row.count(1)         \n",
    "print(founds)"
   ]
  },
  {
   "cell_type": "code",
   "execution_count": 36,
   "metadata": {},
   "outputs": [
    {
     "name": "stdout",
     "output_type": "stream",
     "text": [
      "{'1': 3, '2': 6, '3': 5, '4': 4, '5': 5, '6': 5, '7': 2, '8': None}\n"
     ]
    }
   ],
   "source": [
    "# refactoring 해보기\n",
    "# enumerate()쓰는 방법\n",
    "\n",
    "founds = {}\n",
    "for index,value in enumerate(MAP_SOURCE):\n",
    "    if any(value) == 1:\n",
    "        founds['{}'.format(index+1)] = value.count(1)\n",
    "    else:\n",
    "        founds['{}'.format(index+1)] = None          \n",
    "print(founds)"
   ]
  },
  {
   "cell_type": "code",
   "execution_count": null,
   "metadata": {},
   "outputs": [],
   "source": []
  },
  {
   "cell_type": "code",
   "execution_count": null,
   "metadata": {},
   "outputs": [],
   "source": []
  },
  {
   "cell_type": "code",
   "execution_count": null,
   "metadata": {},
   "outputs": [],
   "source": []
  },
  {
   "cell_type": "code",
   "execution_count": null,
   "metadata": {},
   "outputs": [],
   "source": []
  }
 ],
 "metadata": {
  "kernelspec": {
   "display_name": "Python 3",
   "language": "python",
   "name": "python3"
  },
  "language_info": {
   "codemirror_mode": {
    "name": "ipython",
    "version": 3
   },
   "file_extension": ".py",
   "mimetype": "text/x-python",
   "name": "python",
   "nbconvert_exporter": "python",
   "pygments_lexer": "ipython3",
   "version": "3.8.5"
  }
 },
 "nbformat": 4,
 "nbformat_minor": 4
}

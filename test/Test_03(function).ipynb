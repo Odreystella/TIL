{
 "cells": [
  {
   "cell_type": "code",
   "execution_count": 1,
   "metadata": {},
   "outputs": [],
   "source": [
    "# 두번째 인자가 True: 오름차순 / False: 내림차순\n",
    "# 정렬된 리스트를 반환할 때는 sorted() 사용\n",
    "\n",
    "# 풀이 과정\n",
    "# step-1. 오름차순으로 정렬된 input_data를 \n",
    "#         little_first가 True일 때 오름차순, False일 때 내림차순 정렬된 리스트로 출력한다.\n",
    "# step-2. len(data_list) > 0, len(data_list) ==0 로 조건문을 구현한다. \n",
    "#         (ps. len(data_list) > 1, len(data_list) == 1, len(data_list) == 0 로 나누면,\n",
    "#         3개의 데이터를 받았을 때 튜플 페어 만들고 남은 한 개의 데이터를 처리할 수 없음)  \n",
    "# step-3. len(data_list) > 0 일 때, little_first에 따라 튜플 페어 출력\n",
    "#         반복문과 조건문 사용하여 구현하기, 그리고 리턴값 구현하기\n",
    "# step-4. len(data_list) == 1 일 때, 남은 값만 출력하기"
   ]
  },
  {
   "cell_type": "code",
   "execution_count": 9,
   "metadata": {},
   "outputs": [],
   "source": [
    "# step-1. Little_first 구현\n",
    "# little_first가 True일 때 오름차순, False일 때 내림차순 정렬된 리스트로 출력한다.\n",
    "\n",
    "def test_func(data_list, little_first=True):\n",
    "    if little_first == True:\n",
    "        print(data_list)\n",
    "    else:\n",
    "        print(sorted(data_list, reverse=True))      "
   ]
  },
  {
   "cell_type": "code",
   "execution_count": 10,
   "metadata": {},
   "outputs": [
    {
     "name": "stdout",
     "output_type": "stream",
     "text": [
      "[1, 30, 44, 55, 100]\n"
     ]
    }
   ],
   "source": [
    "input_data = [1, 30, 44, 55 ,100]\n",
    "\n",
    "test_func(input_data)"
   ]
  },
  {
   "cell_type": "code",
   "execution_count": 11,
   "metadata": {},
   "outputs": [
    {
     "name": "stdout",
     "output_type": "stream",
     "text": [
      "[100, 55, 44, 30, 1]\n"
     ]
    }
   ],
   "source": [
    "input_data = [1, 30, 44, 55 ,100]\n",
    "\n",
    "test_func(input_data, False)"
   ]
  },
  {
   "cell_type": "code",
   "execution_count": 12,
   "metadata": {},
   "outputs": [],
   "source": [
    "# step-2. data_list 길이에 따라 조건 나누기\n",
    "# len(data_list)가 0 보다 클때와 0일때를 나눔  \n",
    "\n",
    "def test_func(data_list, little_first=True):\n",
    "    if len(data_list) > 0:        \n",
    "        if little_first == True:\n",
    "            print(data_list)\n",
    "        else:\n",
    "            print(sorted(data_list, reverse=True))\n",
    "    else:\n",
    "        return None\n"
   ]
  },
  {
   "cell_type": "code",
   "execution_count": 13,
   "metadata": {},
   "outputs": [
    {
     "name": "stdout",
     "output_type": "stream",
     "text": [
      "[1, 30, 44, 55, 100]\n"
     ]
    }
   ],
   "source": [
    "input_data = [1, 30, 44, 55 ,100]\n",
    "\n",
    "test_func(input_data)"
   ]
  },
  {
   "cell_type": "code",
   "execution_count": 14,
   "metadata": {},
   "outputs": [
    {
     "name": "stdout",
     "output_type": "stream",
     "text": [
      "[100, 55, 44, 30, 1]\n"
     ]
    }
   ],
   "source": [
    "input_data = [1, 30, 44, 55 ,100]\n",
    "\n",
    "test_func(input_data, False)"
   ]
  },
  {
   "cell_type": "code",
   "execution_count": 15,
   "metadata": {},
   "outputs": [],
   "source": [
    "# step-3.len(data_list) > 0 일 때\n",
    "# little_first == True, (작은수, 큰수)의 조합으로 묶어서 출력\n",
    "# little_first == False, (큰수, 작은수)의 조합으로 묶어서 출력\n",
    "# 리턴값 구현\n",
    "\n",
    "def test_func(data_list, little_first=True):\n",
    "    data_length = len(data_list)\n",
    "    if len(data_list) > 0:   # input_data가 1개 이상인 애들 다 들어와\n",
    "        result_small = []\n",
    "        result_big = []\n",
    "        while len(data_list) > 1:     # input_data의 갯수가 1보다 크면 아래 과정 반복  \n",
    "            if little_first == True:\n",
    "                result_small.append(data_list.pop(0))\n",
    "                result_big.append(data_list.pop(-1))\n",
    "                tuple_pair = tuple(zip(result_small, result_big))\n",
    "                #print(tuple_pair)\n",
    "            else:\n",
    "                data_list.sort(reverse=True)\n",
    "                result_big.append(data_list.pop(0))\n",
    "                result_small.append(data_list.pop(-1))\n",
    "                tuple_pair = tuple(zip(result_big, result_small))\n",
    "                #print(tuple_pair)\n",
    "            print(tuple_pair)\n",
    "        return data_length // 2      # input_data가 1개 이거나 그 이상일 때\n",
    "    else:\n",
    "        return None        # input_data가 빈 리스트일 때\n"
   ]
  },
  {
   "cell_type": "code",
   "execution_count": 16,
   "metadata": {},
   "outputs": [
    {
     "name": "stdout",
     "output_type": "stream",
     "text": [
      "((1, 100),)\n",
      "((1, 100), (30, 55))\n",
      "2\n"
     ]
    }
   ],
   "source": [
    "input_data = [1, 30, 44, 55 ,100]\n",
    "\n",
    "print(test_func(input_data))"
   ]
  },
  {
   "cell_type": "code",
   "execution_count": 20,
   "metadata": {},
   "outputs": [
    {
     "name": "stdout",
     "output_type": "stream",
     "text": [
      "((55, 1),)\n",
      "((55, 1), (44, 30))\n",
      "2\n"
     ]
    }
   ],
   "source": [
    "input_data = [1, 30, 44, 55]\n",
    "\n",
    "print(test_func(input_data, False))"
   ]
  },
  {
   "cell_type": "code",
   "execution_count": 17,
   "metadata": {},
   "outputs": [
    {
     "name": "stdout",
     "output_type": "stream",
     "text": [
      "((1, 44),)\n",
      "1\n"
     ]
    }
   ],
   "source": [
    "input_data = [1, 30, 44]\n",
    "\n",
    "print(test_func(input_data))"
   ]
  },
  {
   "cell_type": "code",
   "execution_count": 18,
   "metadata": {},
   "outputs": [
    {
     "name": "stdout",
     "output_type": "stream",
     "text": [
      "((1, 30),)\n",
      "1\n"
     ]
    }
   ],
   "source": [
    "input_data = [1, 30]\n",
    "\n",
    "print(test_func(input_data))"
   ]
  },
  {
   "cell_type": "code",
   "execution_count": 22,
   "metadata": {},
   "outputs": [
    {
     "name": "stdout",
     "output_type": "stream",
     "text": [
      "(1,)\n",
      "0\n"
     ]
    }
   ],
   "source": [
    "# Error case\n",
    "input_data = [1]\n",
    "\n",
    "print(test_func(input_data))"
   ]
  },
  {
   "cell_type": "code",
   "execution_count": 21,
   "metadata": {},
   "outputs": [],
   "source": [
    "# step-4.len(data_list) == 1 일 때, 1개 값만 출력\n",
    "\n",
    "def test_func(data_list, little_first=True):\n",
    "    data_length = len(data_list)\n",
    "    if len(data_list) > 0:   # input_data가 1개 이상인 애들 다 들어와\n",
    "        while len(data_list) > 1:     # input_data의 갯수가 1보다 크면 아래 과정 반복  \n",
    "            result_small = []\n",
    "            result_big = []\n",
    "            if little_first == True:\n",
    "                result_small.append(data_list.pop(0))\n",
    "                result_big.append(data_list.pop(-1))\n",
    "                tuple_pair = tuple(zip(result_small, result_big))\n",
    "                print(tuple_pair)\n",
    "            else:\n",
    "                data_list.sort(reverse=True)\n",
    "                result_big.append(data_list.pop(0))\n",
    "                result_small.append(data_list.pop(-1))\n",
    "                tuple_pair = tuple(zip(result_big, result_small))\n",
    "                print(tuple_pair)\n",
    "        if len(data_list) == 1:\n",
    "            tuple_one = []\n",
    "            tuple_one.append(data_list[0])\n",
    "            print(tuple(tuple_one)) \n",
    "        return data_length // 2      # input_data가 1개 이거나 그 이상일 때\n",
    "    else:\n",
    "        return None        # input_data가 빈 리스트일 때\n"
   ]
  },
  {
   "cell_type": "code",
   "execution_count": 23,
   "metadata": {},
   "outputs": [
    {
     "name": "stdout",
     "output_type": "stream",
     "text": [
      "((1, 100),)\n",
      "((30, 55),)\n",
      "(44,)\n",
      "2\n"
     ]
    }
   ],
   "source": [
    "input_data = [1, 30, 44, 55 ,100]\n",
    "\n",
    "print(test_func(input_data))"
   ]
  },
  {
   "cell_type": "code",
   "execution_count": 24,
   "metadata": {},
   "outputs": [
    {
     "name": "stdout",
     "output_type": "stream",
     "text": [
      "((100, 1),)\n",
      "((55, 30),)\n",
      "(44,)\n",
      "2\n"
     ]
    }
   ],
   "source": [
    "input_data = [1, 30, 44, 55 ,100]\n",
    "\n",
    "print(test_func(input_data, False))"
   ]
  },
  {
   "cell_type": "code",
   "execution_count": 29,
   "metadata": {},
   "outputs": [
    {
     "name": "stdout",
     "output_type": "stream",
     "text": [
      "(44, 1)\n",
      "(30,)\n",
      "1\n"
     ]
    }
   ],
   "source": [
    "input_data = [1, 30, 44]\n",
    "\n",
    "print(test_func(input_data, False))"
   ]
  },
  {
   "cell_type": "code",
   "execution_count": 28,
   "metadata": {},
   "outputs": [
    {
     "name": "stdout",
     "output_type": "stream",
     "text": [
      "(1,)\n",
      "0\n"
     ]
    }
   ],
   "source": [
    "input_data = [1]\n",
    "\n",
    "print(test_func(input_data))"
   ]
  },
  {
   "cell_type": "code",
   "execution_count": 30,
   "metadata": {},
   "outputs": [
    {
     "name": "stdout",
     "output_type": "stream",
     "text": [
      "None\n"
     ]
    }
   ],
   "source": [
    "input_data = []\n",
    "\n",
    "print(test_func(input_data, False))"
   ]
  },
  {
   "cell_type": "code",
   "execution_count": 25,
   "metadata": {},
   "outputs": [],
   "source": [
    "# refactoring 해보기\n",
    "# tuple_pair(resule_first[-1], result_last[-1])\n",
    "\n",
    "def test_func(data_list, little_first=True):\n",
    "    data_length = len(data_list)\n",
    "    if len(data_list):   # input_data가 1개 이상인 애들 다 들어와\n",
    "        while len(data_list) > 1:     # input_data의 갯수가 1보다 크면 아래 과정 반복  \n",
    "            result_first = []\n",
    "            result_last = []\n",
    "            if (not little_first):\n",
    "                data_list.sort(reverse=True)\n",
    "            result_first.append(data_list.pop(0))\n",
    "            result_last.append(data_list.pop(-1))\n",
    "            tuple_pair = (result_first[-1], result_last[-1])\n",
    "            print(tuple_pair)\n",
    "        if len(data_list) == 1:\n",
    "            tuple_one = []\n",
    "            tuple_one.append(data_list[0])\n",
    "            print(tuple(tuple_one)) \n",
    "        return data_length // 2      # input_data가 1개 이거나 그 이상일 때\n",
    "    else:\n",
    "        return None        # input_data가 빈 리스트일 때\n"
   ]
  },
  {
   "cell_type": "code",
   "execution_count": 27,
   "metadata": {},
   "outputs": [
    {
     "name": "stdout",
     "output_type": "stream",
     "text": [
      "(1, 100)\n",
      "(30, 55)\n",
      "(44,)\n"
     ]
    },
    {
     "data": {
      "text/plain": [
       "2"
      ]
     },
     "execution_count": 27,
     "metadata": {},
     "output_type": "execute_result"
    }
   ],
   "source": [
    "input_data = [1, 30, 44, 55 ,100]\n",
    "\n",
    "test_func(input_data, True)"
   ]
  },
  {
   "cell_type": "code",
   "execution_count": 26,
   "metadata": {},
   "outputs": [
    {
     "name": "stdout",
     "output_type": "stream",
     "text": [
      "(100, 1)\n",
      "(55, 30)\n",
      "(44,)\n"
     ]
    },
    {
     "data": {
      "text/plain": [
       "2"
      ]
     },
     "execution_count": 26,
     "metadata": {},
     "output_type": "execute_result"
    }
   ],
   "source": [
    "input_data = [1, 30, 44, 55 ,100]\n",
    "\n",
    "test_func(input_data,False)"
   ]
  },
  {
   "cell_type": "code",
   "execution_count": null,
   "metadata": {},
   "outputs": [],
   "source": []
  }
 ],
 "metadata": {
  "kernelspec": {
   "display_name": "Python 3",
   "language": "python",
   "name": "python3"
  },
  "language_info": {
   "codemirror_mode": {
    "name": "ipython",
    "version": 3
   },
   "file_extension": ".py",
   "mimetype": "text/x-python",
   "name": "python",
   "nbconvert_exporter": "python",
   "pygments_lexer": "ipython3",
   "version": "3.8.5"
  }
 },
 "nbformat": 4,
 "nbformat_minor": 4
}

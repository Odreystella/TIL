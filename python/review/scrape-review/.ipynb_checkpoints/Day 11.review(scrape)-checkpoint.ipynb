{
 "cells": [
  {
   "cell_type": "code",
   "execution_count": 1,
   "id": "tutorial-dancing",
   "metadata": {},
   "outputs": [
    {
     "data": {
      "text/plain": [
       "<Response [200]>"
      ]
     },
     "execution_count": 1,
     "metadata": {},
     "output_type": "execute_result"
    }
   ],
   "source": [
    "# requests: http를 이용해서 정보를 주고 받고 싶을 때 사용하는 라이브러리\n",
    "# $ pip install requests or $ poetry add requests 후 사용\n",
    "# requests 라이브러리로 웹페이지 접근하기\n",
    "import requests\n",
    "\n",
    "\n",
    "url = 'http://www.google.com/'\n",
    "response = requests.get(url)\n",
    "response"
   ]
  },
  {
   "cell_type": "code",
   "execution_count": 2,
   "id": "assisted-hopkins",
   "metadata": {},
   "outputs": [
    {
     "data": {
      "text/plain": [
       "'http://www.google.com/'"
      ]
     },
     "execution_count": 2,
     "metadata": {},
     "output_type": "execute_result"
    }
   ],
   "source": [
    "response.url"
   ]
  },
  {
   "cell_type": "code",
   "execution_count": 3,
   "id": "other-flavor",
   "metadata": {},
   "outputs": [
    {
     "data": {
      "text/plain": [
       "'<!doctype html><html itemscope=\"\" itemtype=\"http://schema.org/WebPage\" lang=\"ko\"><head><meta content=\"text/html; charset=UTF-8\" http-equiv=\"Content-Type\"><meta content=\"/images/branding/googleg/1x/goo'"
      ]
     },
     "execution_count": 3,
     "metadata": {},
     "output_type": "execute_result"
    }
   ],
   "source": [
    "response.text[:200]"
   ]
  },
  {
   "cell_type": "code",
   "execution_count": 4,
   "id": "sophisticated-variety",
   "metadata": {},
   "outputs": [
    {
     "data": {
      "text/plain": [
       "200"
      ]
     },
     "execution_count": 4,
     "metadata": {},
     "output_type": "execute_result"
    }
   ],
   "source": [
    "response.status_code # 200은 성공이라는 의미, 400(클라 오류), 500(서버 오류)"
   ]
  },
  {
   "cell_type": "code",
   "execution_count": 6,
   "id": "parliamentary-shirt",
   "metadata": {},
   "outputs": [
    {
     "data": {
      "text/plain": [
       "<Response [200]>"
      ]
     },
     "execution_count": 6,
     "metadata": {},
     "output_type": "execute_result"
    }
   ],
   "source": [
    "# requests 를 활용한 api 데이터 수집\n",
    "url = 'https://api.kurly.com/v2/categories?ver=1'\n",
    "response = requests.get(url)\n",
    "response"
   ]
  },
  {
   "cell_type": "code",
   "execution_count": 7,
   "id": "illegal-sculpture",
   "metadata": {},
   "outputs": [
    {
     "data": {
      "text/plain": [
       "dict"
      ]
     },
     "execution_count": 7,
     "metadata": {},
     "output_type": "execute_result"
    }
   ],
   "source": [
    "type(response.json())"
   ]
  },
  {
   "cell_type": "code",
   "execution_count": 9,
   "id": "friendly-recycling",
   "metadata": {},
   "outputs": [
    {
     "data": {
      "text/plain": [
       "{'no': '907',\n",
       " 'name': '채소',\n",
       " 'show_all_flag': True,\n",
       " 'pc_icon_url': 'https://img-cf.kurly.com/shop/data/category/icon_veggies_inactive_pc@2x.1586324570.png',\n",
       " 'icon_url': 'https://img-cf.kurly.com/shop/data/category/icon_veggies_inactive@3x.1586324413.png',\n",
       " 'pc_icon_active_url': 'https://img-cf.kurly.com/shop/data/category/icon_veggies_active_pc@2x.1586324570.png',\n",
       " 'icon_active_url': 'https://img-cf.kurly.com/shop/data/category/icon_veggies_active@3x.1586324413.png',\n",
       " 'categories': [{'no': '907001', 'name': '고구마·감자·당근'},\n",
       "  {'no': '907002', 'name': '시금치·쌈채소·나물'},\n",
       "  {'no': '907003', 'name': '브로콜리·파프리카·양배추'},\n",
       "  {'no': '907005', 'name': '양파·대파·마늘·배추'},\n",
       "  {'no': '907004', 'name': '오이·호박·고추'},\n",
       "  {'no': '907007', 'name': '냉동·이색·간편채소'},\n",
       "  {'no': '907006', 'name': '콩나물·버섯'}]}"
      ]
     },
     "execution_count": 9,
     "metadata": {},
     "output_type": "execute_result"
    }
   ],
   "source": [
    "response_dict = response.json()\n",
    "response_dict['data']['categories'][0]"
   ]
  },
  {
   "cell_type": "code",
   "execution_count": 11,
   "id": "supported-capitol",
   "metadata": {},
   "outputs": [
    {
     "name": "stdout",
     "output_type": "stream",
     "text": [
      "채소\n",
      "과일·견과·쌀\n",
      "수산·해산·건어물\n",
      "정육·계란\n",
      "국·반찬·메인요리\n",
      "샐러드·간편식\n",
      "면·양념·오일\n",
      "생수·음료·우유·커피\n",
      "간식·과자·떡\n",
      "베이커리·치즈·델리\n",
      "건강식품\n",
      "생활용품·리빙\n",
      "뷰티·바디케어\n",
      "주방용품\n",
      "가전제품\n",
      "베이비·키즈\n",
      "반려동물\n"
     ]
    }
   ],
   "source": [
    "# 키 값이 'data'에 'categories' 의 값들 중에서 'name'만 뽑아보기\n",
    "for item in response_dict['data']['categories']:\n",
    "    print(item['name'])"
   ]
  },
  {
   "cell_type": "code",
   "execution_count": 14,
   "id": "grand-front",
   "metadata": {},
   "outputs": [
    {
     "data": {
      "text/plain": [
       "<Response [401]>"
      ]
     },
     "execution_count": 14,
     "metadata": {},
     "output_type": "execute_result"
    }
   ],
   "source": [
    "# api 접근할 때 token이 필요할 경우(ex.상품정보 페이지)\n",
    "url = 'https://api.kurly.com/v3/home/products/66515?&ver=1613544143256'\n",
    "response = requests.get(url)\n",
    "response # 401 == 'unauthorized' 권한이 없음, 서버는 동작하는데 정보 전달 안됨"
   ]
  },
  {
   "cell_type": "code",
   "execution_count": 15,
   "id": "center-bolivia",
   "metadata": {},
   "outputs": [],
   "source": [
    "# hearders 부분 활용\n",
    "from time import sleep\n",
    "\n",
    "\n",
    "result_dict = {}\n",
    "for item_no in range(66500, 66520):\n",
    "    url = 'https://api.kurly.com/v3/home/products/{}?&ver=1613544143256'.format(item_no)\n",
    "    headers = {'authorization': 'token'}\n",
    "    response = requests.get(url, headers=headers)\n",
    "    result_dict[item_no] = response.json()\n",
    "    sleep(0.5)"
   ]
  },
  {
   "cell_type": "code",
   "execution_count": 17,
   "id": "through-workstation",
   "metadata": {},
   "outputs": [
    {
     "ename": "KeyError",
     "evalue": "'data'",
     "output_type": "error",
     "traceback": [
      "\u001b[0;31m---------------------------------------------------------------------------\u001b[0m",
      "\u001b[0;31mKeyError\u001b[0m                                  Traceback (most recent call last)",
      "\u001b[0;32m<ipython-input-17-11a31b668221>\u001b[0m in \u001b[0;36m<module>\u001b[0;34m\u001b[0m\n\u001b[1;32m      1\u001b[0m \u001b[0;32mfor\u001b[0m \u001b[0mitem\u001b[0m \u001b[0;32min\u001b[0m \u001b[0mresult_dict\u001b[0m\u001b[0;34m.\u001b[0m\u001b[0mkeys\u001b[0m\u001b[0;34m(\u001b[0m\u001b[0;34m)\u001b[0m\u001b[0;34m:\u001b[0m\u001b[0;34m\u001b[0m\u001b[0;34m\u001b[0m\u001b[0m\n\u001b[0;32m----> 2\u001b[0;31m     \u001b[0mprint\u001b[0m\u001b[0;34m(\u001b[0m\u001b[0mresult_dict\u001b[0m\u001b[0;34m[\u001b[0m\u001b[0mitem\u001b[0m\u001b[0;34m]\u001b[0m\u001b[0;34m[\u001b[0m\u001b[0;34m'data'\u001b[0m\u001b[0;34m]\u001b[0m\u001b[0;34m[\u001b[0m\u001b[0;34m'name'\u001b[0m\u001b[0;34m]\u001b[0m\u001b[0;34m,\u001b[0m \u001b[0mresult_dict\u001b[0m\u001b[0;34m[\u001b[0m\u001b[0mitem\u001b[0m\u001b[0;34m]\u001b[0m\u001b[0;34m[\u001b[0m\u001b[0;34m'data'\u001b[0m\u001b[0;34m]\u001b[0m\u001b[0;34m[\u001b[0m\u001b[0;34m'discounted_price'\u001b[0m\u001b[0;34m]\u001b[0m\u001b[0;34m)\u001b[0m\u001b[0;34m\u001b[0m\u001b[0;34m\u001b[0m\u001b[0m\n\u001b[0m",
      "\u001b[0;31mKeyError\u001b[0m: 'data'"
     ]
    }
   ],
   "source": [
    "for item in result_dict.keys():\n",
    "    print(result_dict[item]['data']['name'], result_dict[item]['data']['discounted_price'])"
   ]
  },
  {
   "cell_type": "code",
   "execution_count": 18,
   "id": "behind-scoop",
   "metadata": {},
   "outputs": [
    {
     "ename": "KeyError",
     "evalue": "66520",
     "output_type": "error",
     "traceback": [
      "\u001b[0;31m---------------------------------------------------------------------------\u001b[0m",
      "\u001b[0;31mKeyError\u001b[0m                                  Traceback (most recent call last)",
      "\u001b[0;32m<ipython-input-18-3539f3ee16b1>\u001b[0m in \u001b[0;36m<module>\u001b[0;34m\u001b[0m\n\u001b[0;32m----> 1\u001b[0;31m \u001b[0mresult_dict\u001b[0m\u001b[0;34m[\u001b[0m\u001b[0;36m66520\u001b[0m\u001b[0;34m]\u001b[0m\u001b[0;34m\u001b[0m\u001b[0;34m\u001b[0m\u001b[0m\n\u001b[0m",
      "\u001b[0;31mKeyError\u001b[0m: 66520"
     ]
    }
   ],
   "source": [
    "result_dict[66520]"
   ]
  },
  {
   "cell_type": "code",
   "execution_count": 19,
   "id": "charming-wilderness",
   "metadata": {},
   "outputs": [],
   "source": [
    "# beautifulsoup 을 활용한 페이지 데이터 수집\n",
    "# api가 존재하지 않는 사이트의 경우"
   ]
  },
  {
   "cell_type": "code",
   "execution_count": 24,
   "id": "blind-tobacco",
   "metadata": {},
   "outputs": [
    {
     "data": {
      "text/plain": [
       "200"
      ]
     },
     "execution_count": 24,
     "metadata": {},
     "output_type": "execute_result"
    }
   ],
   "source": [
    "from bs4 import BeautifulSoup\n",
    "import lxml  # 속도가 빨라서 파싱용으로 많이 씀\n",
    "\n",
    "\n",
    "url = 'https://en.wikipedia.org/wiki/Coronavirus_disease_2019'\n",
    "response =requests.get(url)\n",
    "response.status_code\n"
   ]
  },
  {
   "cell_type": "code",
   "execution_count": 25,
   "id": "built-surprise",
   "metadata": {},
   "outputs": [
    {
     "data": {
      "text/plain": [
       "'<!DOCTYPE html>\\n<html class=\"client-nojs\" lang=\"en\" dir=\"ltr\">\\n<head>\\n<meta charset=\"UTF-8\"/>\\n<title>Coronavirus disease 2019 - Wikipedia</title>\\n<script>document.documentElement.className=\"client-js\"'"
      ]
     },
     "execution_count": 25,
     "metadata": {},
     "output_type": "execute_result"
    }
   ],
   "source": [
    "response.text[:200]"
   ]
  },
  {
   "cell_type": "code",
   "execution_count": 27,
   "id": "dressed-password",
   "metadata": {},
   "outputs": [
    {
     "data": {
      "text/plain": [
       "<div aria-labelledby=\"mw-toc-heading\" class=\"toc\" id=\"toc\" role=\"navigation\"><input class=\"toctogglecheckbox\" id=\"toctogglecheckbox\" role=\"button\" style=\"display:none\" type=\"checkbox\"/><div class=\"toctitle\" dir=\"ltr\" lang=\"en\"><h2 id=\"mw-toc-heading\">Contents</h2><span class=\"toctogglespan\"><label class=\"toctogglelabel\" for=\"toctogglecheckbox\"></label></span></div>\n",
       "<ul>\n",
       "<li class=\"toclevel-1 tocsection-1\"><a href=\"#Signs_and_symptoms\"><span class=\"tocnumber\">1</span> <span class=\"toctext\">Signs and symptoms</span></a></li>\n",
       "<li class=\"toclevel-1 tocsection-2\"><a href=\"#Cause\"><span class=\"tocnumber\">2</span> <span class=\"toctext\">Cause</span></a>\n",
       "<ul>\n",
       "<li class=\"toclevel-2 tocsection-3\"><a href=\"#Transmission\"><span class=\"tocnumber\">2.1</span> <span class=\"toctext\">Transmission</span></a></li>\n",
       "<li class=\"toclevel-2 tocsection-4\"><a href=\"#Virology\"><span class=\"tocnumber\">2.2</span> <span class=\"toctext\">Virology</span></a></li>\n",
       "<li class=\"toclevel-2 tocsection-5\"><a href=\"#SARS-CoV-2_variants\"><span class=\"tocnumber\">2.3</span> <span class=\"toctext\">SARS-CoV-2 variants</span></a></li>\n",
       "</ul>\n",
       "</li>\n",
       "<li class=\"toclevel-1 tocsection-6\"><a href=\"#Pathophysiology\"><span class=\"tocnumber\">3</span> <span class=\"toctext\">Pathophysiology</span></a>\n",
       "<ul>\n",
       "<li class=\"toclevel-2 tocsection-7\"><a href=\"#Immunopathology\"><span class=\"tocnumber\">3.1</span> <span class=\"toctext\">Immunopathology</span></a></li>\n",
       "<li class=\"toclevel-2 tocsection-8\"><a href=\"#Viral_and_host_factors\"><span class=\"tocnumber\">3.2</span> <span class=\"toctext\">Viral and host factors</span></a>\n",
       "<ul>\n",
       "<li class=\"toclevel-3 tocsection-9\"><a href=\"#Virus_proteins\"><span class=\"tocnumber\">3.2.1</span> <span class=\"toctext\">Virus proteins</span></a></li>\n",
       "<li class=\"toclevel-3 tocsection-10\"><a href=\"#Host_factors\"><span class=\"tocnumber\">3.2.2</span> <span class=\"toctext\">Host factors</span></a></li>\n",
       "</ul>\n",
       "</li>\n",
       "<li class=\"toclevel-2 tocsection-11\"><a href=\"#Host_cytokine_response\"><span class=\"tocnumber\">3.3</span> <span class=\"toctext\">Host cytokine response</span></a></li>\n",
       "</ul>\n",
       "</li>\n",
       "<li class=\"toclevel-1 tocsection-12\"><a href=\"#Diagnosis\"><span class=\"tocnumber\">4</span> <span class=\"toctext\">Diagnosis</span></a>\n",
       "<ul>\n",
       "<li class=\"toclevel-2 tocsection-13\"><a href=\"#Viral_testing\"><span class=\"tocnumber\">4.1</span> <span class=\"toctext\">Viral testing</span></a></li>\n",
       "<li class=\"toclevel-2 tocsection-14\"><a href=\"#Imaging\"><span class=\"tocnumber\">4.2</span> <span class=\"toctext\">Imaging</span></a></li>\n",
       "<li class=\"toclevel-2 tocsection-15\"><a href=\"#Coding\"><span class=\"tocnumber\">4.3</span> <span class=\"toctext\">Coding</span></a></li>\n",
       "<li class=\"toclevel-2 tocsection-16\"><a href=\"#Pathology\"><span class=\"tocnumber\">4.4</span> <span class=\"toctext\">Pathology</span></a></li>\n",
       "</ul>\n",
       "</li>\n",
       "<li class=\"toclevel-1 tocsection-17\"><a href=\"#Prevention\"><span class=\"tocnumber\">5</span> <span class=\"toctext\">Prevention</span></a>\n",
       "<ul>\n",
       "<li class=\"toclevel-2 tocsection-18\"><a href=\"#Vaccine\"><span class=\"tocnumber\">5.1</span> <span class=\"toctext\">Vaccine</span></a></li>\n",
       "<li class=\"toclevel-2 tocsection-19\"><a href=\"#Social_distancing\"><span class=\"tocnumber\">5.2</span> <span class=\"toctext\">Social distancing</span></a></li>\n",
       "<li class=\"toclevel-2 tocsection-20\"><a href=\"#Self-isolation\"><span class=\"tocnumber\">5.3</span> <span class=\"toctext\">Self-isolation</span></a></li>\n",
       "<li class=\"toclevel-2 tocsection-21\"><a href=\"#Face_masks_and_respiratory_hygiene\"><span class=\"tocnumber\">5.4</span> <span class=\"toctext\">Face masks and respiratory hygiene</span></a></li>\n",
       "<li class=\"toclevel-2 tocsection-22\"><a href=\"#Hand-washing_and_hygiene\"><span class=\"tocnumber\">5.5</span> <span class=\"toctext\">Hand-washing and hygiene</span></a></li>\n",
       "<li class=\"toclevel-2 tocsection-23\"><a href=\"#Surface_cleaning\"><span class=\"tocnumber\">5.6</span> <span class=\"toctext\">Surface cleaning</span></a></li>\n",
       "<li class=\"toclevel-2 tocsection-24\"><a href=\"#Ventilation_and_air_filtration\"><span class=\"tocnumber\">5.7</span> <span class=\"toctext\">Ventilation and air filtration</span></a></li>\n",
       "<li class=\"toclevel-2 tocsection-25\"><a href=\"#Healthy_diet_and_lifestyle\"><span class=\"tocnumber\">5.8</span> <span class=\"toctext\">Healthy diet and lifestyle</span></a></li>\n",
       "</ul>\n",
       "</li>\n",
       "<li class=\"toclevel-1 tocsection-26\"><a href=\"#Treatment\"><span class=\"tocnumber\">6</span> <span class=\"toctext\">Treatment</span></a></li>\n",
       "<li class=\"toclevel-1 tocsection-27\"><a href=\"#Prognosis\"><span class=\"tocnumber\">7</span> <span class=\"toctext\">Prognosis</span></a>\n",
       "<ul>\n",
       "<li class=\"toclevel-2 tocsection-28\"><a href=\"#Complications\"><span class=\"tocnumber\">7.1</span> <span class=\"toctext\">Complications</span></a></li>\n",
       "<li class=\"toclevel-2 tocsection-29\"><a href=\"#Longer-term_effects\"><span class=\"tocnumber\">7.2</span> <span class=\"toctext\">Longer-term effects</span></a></li>\n",
       "<li class=\"toclevel-2 tocsection-30\"><a href=\"#Immunity\"><span class=\"tocnumber\">7.3</span> <span class=\"toctext\">Immunity</span></a></li>\n",
       "</ul>\n",
       "</li>\n",
       "<li class=\"toclevel-1 tocsection-31\"><a href=\"#Mortality\"><span class=\"tocnumber\">8</span> <span class=\"toctext\">Mortality</span></a>\n",
       "<ul>\n",
       "<li class=\"toclevel-2 tocsection-32\"><a href=\"#Infection_fatality_rate\"><span class=\"tocnumber\">8.1</span> <span class=\"toctext\">Infection fatality rate</span></a>\n",
       "<ul>\n",
       "<li class=\"toclevel-3 tocsection-33\"><a href=\"#Current_estimates\"><span class=\"tocnumber\">8.1.1</span> <span class=\"toctext\">Current estimates</span></a></li>\n",
       "<li class=\"toclevel-3 tocsection-34\"><a href=\"#Earlier_estimates_of_IFR\"><span class=\"tocnumber\">8.1.2</span> <span class=\"toctext\">Earlier estimates of IFR</span></a></li>\n",
       "</ul>\n",
       "</li>\n",
       "<li class=\"toclevel-2 tocsection-35\"><a href=\"#Sex_differences\"><span class=\"tocnumber\">8.2</span> <span class=\"toctext\">Sex differences</span></a></li>\n",
       "<li class=\"toclevel-2 tocsection-36\"><a href=\"#Ethnic_differences\"><span class=\"tocnumber\">8.3</span> <span class=\"toctext\">Ethnic differences</span></a></li>\n",
       "<li class=\"toclevel-2 tocsection-37\"><a href=\"#Comorbidities\"><span class=\"tocnumber\">8.4</span> <span class=\"toctext\">Comorbidities</span></a></li>\n",
       "</ul>\n",
       "</li>\n",
       "<li class=\"toclevel-1 tocsection-38\"><a href=\"#Name\"><span class=\"tocnumber\">9</span> <span class=\"toctext\">Name</span></a></li>\n",
       "<li class=\"toclevel-1 tocsection-39\"><a href=\"#History\"><span class=\"tocnumber\">10</span> <span class=\"toctext\">History</span></a></li>\n",
       "<li class=\"toclevel-1 tocsection-40\"><a href=\"#Misinformation\"><span class=\"tocnumber\">11</span> <span class=\"toctext\">Misinformation</span></a></li>\n",
       "<li class=\"toclevel-1 tocsection-41\"><a href=\"#Other_animals\"><span class=\"tocnumber\">12</span> <span class=\"toctext\">Other animals</span></a></li>\n",
       "<li class=\"toclevel-1 tocsection-42\"><a href=\"#Research\"><span class=\"tocnumber\">13</span> <span class=\"toctext\">Research</span></a>\n",
       "<ul>\n",
       "<li class=\"toclevel-2 tocsection-43\"><a href=\"#Transmission_and_prevention_research\"><span class=\"tocnumber\">13.1</span> <span class=\"toctext\">Transmission and prevention research</span></a></li>\n",
       "<li class=\"toclevel-2 tocsection-44\"><a href=\"#Treatment-related_research\"><span class=\"tocnumber\">13.2</span> <span class=\"toctext\">Treatment-related research</span></a>\n",
       "<ul>\n",
       "<li class=\"toclevel-3 tocsection-45\"><a href=\"#Cytokine_storm\"><span class=\"tocnumber\">13.2.1</span> <span class=\"toctext\">Cytokine storm</span></a></li>\n",
       "<li class=\"toclevel-3 tocsection-46\"><a href=\"#Passive_antibodies\"><span class=\"tocnumber\">13.2.2</span> <span class=\"toctext\">Passive antibodies</span></a></li>\n",
       "</ul>\n",
       "</li>\n",
       "</ul>\n",
       "</li>\n",
       "<li class=\"toclevel-1 tocsection-47\"><a href=\"#See_also\"><span class=\"tocnumber\">14</span> <span class=\"toctext\">See also</span></a></li>\n",
       "<li class=\"toclevel-1 tocsection-48\"><a href=\"#Notes\"><span class=\"tocnumber\">15</span> <span class=\"toctext\">Notes</span></a></li>\n",
       "<li class=\"toclevel-1 tocsection-49\"><a href=\"#References\"><span class=\"tocnumber\">16</span> <span class=\"toctext\">References</span></a></li>\n",
       "<li class=\"toclevel-1 tocsection-50\"><a href=\"#Further_reading\"><span class=\"tocnumber\">17</span> <span class=\"toctext\">Further reading</span></a></li>\n",
       "<li class=\"toclevel-1 tocsection-51\"><a href=\"#External_links\"><span class=\"tocnumber\">18</span> <span class=\"toctext\">External links</span></a>\n",
       "<ul>\n",
       "<li class=\"toclevel-2 tocsection-52\"><a href=\"#Health_agencies\"><span class=\"tocnumber\">18.1</span> <span class=\"toctext\">Health agencies</span></a></li>\n",
       "<li class=\"toclevel-2 tocsection-53\"><a href=\"#Directories\"><span class=\"tocnumber\">18.2</span> <span class=\"toctext\">Directories</span></a></li>\n",
       "<li class=\"toclevel-2 tocsection-54\"><a href=\"#Medical_journals\"><span class=\"tocnumber\">18.3</span> <span class=\"toctext\">Medical journals</span></a></li>\n",
       "<li class=\"toclevel-2 tocsection-55\"><a href=\"#Treatment_guidelines\"><span class=\"tocnumber\">18.4</span> <span class=\"toctext\">Treatment guidelines</span></a></li>\n",
       "</ul>\n",
       "</li>\n",
       "</ul>\n",
       "</div>"
      ]
     },
     "execution_count": 27,
     "metadata": {},
     "output_type": "execute_result"
    }
   ],
   "source": [
    "# html문서 중 첫번째 div 붙은거 파싱하기 \n",
    "html_text = response.text\n",
    "soup = BeautifulSoup(html_text, 'lxml') # html.parser  \n",
    "                   # 파싱할 대상, 파싱 도구\n",
    "toc_div = soup.find('div', attrs = {'id':'toc'})\n",
    "            # 첫번째거 찾기, 'div' 중에서, 'id' = 'toc' 인 부분 \n",
    "toc_div\n",
    "# soup.find() soup에서 파싱할 대상 중 첫번째거 찾기\n",
    "# soup.find_all() soup에서 파싱할 대상 모두 찾기\n",
    "# soup.select()\n",
    "# soup.select_all()\n"
   ]
  },
  {
   "cell_type": "code",
   "execution_count": 30,
   "id": "creative-pillow",
   "metadata": {},
   "outputs": [
    {
     "name": "stdout",
     "output_type": "stream",
     "text": [
      "1 Signs and symptoms\n",
      "2 Cause\n",
      "\n",
      "2.1 Transmission\n",
      "2.2 Virology\n",
      "2.3 SARS-CoV-2 variants\n",
      "\n",
      "\n",
      "2.1 Transmission\n",
      "2.2 Virology\n",
      "2.3 SARS-CoV-2 variants\n",
      "3 Pathophysiology\n",
      "\n",
      "3.1 Immunopathology\n",
      "3.2 Viral and host factors\n",
      "\n",
      "3.2.1 Virus proteins\n",
      "3.2.2 Host factors\n",
      "\n",
      "\n",
      "3.3 Host cytokine response\n",
      "\n",
      "\n",
      "3.1 Immunopathology\n",
      "3.2 Viral and host factors\n",
      "\n",
      "3.2.1 Virus proteins\n",
      "3.2.2 Host factors\n",
      "\n",
      "\n",
      "3.2.1 Virus proteins\n",
      "3.2.2 Host factors\n",
      "3.3 Host cytokine response\n",
      "4 Diagnosis\n",
      "\n",
      "4.1 Viral testing\n",
      "4.2 Imaging\n",
      "4.3 Coding\n",
      "4.4 Pathology\n",
      "\n",
      "\n",
      "4.1 Viral testing\n",
      "4.2 Imaging\n",
      "4.3 Coding\n",
      "4.4 Pathology\n",
      "5 Prevention\n",
      "\n",
      "5.1 Vaccine\n",
      "5.2 Social distancing\n",
      "5.3 Self-isolation\n",
      "5.4 Face masks and respiratory hygiene\n",
      "5.5 Hand-washing and hygiene\n",
      "5.6 Surface cleaning\n",
      "5.7 Ventilation and air filtration\n",
      "5.8 Healthy diet and lifestyle\n",
      "\n",
      "\n",
      "5.1 Vaccine\n",
      "5.2 Social distancing\n",
      "5.3 Self-isolation\n",
      "5.4 Face masks and respiratory hygiene\n",
      "5.5 Hand-washing and hygiene\n",
      "5.6 Surface cleaning\n",
      "5.7 Ventilation and air filtration\n",
      "5.8 Healthy diet and lifestyle\n",
      "6 Treatment\n",
      "7 Prognosis\n",
      "\n",
      "7.1 Complications\n",
      "7.2 Longer-term effects\n",
      "7.3 Immunity\n",
      "\n",
      "\n",
      "7.1 Complications\n",
      "7.2 Longer-term effects\n",
      "7.3 Immunity\n",
      "8 Mortality\n",
      "\n",
      "8.1 Infection fatality rate\n",
      "\n",
      "8.1.1 Current estimates\n",
      "8.1.2 Earlier estimates of IFR\n",
      "\n",
      "\n",
      "8.2 Sex differences\n",
      "8.3 Ethnic differences\n",
      "8.4 Comorbidities\n",
      "\n",
      "\n",
      "8.1 Infection fatality rate\n",
      "\n",
      "8.1.1 Current estimates\n",
      "8.1.2 Earlier estimates of IFR\n",
      "\n",
      "\n",
      "8.1.1 Current estimates\n",
      "8.1.2 Earlier estimates of IFR\n",
      "8.2 Sex differences\n",
      "8.3 Ethnic differences\n",
      "8.4 Comorbidities\n",
      "9 Name\n",
      "10 History\n",
      "11 Misinformation\n",
      "12 Other animals\n",
      "13 Research\n",
      "\n",
      "13.1 Transmission and prevention research\n",
      "13.2 Treatment-related research\n",
      "\n",
      "13.2.1 Cytokine storm\n",
      "13.2.2 Passive antibodies\n",
      "\n",
      "\n",
      "\n",
      "\n",
      "13.1 Transmission and prevention research\n",
      "13.2 Treatment-related research\n",
      "\n",
      "13.2.1 Cytokine storm\n",
      "13.2.2 Passive antibodies\n",
      "\n",
      "\n",
      "13.2.1 Cytokine storm\n",
      "13.2.2 Passive antibodies\n",
      "14 See also\n",
      "15 Notes\n",
      "16 References\n",
      "17 Further reading\n",
      "18 External links\n",
      "\n",
      "18.1 Health agencies\n",
      "18.2 Directories\n",
      "18.3 Medical journals\n",
      "18.4 Treatment guidelines\n",
      "\n",
      "\n",
      "18.1 Health agencies\n",
      "18.2 Directories\n",
      "18.3 Medical journals\n",
      "18.4 Treatment guidelines\n"
     ]
    }
   ],
   "source": [
    "# 파싱한 것 중에서 li부분 텍스트로 가져오기 \n",
    "contents_li = toc_div.find_all('li') \n",
    "for li in contents_li:\n",
    "    print(li.text)"
   ]
  },
  {
   "cell_type": "code",
   "execution_count": null,
   "id": "weekly-prayer",
   "metadata": {},
   "outputs": [],
   "source": []
  }
 ],
 "metadata": {
  "kernelspec": {
   "display_name": "Python 3",
   "language": "python",
   "name": "python3"
  },
  "language_info": {
   "codemirror_mode": {
    "name": "ipython",
    "version": 3
   },
   "file_extension": ".py",
   "mimetype": "text/x-python",
   "name": "python",
   "nbconvert_exporter": "python",
   "pygments_lexer": "ipython3",
   "version": "3.9.1"
  }
 },
 "nbformat": 4,
 "nbformat_minor": 5
}

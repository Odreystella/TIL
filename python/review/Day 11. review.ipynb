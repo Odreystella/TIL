{
 "cells": [
  {
   "cell_type": "code",
   "execution_count": 1,
   "metadata": {},
   "outputs": [],
   "source": [
    "# practice : 1호차 입니다. ~ 5호차 입니다. 반복문 X"
   ]
  },
  {
   "cell_type": "code",
   "execution_count": 189,
   "metadata": {},
   "outputs": [],
   "source": [
    "def call_train(func):\n",
    "    train = []\n",
    "    def wrapper(seq):\n",
    "        print('{}호차 입니다.'.format(seq))        \n",
    "        return func(seq)\n",
    "    return wrapper\n",
    "\n",
    "\n",
    "@call_train\n",
    "def print_train(num):\n",
    "    if num > 1 :\n",
    "        #print('{}호차 입니다.'.format(num))\n",
    "        return print_train(num-1)\n",
    "        if num == 1:\n",
    "            return"
   ]
  },
  {
   "cell_type": "code",
   "execution_count": 190,
   "metadata": {},
   "outputs": [
    {
     "name": "stdout",
     "output_type": "stream",
     "text": [
      "4호차 입니다.\n",
      "3호차 입니다.\n",
      "2호차 입니다.\n",
      "1호차 입니다.\n"
     ]
    }
   ],
   "source": [
    "print_train(4)"
   ]
  },
  {
   "cell_type": "code",
   "execution_count": 38,
   "metadata": {},
   "outputs": [],
   "source": [
    "# Do it yourself  문자열 앞 뒤로 <h1>,<em>태그가 붙도록 데코레이터 생성"
   ]
  },
  {
   "cell_type": "code",
   "execution_count": 156,
   "metadata": {},
   "outputs": [],
   "source": [
    "def create_tag(func):\n",
    "    def wrapper(*args):\n",
    "        print('<h1><em>', end='')\n",
    "        func(*args)\n",
    "        print('</em></h1>')        \n",
    "    return wrapper\n",
    "\n",
    "@create_tag\n",
    "def string(*args):\n",
    "    print('Hi,{}. You might be loved with {}'.format(*args), end='')"
   ]
  },
  {
   "cell_type": "code",
   "execution_count": 157,
   "metadata": {},
   "outputs": [
    {
     "name": "stdout",
     "output_type": "stream",
     "text": [
      "<h1><em>Hi,jiyun. You might be loved with python</em></h1>\n"
     ]
    }
   ],
   "source": [
    "string('jiyun', 'python')"
   ]
  },
  {
   "cell_type": "code",
   "execution_count": 158,
   "metadata": {},
   "outputs": [],
   "source": [
    "def string(*args):\n",
    "    print('Hi,{}. You might be loved with {}'.format(*args))"
   ]
  },
  {
   "cell_type": "code",
   "execution_count": 159,
   "metadata": {},
   "outputs": [
    {
     "name": "stdout",
     "output_type": "stream",
     "text": [
      "Hi,jiyun. You might be loved with python\n"
     ]
    }
   ],
   "source": [
    "string('jiyun', 'python')"
   ]
  },
  {
   "cell_type": "code",
   "execution_count": 20,
   "metadata": {},
   "outputs": [],
   "source": [
    "# 데코레이터로 피보나치 수열 다시 구현해보기 \n",
    "def memoize(func):\n",
    "    memo = {}    \n",
    "    def wrapper(seq):\n",
    "        if seq not in memo:\n",
    "            memo[seq] = func(seq)\n",
    "            print(memo)\n",
    "        return memo[seq]        \n",
    "    return wrapper\n",
    "\n",
    "@memoize\n",
    "def fibo_memo(n):\n",
    "    if n < 2:\n",
    "        return n\n",
    "    else:\n",
    "        return fibo_memo(n-1) + fibo_memo(n-2)"
   ]
  },
  {
   "cell_type": "code",
   "execution_count": 21,
   "metadata": {},
   "outputs": [
    {
     "name": "stdout",
     "output_type": "stream",
     "text": [
      "{1: 1}\n",
      "{1: 1, 0: 0}\n",
      "{1: 1, 0: 0, 2: 1}\n",
      "{1: 1, 0: 0, 2: 1, 3: 2}\n",
      "{1: 1, 0: 0, 2: 1, 3: 2, 4: 3}\n"
     ]
    },
    {
     "data": {
      "text/plain": [
       "3"
      ]
     },
     "execution_count": 21,
     "metadata": {},
     "output_type": "execute_result"
    }
   ],
   "source": [
    "fibo_memo(4)"
   ]
  },
  {
   "cell_type": "code",
   "execution_count": null,
   "metadata": {},
   "outputs": [],
   "source": []
  }
 ],
 "metadata": {
  "kernelspec": {
   "display_name": "Python 3",
   "language": "python",
   "name": "python3"
  },
  "language_info": {
   "codemirror_mode": {
    "name": "ipython",
    "version": 3
   },
   "file_extension": ".py",
   "mimetype": "text/x-python",
   "name": "python",
   "nbconvert_exporter": "python",
   "pygments_lexer": "ipython3",
   "version": "3.8.5"
  }
 },
 "nbformat": 4,
 "nbformat_minor": 4
}

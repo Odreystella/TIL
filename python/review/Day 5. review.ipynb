{
 "cells": [
  {
   "cell_type": "code",
   "execution_count": 4,
   "metadata": {},
   "outputs": [],
   "source": [
    "ganji = {}\n",
    "ganji = {'ja': 1, 'chuk': 2}"
   ]
  },
  {
   "cell_type": "code",
   "execution_count": 5,
   "metadata": {},
   "outputs": [
    {
     "data": {
      "text/plain": [
       "{'ja': 1, 'chuk': 2}"
      ]
     },
     "execution_count": 5,
     "metadata": {},
     "output_type": "execute_result"
    }
   ],
   "source": [
    "ganji"
   ]
  },
  {
   "cell_type": "code",
   "execution_count": 6,
   "metadata": {},
   "outputs": [],
   "source": [
    "ganji1 = dict(ja=1, chuk=2)"
   ]
  },
  {
   "cell_type": "code",
   "execution_count": 7,
   "metadata": {},
   "outputs": [
    {
     "data": {
      "text/plain": [
       "{'ja': 1, 'chuk': 2}"
      ]
     },
     "execution_count": 7,
     "metadata": {},
     "output_type": "execute_result"
    }
   ],
   "source": [
    "ganji1"
   ]
  },
  {
   "cell_type": "code",
   "execution_count": 8,
   "metadata": {},
   "outputs": [],
   "source": [
    "ganji2 = dict([('ja',1), ('chuk',2), ('in',3)])"
   ]
  },
  {
   "cell_type": "code",
   "execution_count": 9,
   "metadata": {},
   "outputs": [
    {
     "data": {
      "text/plain": [
       "{'ja': 1, 'chuk': 2, 'in': 3}"
      ]
     },
     "execution_count": 9,
     "metadata": {},
     "output_type": "execute_result"
    }
   ],
   "source": [
    "ganji2"
   ]
  },
  {
   "cell_type": "code",
   "execution_count": 11,
   "metadata": {},
   "outputs": [],
   "source": [
    "ganji2['myo'] = 2"
   ]
  },
  {
   "cell_type": "code",
   "execution_count": 13,
   "metadata": {},
   "outputs": [
    {
     "data": {
      "text/plain": [
       "{'ja': 1, 'chuk': 2, 'in': 3, 'myo': 2}"
      ]
     },
     "execution_count": 13,
     "metadata": {},
     "output_type": "execute_result"
    }
   ],
   "source": [
    "ganji2"
   ]
  },
  {
   "cell_type": "code",
   "execution_count": 14,
   "metadata": {},
   "outputs": [],
   "source": [
    "del ganji2['myo']"
   ]
  },
  {
   "cell_type": "code",
   "execution_count": 15,
   "metadata": {},
   "outputs": [
    {
     "data": {
      "text/plain": [
       "{'ja': 1, 'chuk': 2, 'in': 3}"
      ]
     },
     "execution_count": 15,
     "metadata": {},
     "output_type": "execute_result"
    }
   ],
   "source": [
    "ganji2"
   ]
  },
  {
   "cell_type": "code",
   "execution_count": 16,
   "metadata": {},
   "outputs": [],
   "source": [
    "ganji2['jin'] = 3"
   ]
  },
  {
   "cell_type": "code",
   "execution_count": 17,
   "metadata": {},
   "outputs": [
    {
     "data": {
      "text/plain": [
       "{'ja': 1, 'chuk': 2, 'in': 3, 'jin': 3}"
      ]
     },
     "execution_count": 17,
     "metadata": {},
     "output_type": "execute_result"
    }
   ],
   "source": [
    "ganji2"
   ]
  },
  {
   "cell_type": "code",
   "execution_count": 20,
   "metadata": {},
   "outputs": [
    {
     "ename": "AttributeError",
     "evalue": "'dict' object has no attribute 'insert'",
     "output_type": "error",
     "traceback": [
      "\u001b[0;31m---------------------------------------------------------------------------\u001b[0m",
      "\u001b[0;31mAttributeError\u001b[0m                            Traceback (most recent call last)",
      "\u001b[0;32m<ipython-input-20-6dc62fe02798>\u001b[0m in \u001b[0;36m<module>\u001b[0;34m\u001b[0m\n\u001b[0;32m----> 1\u001b[0;31m \u001b[0mganji2\u001b[0m\u001b[0;34m.\u001b[0m\u001b[0minsert\u001b[0m\u001b[0;34m(\u001b[0m\u001b[0;36m3\u001b[0m\u001b[0;34m,\u001b[0m \u001b[0;34m'myo'\u001b[0m\u001b[0;34m)\u001b[0m\u001b[0;34m\u001b[0m\u001b[0;34m\u001b[0m\u001b[0m\n\u001b[0m",
      "\u001b[0;31mAttributeError\u001b[0m: 'dict' object has no attribute 'insert'"
     ]
    }
   ],
   "source": [
    "ganji2.insert(3, 'myo')"
   ]
  },
  {
   "cell_type": "code",
   "execution_count": 21,
   "metadata": {},
   "outputs": [
    {
     "data": {
      "text/plain": [
       "{'ja': 1, 'chuk': 2, 'myo': 2}"
      ]
     },
     "execution_count": 21,
     "metadata": {},
     "output_type": "execute_result"
    }
   ],
   "source": [
    "ganji"
   ]
  },
  {
   "cell_type": "code",
   "execution_count": 22,
   "metadata": {},
   "outputs": [],
   "source": [
    "ganji['ja'] = 'rat'"
   ]
  },
  {
   "cell_type": "code",
   "execution_count": 23,
   "metadata": {},
   "outputs": [
    {
     "data": {
      "text/plain": [
       "{'ja': 'rat', 'chuk': 2, 'myo': 2}"
      ]
     },
     "execution_count": 23,
     "metadata": {},
     "output_type": "execute_result"
    }
   ],
   "source": [
    "ganji"
   ]
  },
  {
   "cell_type": "code",
   "execution_count": 24,
   "metadata": {},
   "outputs": [],
   "source": [
    "ganji['chuk']='cow'"
   ]
  },
  {
   "cell_type": "code",
   "execution_count": 25,
   "metadata": {},
   "outputs": [],
   "source": [
    "ganji['in']='tiger'"
   ]
  },
  {
   "cell_type": "code",
   "execution_count": 26,
   "metadata": {},
   "outputs": [],
   "source": [
    "ganji['myo']='rabbit'"
   ]
  },
  {
   "cell_type": "code",
   "execution_count": 27,
   "metadata": {},
   "outputs": [
    {
     "data": {
      "text/plain": [
       "{'ja': 'rat', 'chuk': 'cow', 'myo': 'rabbit', 'in': 'tiger'}"
      ]
     },
     "execution_count": 27,
     "metadata": {},
     "output_type": "execute_result"
    }
   ],
   "source": [
    "ganji"
   ]
  },
  {
   "cell_type": "code",
   "execution_count": 28,
   "metadata": {},
   "outputs": [
    {
     "data": {
      "text/plain": [
       "dict_keys(['ja', 'chuk', 'myo', 'in'])"
      ]
     },
     "execution_count": 28,
     "metadata": {},
     "output_type": "execute_result"
    }
   ],
   "source": [
    "ganji.keys()"
   ]
  },
  {
   "cell_type": "code",
   "execution_count": 29,
   "metadata": {},
   "outputs": [
    {
     "data": {
      "text/plain": [
       "dict_values(['rat', 'cow', 'rabbit', 'tiger'])"
      ]
     },
     "execution_count": 29,
     "metadata": {},
     "output_type": "execute_result"
    }
   ],
   "source": [
    "ganji.values()"
   ]
  },
  {
   "cell_type": "code",
   "execution_count": 30,
   "metadata": {},
   "outputs": [
    {
     "name": "stdout",
     "output_type": "stream",
     "text": [
      "rat\n",
      "cow\n",
      "rabbit\n",
      "tiger\n"
     ]
    }
   ],
   "source": [
    "for key in ganji.keys():\n",
    "    print(ganji[key])"
   ]
  },
  {
   "cell_type": "code",
   "execution_count": 31,
   "metadata": {},
   "outputs": [
    {
     "data": {
      "text/plain": [
       "'rat'"
      ]
     },
     "execution_count": 31,
     "metadata": {},
     "output_type": "execute_result"
    }
   ],
   "source": [
    "ganji['ja']"
   ]
  },
  {
   "cell_type": "code",
   "execution_count": 32,
   "metadata": {},
   "outputs": [
    {
     "data": {
      "text/plain": [
       "dict_values(['rat', 'cow', 'rabbit', 'tiger'])"
      ]
     },
     "execution_count": 32,
     "metadata": {},
     "output_type": "execute_result"
    }
   ],
   "source": [
    "ganji.values()"
   ]
  },
  {
   "cell_type": "code",
   "execution_count": 33,
   "metadata": {},
   "outputs": [
    {
     "data": {
      "text/plain": [
       "dict_items([('ja', 'rat'), ('chuk', 'cow'), ('myo', 'rabbit'), ('in', 'tiger')])"
      ]
     },
     "execution_count": 33,
     "metadata": {},
     "output_type": "execute_result"
    }
   ],
   "source": [
    "ganji.items()"
   ]
  },
  {
   "cell_type": "code",
   "execution_count": 186,
   "metadata": {},
   "outputs": [
    {
     "data": {
      "text/plain": [
       "[('chuk', 'cow'), ('myo', 'rabbit')]"
      ]
     },
     "execution_count": 186,
     "metadata": {},
     "output_type": "execute_result"
    }
   ],
   "source": [
    "ganji1 = ganji.items()\n",
    "ganji1\n",
    "list(ganji1)"
   ]
  },
  {
   "cell_type": "code",
   "execution_count": 38,
   "metadata": {},
   "outputs": [
    {
     "data": {
      "text/plain": [
       "[('ja', 'rat'), ('chuk', 'cow'), ('myo', 'rabbit'), ('in', 'tiger')]"
      ]
     },
     "execution_count": 38,
     "metadata": {},
     "output_type": "execute_result"
    }
   ],
   "source": [
    "list(zip(ganji.keys(), ganji.values()))"
   ]
  },
  {
   "cell_type": "code",
   "execution_count": 39,
   "metadata": {},
   "outputs": [
    {
     "data": {
      "text/plain": [
       "{'ja': 'rat', 'chuk': 'cow', 'myo': 'rabbit', 'in': 'tiger'}"
      ]
     },
     "execution_count": 39,
     "metadata": {},
     "output_type": "execute_result"
    }
   ],
   "source": [
    "ganji"
   ]
  },
  {
   "cell_type": "code",
   "execution_count": 40,
   "metadata": {},
   "outputs": [
    {
     "data": {
      "text/plain": [
       "'rat'"
      ]
     },
     "execution_count": 40,
     "metadata": {},
     "output_type": "execute_result"
    }
   ],
   "source": [
    "ganji.pop('ja')"
   ]
  },
  {
   "cell_type": "code",
   "execution_count": 41,
   "metadata": {},
   "outputs": [
    {
     "data": {
      "text/plain": [
       "{'chuk': 'cow', 'myo': 'rabbit', 'in': 'tiger'}"
      ]
     },
     "execution_count": 41,
     "metadata": {},
     "output_type": "execute_result"
    }
   ],
   "source": [
    "ganji"
   ]
  },
  {
   "cell_type": "code",
   "execution_count": 42,
   "metadata": {},
   "outputs": [
    {
     "data": {
      "text/plain": [
       "('in', 'tiger')"
      ]
     },
     "execution_count": 42,
     "metadata": {},
     "output_type": "execute_result"
    }
   ],
   "source": [
    "ganji.popitem()"
   ]
  },
  {
   "cell_type": "code",
   "execution_count": 43,
   "metadata": {},
   "outputs": [
    {
     "data": {
      "text/plain": [
       "{'chuk': 'cow', 'myo': 'rabbit'}"
      ]
     },
     "execution_count": 43,
     "metadata": {},
     "output_type": "execute_result"
    }
   ],
   "source": [
    "ganji"
   ]
  },
  {
   "cell_type": "code",
   "execution_count": 45,
   "metadata": {},
   "outputs": [
    {
     "data": {
      "text/plain": [
       "'\\nKorean: ,\\nMath: ,\\nEnglish: ,\\nSocial: [ , , ],\\nScience: [ , , , ],\\n'"
      ]
     },
     "execution_count": 45,
     "metadata": {},
     "output_type": "execute_result"
    }
   ],
   "source": [
    "\"\"\"\n",
    "Korean: ,\n",
    "Math: ,\n",
    "English: ,\n",
    "Social: [ , , ],\n",
    "Science: [ , , , ],\n",
    "\"\"\""
   ]
  },
  {
   "cell_type": "code",
   "execution_count": 48,
   "metadata": {},
   "outputs": [],
   "source": [
    "hong_midterm = {}\n",
    "hong_midterm['Korean'] = 70\n",
    "hong_midterm['Math'] = 60\n",
    "hong_midterm['English'] = 100\n",
    "hong_midterm['Social'] = [45,30,20]\n",
    "hong_midterm['Science'] = [45,45,40,10]"
   ]
  },
  {
   "cell_type": "code",
   "execution_count": 49,
   "metadata": {},
   "outputs": [
    {
     "data": {
      "text/plain": [
       "{'Korean': 70,\n",
       " 'Math': 60,\n",
       " 'English': 100,\n",
       " 'Social': [45, 30, 20],\n",
       " 'Science': [45, 45, 40, 10]}"
      ]
     },
     "execution_count": 49,
     "metadata": {},
     "output_type": "execute_result"
    }
   ],
   "source": [
    "hong_midterm"
   ]
  },
  {
   "cell_type": "code",
   "execution_count": 50,
   "metadata": {},
   "outputs": [
    {
     "data": {
      "text/plain": [
       "70"
      ]
     },
     "execution_count": 50,
     "metadata": {},
     "output_type": "execute_result"
    }
   ],
   "source": [
    "hong_midterm['Korean']"
   ]
  },
  {
   "cell_type": "code",
   "execution_count": 82,
   "metadata": {},
   "outputs": [
    {
     "data": {
      "text/plain": [
       "0"
      ]
     },
     "execution_count": 82,
     "metadata": {},
     "output_type": "execute_result"
    }
   ],
   "source": [
    "hong_midterm.get('geometry', 0)\n",
    "\n"
   ]
  },
  {
   "cell_type": "code",
   "execution_count": 77,
   "metadata": {},
   "outputs": [
    {
     "data": {
      "text/plain": [
       "{'Korean': 70,\n",
       " 'Math': 60,\n",
       " 'English': 100,\n",
       " 'Social': [45, 30, 20],\n",
       " 'Science': [45, 45, 40, 10],\n",
       " 'Ethics': []}"
      ]
     },
     "execution_count": 77,
     "metadata": {},
     "output_type": "execute_result"
    }
   ],
   "source": [
    "hong_midterm.setdefault('Ethics', [])\n",
    "hong_midterm"
   ]
  },
  {
   "cell_type": "code",
   "execution_count": 85,
   "metadata": {},
   "outputs": [
    {
     "data": {
      "text/plain": [
       "{'Korean': 70,\n",
       " 'Math': 60,\n",
       " 'English': 100,\n",
       " 'Social': [45, 30, 20],\n",
       " 'Science': [45, 45, 40, 10],\n",
       " 'Ethics': []}"
      ]
     },
     "execution_count": 85,
     "metadata": {},
     "output_type": "execute_result"
    }
   ],
   "source": [
    "hong_midterm"
   ]
  },
  {
   "cell_type": "code",
   "execution_count": 97,
   "metadata": {},
   "outputs": [
    {
     "name": "stdout",
     "output_type": "stream",
     "text": [
      "None\n"
     ]
    }
   ],
   "source": [
    "print(hong_midterm.get('art'))"
   ]
  },
  {
   "cell_type": "code",
   "execution_count": 98,
   "metadata": {},
   "outputs": [
    {
     "data": {
      "text/plain": [
       "{'Korean': 70,\n",
       " 'Math': 60,\n",
       " 'English': 100,\n",
       " 'Social': [45, 30, 20],\n",
       " 'Science': [45, 45, 40, 10],\n",
       " 'Ethics': [],\n",
       " 'geometry': None}"
      ]
     },
     "execution_count": 98,
     "metadata": {},
     "output_type": "execute_result"
    }
   ],
   "source": [
    "hong_midterm"
   ]
  },
  {
   "cell_type": "code",
   "execution_count": 108,
   "metadata": {},
   "outputs": [
    {
     "name": "stdout",
     "output_type": "stream",
     "text": [
      "[]\n"
     ]
    }
   ],
   "source": [
    "print(hong_midterm.setdefault('art', []))"
   ]
  },
  {
   "cell_type": "code",
   "execution_count": 109,
   "metadata": {},
   "outputs": [
    {
     "data": {
      "text/plain": [
       "{'Korean': 70,\n",
       " 'Math': 60,\n",
       " 'English': 100,\n",
       " 'Social': [45, 30, 20],\n",
       " 'Science': [45, 45, 40, 10],\n",
       " 'Ethics': [],\n",
       " 'geometry': None,\n",
       " 'art': []}"
      ]
     },
     "execution_count": 109,
     "metadata": {},
     "output_type": "execute_result"
    }
   ],
   "source": [
    "hong_midterm"
   ]
  },
  {
   "cell_type": "code",
   "execution_count": 115,
   "metadata": {},
   "outputs": [
    {
     "data": {
      "text/plain": [
       "10"
      ]
     },
     "execution_count": 115,
     "metadata": {},
     "output_type": "execute_result"
    }
   ],
   "source": [
    "hong_midterm['art'].pop()"
   ]
  },
  {
   "cell_type": "code",
   "execution_count": 116,
   "metadata": {},
   "outputs": [
    {
     "data": {
      "text/plain": [
       "{'Korean': 70,\n",
       " 'Math': 60,\n",
       " 'English': 100,\n",
       " 'Social': [45, 30, 20],\n",
       " 'Science': [45, 45, 40, 10],\n",
       " 'Ethics': [],\n",
       " 'geometry': None,\n",
       " 'art': [10]}"
      ]
     },
     "execution_count": 116,
     "metadata": {},
     "output_type": "execute_result"
    }
   ],
   "source": [
    "hong_midterm"
   ]
  },
  {
   "cell_type": "code",
   "execution_count": 117,
   "metadata": {},
   "outputs": [],
   "source": [
    "some_dict = {'name': 'Hong Gil-dong', 'locale':'Seoul, KR'}"
   ]
  },
  {
   "cell_type": "code",
   "execution_count": 122,
   "metadata": {},
   "outputs": [
    {
     "name": "stdout",
     "output_type": "stream",
     "text": [
      "hello, I'm Hong Gil-dong, fromSeoul, KR\n"
     ]
    }
   ],
   "source": [
    "print(\"hello, I'm {name}, from{locale}\".format(**some_dict))\n"
   ]
  },
  {
   "cell_type": "code",
   "execution_count": 123,
   "metadata": {},
   "outputs": [
    {
     "data": {
      "text/plain": [
       "8"
      ]
     },
     "execution_count": 123,
     "metadata": {},
     "output_type": "execute_result"
    }
   ],
   "source": [
    "len(hong_midterm)"
   ]
  },
  {
   "cell_type": "code",
   "execution_count": 126,
   "metadata": {},
   "outputs": [],
   "source": [
    "hong_midterm.update({'Korean':40})"
   ]
  },
  {
   "cell_type": "code",
   "execution_count": 127,
   "metadata": {},
   "outputs": [
    {
     "data": {
      "text/plain": [
       "{'Korean': 40,\n",
       " 'Math': 60,\n",
       " 'English': 100,\n",
       " 'Social': [45, 30, 20],\n",
       " 'Science': [45, 45, 40, 10],\n",
       " 'Ethics': [],\n",
       " 'geometry': None,\n",
       " 'art': [10],\n",
       " 'korean': 40}"
      ]
     },
     "execution_count": 127,
     "metadata": {},
     "output_type": "execute_result"
    }
   ],
   "source": [
    "hong_midterm"
   ]
  },
  {
   "cell_type": "code",
   "execution_count": 131,
   "metadata": {},
   "outputs": [],
   "source": [
    "ppap = ['pen', 'apple', 'pineapple', 'pen']"
   ]
  },
  {
   "cell_type": "code",
   "execution_count": 132,
   "metadata": {},
   "outputs": [
    {
     "data": {
      "text/plain": [
       "['pen', 'apple', 'pineapple', 'pen']"
      ]
     },
     "execution_count": 132,
     "metadata": {},
     "output_type": "execute_result"
    }
   ],
   "source": [
    "ppap"
   ]
  },
  {
   "cell_type": "code",
   "execution_count": 133,
   "metadata": {},
   "outputs": [
    {
     "data": {
      "text/plain": [
       "True"
      ]
     },
     "execution_count": 133,
     "metadata": {},
     "output_type": "execute_result"
    }
   ],
   "source": [
    "'apple' in ppap"
   ]
  },
  {
   "cell_type": "code",
   "execution_count": 134,
   "metadata": {},
   "outputs": [
    {
     "data": {
      "text/plain": [
       "False"
      ]
     },
     "execution_count": 134,
     "metadata": {},
     "output_type": "execute_result"
    }
   ],
   "source": [
    "'applepen' in ppap"
   ]
  },
  {
   "cell_type": "code",
   "execution_count": 136,
   "metadata": {},
   "outputs": [
    {
     "data": {
      "text/plain": [
       "['apple', 'pineapple', 'pen']"
      ]
     },
     "execution_count": 136,
     "metadata": {},
     "output_type": "execute_result"
    }
   ],
   "source": [
    "list(set(ppap))"
   ]
  },
  {
   "cell_type": "code",
   "execution_count": 138,
   "metadata": {},
   "outputs": [],
   "source": [
    "a_word = 'fastcampus'\n",
    "b_word = 'python'"
   ]
  },
  {
   "cell_type": "code",
   "execution_count": 142,
   "metadata": {},
   "outputs": [
    {
     "name": "stdout",
     "output_type": "stream",
     "text": [
      "{'a', 'c', 's', 'f', 'm', 'u', 't', 'p'}\n",
      "{'y', 't', 'h', 'o', 'n', 'p'}\n"
     ]
    }
   ],
   "source": [
    "a_set = set(a_word)\n",
    "print(a_set)\n",
    "b_set = set(b_word)\n",
    "print(b_set)"
   ]
  },
  {
   "cell_type": "code",
   "execution_count": 143,
   "metadata": {},
   "outputs": [
    {
     "data": {
      "text/plain": [
       "{'a', 'c', 'f', 'h', 'm', 'n', 'o', 'p', 's', 't', 'u', 'y'}"
      ]
     },
     "execution_count": 143,
     "metadata": {},
     "output_type": "execute_result"
    }
   ],
   "source": [
    "a_set | b_set"
   ]
  },
  {
   "cell_type": "code",
   "execution_count": 145,
   "metadata": {},
   "outputs": [
    {
     "data": {
      "text/plain": [
       "{'p', 't'}"
      ]
     },
     "execution_count": 145,
     "metadata": {},
     "output_type": "execute_result"
    }
   ],
   "source": [
    "a_set & b_set"
   ]
  },
  {
   "cell_type": "code",
   "execution_count": 146,
   "metadata": {},
   "outputs": [
    {
     "data": {
      "text/plain": [
       "{'a', 'c', 'f', 'm', 's', 'u'}"
      ]
     },
     "execution_count": 146,
     "metadata": {},
     "output_type": "execute_result"
    }
   ],
   "source": [
    "a_set - b_set"
   ]
  },
  {
   "cell_type": "code",
   "execution_count": 147,
   "metadata": {},
   "outputs": [
    {
     "data": {
      "text/plain": [
       "{'a', 'c', 'f', 'h', 'm', 'n', 'o', 's', 'u', 'y'}"
      ]
     },
     "execution_count": 147,
     "metadata": {},
     "output_type": "execute_result"
    }
   ],
   "source": [
    "a_set ^ b_set"
   ]
  },
  {
   "cell_type": "code",
   "execution_count": 149,
   "metadata": {},
   "outputs": [],
   "source": [
    "user_info = []"
   ]
  },
  {
   "cell_type": "code",
   "execution_count": 159,
   "metadata": {},
   "outputs": [],
   "source": [
    "user_raw = dict([('name','Foo Bar'), \n",
    "                 ('locale', 'Busan, Korea'),\n",
    "                 ('age', 31),\n",
    "                 ('username', 'foo-bar')])"
   ]
  },
  {
   "cell_type": "code",
   "execution_count": 160,
   "metadata": {},
   "outputs": [],
   "source": [
    "user_info.append(user_raw)"
   ]
  },
  {
   "cell_type": "code",
   "execution_count": 169,
   "metadata": {},
   "outputs": [
    {
     "data": {
      "text/plain": [
       "[{'name': 'Johnny Silverhand',\n",
       "  'locale': 'Night City',\n",
       "  'age': 120,\n",
       "  'username': 'Johnny'},\n",
       " {'name': 'John Doe', 'locale': 'London, UK', 'age': 40, 'username': 'Doh'},\n",
       " {'name': 'Jane Doe',\n",
       "  'locale': 'Seoul, Korea',\n",
       "  'age': 24,\n",
       "  'username': 'jane-doe'},\n",
       " {'name': 'Foo Bar',\n",
       "  'locale': 'Busan, Korea',\n",
       "  'age': 31,\n",
       "  'username': 'foo-bar'}]"
      ]
     },
     "execution_count": 169,
     "metadata": {},
     "output_type": "execute_result"
    }
   ],
   "source": [
    "user_info"
   ]
  },
  {
   "cell_type": "code",
   "execution_count": 170,
   "metadata": {},
   "outputs": [],
   "source": [
    "user_info[1].update({'locale':'London, UK'})"
   ]
  },
  {
   "cell_type": "code",
   "execution_count": 171,
   "metadata": {},
   "outputs": [
    {
     "data": {
      "text/plain": [
       "[{'name': 'Johnny Silverhand',\n",
       "  'locale': 'Night City',\n",
       "  'age': 120,\n",
       "  'username': 'Johnny'},\n",
       " {'name': 'John Doe', 'locale': 'London, UK', 'age': 40, 'username': 'Doh'},\n",
       " {'name': 'Jane Doe',\n",
       "  'locale': 'Seoul, Korea',\n",
       "  'age': 24,\n",
       "  'username': 'jane-doe'},\n",
       " {'name': 'Foo Bar',\n",
       "  'locale': 'Busan, Korea',\n",
       "  'age': 31,\n",
       "  'username': 'foo-bar'}]"
      ]
     },
     "execution_count": 171,
     "metadata": {},
     "output_type": "execute_result"
    }
   ],
   "source": [
    "user_info"
   ]
  },
  {
   "cell_type": "code",
   "execution_count": 172,
   "metadata": {},
   "outputs": [],
   "source": [
    "user_info[2]['age'] = 50"
   ]
  },
  {
   "cell_type": "code",
   "execution_count": 173,
   "metadata": {},
   "outputs": [
    {
     "data": {
      "text/plain": [
       "[{'name': 'Johnny Silverhand',\n",
       "  'locale': 'Night City',\n",
       "  'age': 120,\n",
       "  'username': 'Johnny'},\n",
       " {'name': 'John Doe', 'locale': 'London, UK', 'age': 40, 'username': 'Doh'},\n",
       " {'name': 'Jane Doe',\n",
       "  'locale': 'Seoul, Korea',\n",
       "  'age': 50,\n",
       "  'username': 'jane-doe'},\n",
       " {'name': 'Foo Bar',\n",
       "  'locale': 'Busan, Korea',\n",
       "  'age': 31,\n",
       "  'username': 'foo-bar'}]"
      ]
     },
     "execution_count": 173,
     "metadata": {},
     "output_type": "execute_result"
    }
   ],
   "source": [
    "user_info"
   ]
  },
  {
   "cell_type": "code",
   "execution_count": 178,
   "metadata": {},
   "outputs": [
    {
     "data": {
      "text/plain": [
       "list"
      ]
     },
     "execution_count": 178,
     "metadata": {},
     "output_type": "execute_result"
    }
   ],
   "source": [
    "type(user_info)"
   ]
  },
  {
   "cell_type": "code",
   "execution_count": 189,
   "metadata": {},
   "outputs": [
    {
     "name": "stdout",
     "output_type": "stream",
     "text": [
      "[('name', 'Johnny Silverhand'), ('locale', 'Night City'), ('age', 120), ('username', 'Johnny')]\n",
      "[('name', 'John Doe'), ('locale', 'London, UK'), ('age', 40), ('username', 'Doh')]\n",
      "[('name', 'Jane Doe'), ('locale', 'Seoul, Korea'), ('age', 50), ('username', 'jane-doe')]\n",
      "[('name', 'Foo Bar'), ('locale', 'Busan, Korea'), ('age', 31), ('username', 'foo-bar')]\n"
     ]
    }
   ],
   "source": [
    "print(list(user_info[0].items()))\n",
    "print(list(user_info[1].items()))\n",
    "print(list(user_info[2].items()))\n",
    "print(list(user_info[3].items()))\n"
   ]
  },
  {
   "cell_type": "code",
   "execution_count": 190,
   "metadata": {},
   "outputs": [],
   "source": [
    "cities = [\n",
    "    'Daejeon', 'Ulsan', 'Seoul', 'Jeju',\n",
    "    'Busan', 'Ulsan', 'Daegu', 'Daejeon',\n",
    "    'Seoul', 'Seoul', 'Daejeon', 'Gwangju',\n",
    "    'Busan', 'Daegu', 'Gwangju', 'Daejeon', \n",
    "    'Ulsan', 'Jeju', 'Gwangju', 'Seoul'\n",
    "]"
   ]
  },
  {
   "cell_type": "code",
   "execution_count": 191,
   "metadata": {},
   "outputs": [],
   "source": [
    "cities_set = set(cities)"
   ]
  },
  {
   "cell_type": "code",
   "execution_count": 192,
   "metadata": {},
   "outputs": [
    {
     "data": {
      "text/plain": [
       "{'Busan', 'Daegu', 'Daejeon', 'Gwangju', 'Jeju', 'Seoul', 'Ulsan'}"
      ]
     },
     "execution_count": 192,
     "metadata": {},
     "output_type": "execute_result"
    }
   ],
   "source": [
    "cities_set"
   ]
  },
  {
   "cell_type": "code",
   "execution_count": 206,
   "metadata": {},
   "outputs": [],
   "source": [
    "cities_list = list(cities_set)"
   ]
  },
  {
   "cell_type": "code",
   "execution_count": 207,
   "metadata": {},
   "outputs": [
    {
     "data": {
      "text/plain": [
       "['Daegu', 'Daejeon', 'Ulsan', 'Jeju', 'Seoul', 'Busan', 'Gwangju']"
      ]
     },
     "execution_count": 207,
     "metadata": {},
     "output_type": "execute_result"
    }
   ],
   "source": [
    "cities_list"
   ]
  },
  {
   "cell_type": "code",
   "execution_count": 209,
   "metadata": {},
   "outputs": [],
   "source": [
    "cities_list.sort(reverse=True)"
   ]
  },
  {
   "cell_type": "code",
   "execution_count": 211,
   "metadata": {},
   "outputs": [
    {
     "data": {
      "text/plain": [
       "['Ulsan', 'Seoul', 'Jeju', 'Gwangju', 'Daejeon', 'Daegu', 'Busan']"
      ]
     },
     "execution_count": 211,
     "metadata": {},
     "output_type": "execute_result"
    }
   ],
   "source": [
    "cities_list"
   ]
  },
  {
   "cell_type": "code",
   "execution_count": 212,
   "metadata": {},
   "outputs": [
    {
     "name": "stdout",
     "output_type": "stream",
     "text": [
      "1\n",
      "2\n",
      "3\n",
      "4\n",
      "5\n",
      "6\n",
      "7\n",
      "8\n",
      "9\n",
      "10\n"
     ]
    }
   ],
   "source": [
    "for i in range(1,10+1):\n",
    "    print(i)"
   ]
  },
  {
   "cell_type": "code",
   "execution_count": 213,
   "metadata": {},
   "outputs": [
    {
     "data": {
      "text/plain": [
       "[1, 2, 3, 4, 5, 6, 7, 8, 9, 10]"
      ]
     },
     "execution_count": 213,
     "metadata": {},
     "output_type": "execute_result"
    }
   ],
   "source": [
    "list(range(1,10+1))"
   ]
  },
  {
   "cell_type": "code",
   "execution_count": 214,
   "metadata": {},
   "outputs": [
    {
     "data": {
      "text/plain": [
       "10"
      ]
     },
     "execution_count": 214,
     "metadata": {},
     "output_type": "execute_result"
    }
   ],
   "source": [
    "i"
   ]
  },
  {
   "cell_type": "code",
   "execution_count": 215,
   "metadata": {},
   "outputs": [
    {
     "name": "stdout",
     "output_type": "stream",
     "text": [
      "p for python\n",
      "y for python\n",
      "t for python\n",
      "h for python\n",
      "o for python\n",
      "n for python\n"
     ]
    }
   ],
   "source": [
    "for s in 'python':\n",
    "    print('{} for python'.format(s))"
   ]
  },
  {
   "cell_type": "code",
   "execution_count": 216,
   "metadata": {},
   "outputs": [
    {
     "name": "stdout",
     "output_type": "stream",
     "text": [
      "Type anything: hi\n",
      "hi\n",
      "Type anything: sunday is almose done\n",
      "sunday is almose done\n",
      "Type anything: exit\n"
     ]
    }
   ],
   "source": [
    "while True:\n",
    "    message = input('Type anything: ')\n",
    "    if message == 'exit':\n",
    "        break\n",
    "    print(message)"
   ]
  },
  {
   "cell_type": "code",
   "execution_count": 224,
   "metadata": {},
   "outputs": [
    {
     "name": "stdout",
     "output_type": "stream",
     "text": [
      "Stop at 14\n",
      "1\n",
      "skip for now\n",
      "3\n",
      "skip for now\n",
      "5\n",
      "skip for now\n",
      "7\n",
      "skip for now\n",
      "9\n",
      "skip for now\n",
      "11\n",
      "skip for now\n",
      "13\n"
     ]
    }
   ],
   "source": [
    "import random\n",
    "\n",
    "magic_num = random.randint(1,20)\n",
    "print('Stop at', magic_num)\n",
    "\n",
    "for i in range(1,100+1):\n",
    "    if i == magic_num:\n",
    "        break   #반복문 아예 종료\n",
    "    elif i % 2 == 0:\n",
    "        print('skip for now')\n",
    "        continue  #해당 싸이클만 종료\n",
    "    print(i)\n"
   ]
  },
  {
   "cell_type": "code",
   "execution_count": 234,
   "metadata": {},
   "outputs": [
    {
     "name": "stdout",
     "output_type": "stream",
     "text": [
      "Enter a number(2-100): 4\n",
      "1 1\n",
      "2 2\n",
      "3 6\n",
      "4 24\n",
      "4의 팩토리얼 값은 24\n"
     ]
    }
   ],
   "source": [
    "#팩토리얼 연산 수행\n",
    "ser_num = int(input('Enter a number(2-100): '))\n",
    "result = 1\n",
    "for i in range(1,user_num+1):\n",
    "    result *= i\n",
    "    print(i, result)\n",
    "print('{}의 팩토리얼 값은 {}'.format(user_num, result))"
   ]
  },
  {
   "cell_type": "code",
   "execution_count": 255,
   "metadata": {},
   "outputs": [],
   "source": [
    "lists_in_list = [\n",
    "    [1, 0, 7, 0],\n",
    "    [0, 2, 0, 9],\n",
    "    [0, 6, 3, 7],\n",
    "    [4, 0, 5, 1],\n",
    "]"
   ]
  },
  {
   "cell_type": "code",
   "execution_count": 278,
   "metadata": {},
   "outputs": [
    {
     "name": "stdout",
     "output_type": "stream",
     "text": [
      "[1, 0, 7, 0]\n",
      "[0, 2, 0, 9]\n",
      "[0, 6, 3, 7]\n",
      "[4, 0, 5, 1]\n"
     ]
    }
   ],
   "source": [
    "for i in lists_in_list:\n",
    "    print(i)"
   ]
  },
  {
   "cell_type": "code",
   "execution_count": 280,
   "metadata": {},
   "outputs": [
    {
     "name": "stdout",
     "output_type": "stream",
     "text": [
      "8\n",
      "19\n",
      "35\n",
      "45\n",
      "최종 결과는: 45\n"
     ]
    }
   ],
   "source": [
    "list_sum = 0\n",
    "for i in lists_in_list:\n",
    "    list_sum += sum(i)\n",
    "    print(list_sum)\n",
    "print(\"최종 결과는:\", list_sum)"
   ]
  },
  {
   "cell_type": "code",
   "execution_count": 284,
   "metadata": {},
   "outputs": [
    {
     "name": "stdout",
     "output_type": "stream",
     "text": [
      "1\n",
      "2\n",
      "fizz\n",
      "4\n",
      "buzz\n",
      "fizz\n",
      "7\n",
      "8\n",
      "fizz\n",
      "buzz\n",
      "11\n",
      "fizz\n",
      "13\n",
      "14\n",
      "fizzbuzz\n",
      "16\n",
      "17\n",
      "fizz\n",
      "19\n",
      "buzz\n",
      "fizz\n",
      "22\n",
      "23\n",
      "fizz\n",
      "buzz\n",
      "26\n",
      "fizz\n",
      "28\n",
      "29\n",
      "fizzbuzz\n"
     ]
    }
   ],
   "source": [
    "for i in range(1,30+1):\n",
    "    if i%3 ==0 or i %5==0:\n",
    "        print('fizz'*(i%3==0) + 'buzz'*(i%5==0))\n",
    "    else:\n",
    "        print(i)"
   ]
  },
  {
   "cell_type": "code",
   "execution_count": 2,
   "metadata": {},
   "outputs": [
    {
     "data": {
      "text/plain": [
       "[1,\n",
       " 2,\n",
       " 'fizz',\n",
       " 4,\n",
       " 'buzz',\n",
       " 'fizz',\n",
       " 7,\n",
       " 8,\n",
       " 'fizz',\n",
       " 'buzz',\n",
       " 11,\n",
       " 'fizz',\n",
       " 13,\n",
       " 14,\n",
       " 'fizz',\n",
       " 16,\n",
       " 17,\n",
       " 'fizz',\n",
       " 19,\n",
       " 'buzz',\n",
       " 'fizz',\n",
       " 22,\n",
       " 23,\n",
       " 'fizz',\n",
       " 'buzz',\n",
       " 26,\n",
       " 'fizz',\n",
       " 28,\n",
       " 29,\n",
       " 'fizz']"
      ]
     },
     "execution_count": 2,
     "metadata": {},
     "output_type": "execute_result"
    }
   ],
   "source": [
    "fizzbuzz_list = ['fizz'*(i%3==0) or 'buzz'*(i%5==0) if (i%3==0) or (i%5==0) else i \n",
    "                 for i in range(1,30+1)]\n",
    "fizzbuzz_list"
   ]
  },
  {
   "cell_type": "code",
   "execution_count": 287,
   "metadata": {},
   "outputs": [
    {
     "data": {
      "text/plain": [
       "'hello'"
      ]
     },
     "execution_count": 287,
     "metadata": {},
     "output_type": "execute_result"
    }
   ],
   "source": [
    "\"hello\"*True + \"world\"*False"
   ]
  },
  {
   "cell_type": "code",
   "execution_count": 297,
   "metadata": {},
   "outputs": [
    {
     "name": "stdout",
     "output_type": "stream",
     "text": [
      "Answer: 34\n",
      "Guess the number(1-100): 15\n",
      "Up!\n",
      "Guess the number(1-100): 30\n",
      "Up!\n",
      "Guess the number(1-100): 45\n",
      "down!\n",
      "You lose! The answer is 34\n"
     ]
    }
   ],
   "source": [
    "import random\n",
    "\n",
    "answer = random.randint(1,50)\n",
    "print('Answer: {}'.format(answer))\n",
    "\n",
    "for _ in range(3):\n",
    "    guess = int(input(\"Guess the number(1-100): \"))\n",
    "    if guess-answer == 0:\n",
    "        print(\"Correct!\")\n",
    "        break\n",
    "    elif guess<answer:\n",
    "        print(\"Up!\")\n",
    "    elif guess>answer:\n",
    "        print(\"down!\")\n",
    "        \n",
    "print(\"You lose! The answer is {}\".format(answer))\n"
   ]
  },
  {
   "cell_type": "code",
   "execution_count": 303,
   "metadata": {},
   "outputs": [
    {
     "name": "stdout",
     "output_type": "stream",
     "text": [
      "Answer: 12\n",
      "Choose lever(1-easy 10-hard)5\n",
      "Guess the number(1-100): 1\n",
      "Up! You have 4 life(s)\n",
      "Guess the number(1-100): 2\n",
      "Up! You have 3 life(s)\n",
      "Guess the number(1-100): 4\n",
      "Up! You have 2 life(s)\n",
      "Guess the number(1-100): 5\n",
      "Up! You have 1 life(s)\n",
      "Guess the number(1-100): 6\n",
      "Up! You have 0 life(s)\n",
      "You lose! The answer is 12\n"
     ]
    }
   ],
   "source": [
    "import random\n",
    "\n",
    "answer = random.randint(1,50)\n",
    "print('Answer: {}'.format(answer))\n",
    "chance = int(input('Choose lever(1-easy 10-hard)'))\n",
    "\n",
    "while chance>0:\n",
    "    guess = int(input(\"Guess the number(1-100): \"))\n",
    "    if guess-answer == 0:\n",
    "        print(\"Correct!\")\n",
    "        break\n",
    "    elif guess<answer:\n",
    "        msg = 'Up!'\n",
    "    elif guess>answer:\n",
    "        msg = 'Down!'\n",
    "    chance -= 1\n",
    "    print(\"{} You have {} life(s)\".format(msg, chance))\n",
    "    \n",
    "    if chance ==0:\n",
    "        print(\"You lose! The answer is {}\".format(answer))"
   ]
  },
  {
   "cell_type": "code",
   "execution_count": 7,
   "metadata": {},
   "outputs": [
    {
     "name": "stdout",
     "output_type": "stream",
     "text": [
      "Enter the number(0~950): 5\n",
      "1 1\n",
      "2 2\n",
      "3 6\n",
      "4 24\n",
      "5 120\n",
      "5!의 결과는 120\n"
     ]
    }
   ],
   "source": [
    "# Homework\n",
    "# ver.Iterative\n",
    "# 3! = 3*2*1 다시말하면 1*2*3과 같음\n",
    "\n",
    "user_num = int(input('Enter the number(0~950): '))\n",
    "result = 1\n",
    "for i in range(1, user_num+1):\n",
    "    result *= i\n",
    "    print(i,result)\n",
    "print(\"{}!의 결과는 {}\".format(user_num, result))\n"
   ]
  },
  {
   "cell_type": "code",
   "execution_count": 2,
   "metadata": {},
   "outputs": [
    {
     "name": "stdout",
     "output_type": "stream",
     "text": [
      "Enter the number(0~950): 5\n",
      "5!의 결과는 120\n"
     ]
    }
   ],
   "source": [
    "# Homework\n",
    "# ver.Recursive(자기자신을 불러내는 함수)\n",
    "\n",
    "user_num1 = int(input('Enter the number(0~950): '))\n",
    "def factorial(num):\n",
    "    if num <= 2:  # 2! or 1! 같은 경우를 생각해야 함\n",
    "        return num\n",
    "    else:\n",
    "        return num * factorial(num-1)\n",
    "     \n",
    "result = factorial(user_num1)\n",
    "print(\"{}!의 결과는 {}\".format(user_num1, result))\n"
   ]
  },
  {
   "cell_type": "code",
   "execution_count": 78,
   "metadata": {},
   "outputs": [
    {
     "name": "stdout",
     "output_type": "stream",
     "text": [
      "How many times do you want: 10000\n",
      "총 횟수: 10000번 \n",
      "선택을 유지할 경우 스포츠카를 얻을 확률(%): 32.84, \n",
      "선택을 바꿀 경우 스포츠카를 얻을 확률(%): 67.15\n",
      ">> 결과적으로 몬티홀 문제는 선택을 바꾸는 것이 유리하다\n"
     ]
    }
   ],
   "source": [
    "# 몬티홀 문제\n",
    "import random\n",
    "\n",
    "\n",
    "trial = int(input(\"How many times do you want: \"))\n",
    "stay = 0\n",
    "change = 0\n",
    "\n",
    "for i in range(1,trial):\n",
    "    door = [0,0,1]\n",
    "    random.shuffle(door)\n",
    "    user_choice = door.pop()\n",
    "    door.remove(0)\n",
    "    if user_choice == 1:\n",
    "        stay += 1\n",
    "    else:\n",
    "        change += 1\n",
    "print('총 횟수: {}번 \\n선택을 유지할 경우 스포츠카를 얻을 확률(%): {}, \\n선택을 바꿀 경우 스포츠카를 얻을 확률(%): {}'.format(trial, (stay/trial)*100, (change/trial)*100))\n",
    "print(\">> 결과적으로 몬티홀 문제는 선택을 바꾸는 것이 유리하다\")"
   ]
  },
  {
   "cell_type": "code",
   "execution_count": null,
   "metadata": {},
   "outputs": [],
   "source": [
    "\n"
   ]
  },
  {
   "cell_type": "code",
   "execution_count": null,
   "metadata": {},
   "outputs": [],
   "source": []
  },
  {
   "cell_type": "code",
   "execution_count": null,
   "metadata": {},
   "outputs": [],
   "source": []
  }
 ],
 "metadata": {
  "kernelspec": {
   "display_name": "Python 3",
   "language": "python",
   "name": "python3"
  },
  "language_info": {
   "codemirror_mode": {
    "name": "ipython",
    "version": 3
   },
   "file_extension": ".py",
   "mimetype": "text/x-python",
   "name": "python",
   "nbconvert_exporter": "python",
   "pygments_lexer": "ipython3",
   "version": "3.8.5"
  }
 },
 "nbformat": 4,
 "nbformat_minor": 4
}
